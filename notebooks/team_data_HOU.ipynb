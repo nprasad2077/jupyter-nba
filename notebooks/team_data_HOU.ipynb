{
 "cells": [
  {
   "cell_type": "markdown",
   "id": "47dec15d",
   "metadata": {},
   "source": [
    "# Houston Rockets"
   ]
  },
  {
   "cell_type": "code",
   "execution_count": 1,
   "metadata": {},
   "outputs": [
    {
     "name": "stderr",
     "output_type": "stream",
     "text": [
      "/tmp/ipykernel_378039/37209037.py:6: DeprecationWarning: \n",
      "Pyarrow will become a required dependency of pandas in the next major release of pandas (pandas 3.0),\n",
      "(to allow more performant data types, such as the Arrow string type, and better interoperability with other libraries)\n",
      "but was not found to be installed on your system.\n",
      "If this would cause problems for you,\n",
      "please provide us feedback at https://github.com/pandas-dev/pandas/issues/54466\n",
      "        \n",
      "  import pandas as pd\n"
     ]
    }
   ],
   "source": [
    "import plotly.graph_objs as go\n",
    "import matplotlib.pyplot as plt\n",
    "import numpy as np\n",
    "from gql import gql, Client\n",
    "from gql.transport.requests import RequestsHTTPTransport\n",
    "import pandas as pd\n",
    "import plotly.express as px"
   ]
  },
  {
   "cell_type": "markdown",
   "id": "ce8932f8",
   "metadata": {},
   "source": [
    "## Find top 30 players by minutes played for the Houston Rockets (NBA)."
   ]
  },
  {
   "cell_type": "code",
   "execution_count": 2,
   "id": "333c2aad",
   "metadata": {},
   "outputs": [
    {
     "name": "stdout",
     "output_type": "stream",
     "text": [
      "{'playerAdvanced': [{'playerName': 'Steve Francis', 'team': 'HOU', 'position': 'PG', 'season': 2003, 'games': 81, 'minutesPlayed': 3318, 'winShares': '11.1', 'box': '3.8', 'id': '12550'}, {'playerName': 'Hakeem Olajuwon*', 'team': 'HOU', 'position': 'C', 'season': 1994, 'games': 80, 'minutesPlayed': 3277, 'winShares': '14.3', 'box': '6.8', 'id': '17379'}, {'playerName': 'Hakeem Olajuwon*', 'team': 'HOU', 'position': 'C', 'season': 1993, 'games': 82, 'minutesPlayed': 3242, 'winShares': '15.8', 'box': '7.5', 'id': '17817'}, {'playerName': 'Cuttino Mobley', 'team': 'HOU', 'position': 'SG', 'season': 2004, 'games': 80, 'minutesPlayed': 3229, 'winShares': '7.6', 'box': '1.4', 'id': '12176'}, {'playerName': 'Steve Francis', 'team': 'HOU', 'position': 'PG', 'season': 2001, 'games': 80, 'minutesPlayed': 3194, 'winShares': '12.2', 'box': '5.0', 'id': '13551'}, {'playerName': 'Steve Francis', 'team': 'HOU', 'position': 'PG', 'season': 2004, 'games': 79, 'minutesPlayed': 3194, 'winShares': '7.1', 'box': '1.4', 'id': '12002'}, {'playerName': 'Tracy McGrady*', 'team': 'HOU', 'position': 'SF', 'season': 2005, 'games': 78, 'minutesPlayed': 3182, 'winShares': '12.0', 'box': '6.7', 'id': '11573'}, {'playerName': 'James Harden', 'team': 'HOU', 'position': 'SG', 'season': 2016, 'games': 82, 'minutesPlayed': 3125, 'winShares': '13.3', 'box': '6.6', 'id': '5021'}, {'playerName': 'Jim Jackson', 'team': 'HOU', 'position': 'SF', 'season': 2004, 'games': 80, 'minutesPlayed': 3119, 'winShares': '6.6', 'box': '0.6', 'id': '12073'}, {'playerName': 'Cuttino Mobley', 'team': 'HOU', 'position': 'SG', 'season': 2002, 'games': 74, 'minutesPlayed': 3116, 'winShares': '5.7', 'box': '0.3', 'id': '13204'}, {'playerName': 'Cuttino Mobley', 'team': 'HOU', 'position': 'SG', 'season': 2003, 'games': 73, 'minutesPlayed': 3044, 'winShares': '6.9', 'box': '0.2', 'id': '12703'}, {'playerName': 'Rafer Alston', 'team': 'HOU', 'position': 'PG', 'season': 2007, 'games': 82, 'minutesPlayed': 3040, 'winShares': '6.6', 'box': '0.6', 'id': '10166'}, {'playerName': 'Cuttino Mobley', 'team': 'HOU', 'position': 'SG', 'season': 2001, 'games': 79, 'minutesPlayed': 3002, 'winShares': '8.2', 'box': '0.9', 'id': '13722'}, {'playerName': 'Shane Battier', 'team': 'HOU', 'position': 'SF', 'season': 2007, 'games': 82, 'minutesPlayed': 2988, 'winShares': '9.0', 'box': '2.3', 'id': '10195'}, {'playerName': 'James Harden', 'team': 'HOU', 'position': 'SG', 'season': 2013, 'games': 78, 'minutesPlayed': 2985, 'winShares': '12.8', 'box': '5.6', 'id': '6863'}, {'playerName': 'James Harden', 'team': 'HOU', 'position': 'SG', 'season': 2015, 'games': 81, 'minutesPlayed': 2981, 'winShares': '16.4', 'box': '8.8', 'id': '5645'}, {'playerName': 'James Harden', 'team': 'HOU', 'position': 'PG', 'season': 2017, 'games': 81, 'minutesPlayed': 2947, 'winShares': '15.0', 'box': '8.7', 'id': '4431'}, {'playerName': 'Trevor Ariza', 'team': 'HOU', 'position': 'SF', 'season': 2015, 'games': 82, 'minutesPlayed': 2930, 'winShares': '6.6', 'box': '1.0', 'id': '5418'}, {'playerName': 'Aaron Brooks', 'team': 'HOU', 'position': 'PG', 'season': 2010, 'games': 82, 'minutesPlayed': 2919, 'winShares': '5.5', 'box': '0.7', 'id': '8478'}, {'playerName': 'Otis Thorpe', 'team': 'HOU', 'position': 'PF', 'season': 1994, 'games': 82, 'minutesPlayed': 2909, 'winShares': '9.8', 'box': '0.3', 'id': '17474'}, {'playerName': 'Shane Battier', 'team': 'HOU', 'position': 'SF', 'season': 2008, 'games': 80, 'minutesPlayed': 2907, 'winShares': '8.2', 'box': '2.0', 'id': '9607'}, {'playerName': 'James Harden', 'team': 'HOU', 'position': 'PG', 'season': 2019, 'games': 78, 'minutesPlayed': 2867, 'winShares': '15.2', 'box': '11.0', 'id': '3118'}, {'playerName': 'Trevor Ariza', 'team': 'HOU', 'position': 'SF', 'season': 2016, 'games': 81, 'minutesPlayed': 2859, 'winShares': '5.4', 'box': '0.4', 'id': '4840'}, {'playerName': 'Hakeem Olajuwon*', 'team': 'HOU', 'position': 'C', 'season': 1995, 'games': 72, 'minutesPlayed': 2853, 'winShares': '10.7', 'box': '5.4', 'id': '16895'}, {'playerName': 'Hakeem Olajuwon*', 'team': 'HOU', 'position': 'C', 'season': 1997, 'games': 78, 'minutesPlayed': 2852, 'winShares': '9.1', 'box': '3.5', 'id': '15860'}, {'playerName': 'P.J. Tucker', 'team': 'HOU', 'position': 'PF', 'season': 2019, 'games': 82, 'minutesPlayed': 2802, 'winShares': '5.0', 'box': '-0.6', 'id': '3499'}, {'playerName': 'Hakeem Olajuwon*', 'team': 'HOU', 'position': 'C', 'season': 1996, 'games': 72, 'minutesPlayed': 2797, 'winShares': '9.7', 'box': '4.9', 'id': '16395'}, {'playerName': 'Chandler Parsons', 'team': 'HOU', 'position': 'SF', 'season': 2014, 'games': 74, 'minutesPlayed': 2783, 'winShares': '7.6', 'box': '1.7', 'id': '6485'}, {'playerName': 'James Harden', 'team': 'HOU', 'position': 'SG', 'season': 2014, 'games': 73, 'minutesPlayed': 2777, 'winShares': '12.8', 'box': '5.6', 'id': '6296'}, {'playerName': 'Steve Francis', 'team': 'HOU', 'position': 'PG', 'season': 2000, 'games': 77, 'minutesPlayed': 2776, 'winShares': '6.4', 'box': '2.0', 'id': '14087'}]}\n"
     ]
    }
   ],
   "source": [
    "# Setup the transport and client\n",
    "_transport = RequestsHTTPTransport(\n",
    "    url='http://127.0.0.1:8000/graphql/',\n",
    "    use_json=True,\n",
    ")\n",
    "\n",
    "client = Client(\n",
    "    transport = _transport,\n",
    "    fetch_schema_from_transport=True,\n",
    ")\n",
    "\n",
    "# Define Query\n",
    "query = gql('''\n",
    "query playerAdvHouston {\n",
    "  playerAdvanced(team: \"HOU\", ordering: \"-minutes_played\", limit: 30) {\n",
    "    playerName\n",
    "    team\n",
    "    position\n",
    "    season\n",
    "    games\n",
    "    minutesPlayed\n",
    "    winShares\n",
    "    box\n",
    "    id\n",
    "  }\n",
    "}\n",
    "''')\n",
    "\n",
    "# Execute and store response\n",
    "\n",
    "response = client.execute(query)\n",
    "\n",
    "print(response)"
   ]
  },
  {
   "cell_type": "code",
   "execution_count": 3,
   "id": "7130666b",
   "metadata": {},
   "outputs": [
    {
     "data": {
      "text/plain": [
       "(playerName        object\n",
       " team              object\n",
       " position          object\n",
       " season             int64\n",
       " games              int64\n",
       " minutesPlayed      int64\n",
       " winShares        float64\n",
       " box               object\n",
       " id                object\n",
       " dtype: object,\n",
       "          playerName team position  season  games  minutesPlayed  winShares  \\\n",
       " 0     Steve Francis  HOU       PG    2003     81           3318       11.1   \n",
       " 1  Hakeem Olajuwon*  HOU        C    1994     80           3277       14.3   \n",
       " 2  Hakeem Olajuwon*  HOU        C    1993     82           3242       15.8   \n",
       " 3    Cuttino Mobley  HOU       SG    2004     80           3229        7.6   \n",
       " 4     Steve Francis  HOU       PG    2001     80           3194       12.2   \n",
       " \n",
       "    box     id  \n",
       " 0  3.8  12550  \n",
       " 1  6.8  17379  \n",
       " 2  7.5  17817  \n",
       " 3  1.4  12176  \n",
       " 4  5.0  13551  )"
      ]
     },
     "execution_count": 3,
     "metadata": {},
     "output_type": "execute_result"
    }
   ],
   "source": [
    "# Convert JSON to data frame\n",
    "\n",
    "df = pd.DataFrame(response['playerAdvanced'])\n",
    "\n",
    "df['winShares'] = df['winShares'].astype(float)\n",
    "\n",
    "# Verify types and DataFrame\n",
    "\n",
    "df.dtypes, df.head()"
   ]
  },
  {
   "cell_type": "code",
   "execution_count": 5,
   "id": "e0d37020",
   "metadata": {},
   "outputs": [
    {
     "data": {
      "application/vnd.plotly.v1+json": {
       "config": {
        "plotlyServerURL": "https://plot.ly"
       },
       "data": [
        {
         "customdata": [
          [
           "Steve Francis",
           2003,
           "HOU",
           "PG",
           "12550"
          ],
          [
           "Hakeem Olajuwon*",
           1994,
           "HOU",
           "C",
           "17379"
          ],
          [
           "Hakeem Olajuwon*",
           1993,
           "HOU",
           "C",
           "17817"
          ],
          [
           "Cuttino Mobley",
           2004,
           "HOU",
           "SG",
           "12176"
          ],
          [
           "Steve Francis",
           2001,
           "HOU",
           "PG",
           "13551"
          ],
          [
           "Steve Francis",
           2004,
           "HOU",
           "PG",
           "12002"
          ],
          [
           "Tracy McGrady*",
           2005,
           "HOU",
           "SF",
           "11573"
          ],
          [
           "James Harden",
           2016,
           "HOU",
           "SG",
           "5021"
          ],
          [
           "Jim Jackson",
           2004,
           "HOU",
           "SF",
           "12073"
          ],
          [
           "Cuttino Mobley",
           2002,
           "HOU",
           "SG",
           "13204"
          ],
          [
           "Cuttino Mobley",
           2003,
           "HOU",
           "SG",
           "12703"
          ],
          [
           "Rafer Alston",
           2007,
           "HOU",
           "PG",
           "10166"
          ],
          [
           "Cuttino Mobley",
           2001,
           "HOU",
           "SG",
           "13722"
          ],
          [
           "Shane Battier",
           2007,
           "HOU",
           "SF",
           "10195"
          ],
          [
           "James Harden",
           2013,
           "HOU",
           "SG",
           "6863"
          ],
          [
           "James Harden",
           2015,
           "HOU",
           "SG",
           "5645"
          ],
          [
           "James Harden",
           2017,
           "HOU",
           "PG",
           "4431"
          ],
          [
           "Trevor Ariza",
           2015,
           "HOU",
           "SF",
           "5418"
          ],
          [
           "Aaron Brooks",
           2010,
           "HOU",
           "PG",
           "8478"
          ],
          [
           "Otis Thorpe",
           1994,
           "HOU",
           "PF",
           "17474"
          ],
          [
           "Shane Battier",
           2008,
           "HOU",
           "SF",
           "9607"
          ],
          [
           "James Harden",
           2019,
           "HOU",
           "PG",
           "3118"
          ],
          [
           "Trevor Ariza",
           2016,
           "HOU",
           "SF",
           "4840"
          ],
          [
           "Hakeem Olajuwon*",
           1995,
           "HOU",
           "C",
           "16895"
          ],
          [
           "Hakeem Olajuwon*",
           1997,
           "HOU",
           "C",
           "15860"
          ],
          [
           "P.J. Tucker",
           2019,
           "HOU",
           "PF",
           "3499"
          ],
          [
           "Hakeem Olajuwon*",
           1996,
           "HOU",
           "C",
           "16395"
          ],
          [
           "Chandler Parsons",
           2014,
           "HOU",
           "SF",
           "6485"
          ],
          [
           "James Harden",
           2014,
           "HOU",
           "SG",
           "6296"
          ],
          [
           "Steve Francis",
           2000,
           "HOU",
           "PG",
           "14087"
          ]
         ],
         "hovertemplate": "minutesPlayed=%{x}<br>Win Shares=%{y}<br>playerName=%{customdata[0]}<br>season=%{customdata[1]}<br>team=%{customdata[2]}<br>position=%{customdata[3]}<br>id=%{customdata[4]}<extra></extra>",
         "legendgroup": "",
         "marker": {
          "color": "#636efa",
          "symbol": "circle"
         },
         "mode": "markers",
         "name": "",
         "orientation": "v",
         "showlegend": false,
         "type": "scatter",
         "x": [
          3318,
          3277,
          3242,
          3229,
          3194,
          3194,
          3182,
          3125,
          3119,
          3116,
          3044,
          3040,
          3002,
          2988,
          2985,
          2981,
          2947,
          2930,
          2919,
          2909,
          2907,
          2867,
          2859,
          2853,
          2852,
          2802,
          2797,
          2783,
          2777,
          2776
         ],
         "xaxis": "x",
         "y": [
          11.1,
          14.3,
          15.8,
          7.6,
          12.2,
          7.1,
          12,
          13.3,
          6.6,
          5.7,
          6.9,
          6.6,
          8.2,
          9,
          12.8,
          16.4,
          15,
          6.6,
          5.5,
          9.8,
          8.2,
          15.2,
          5.4,
          10.7,
          9.1,
          5,
          9.7,
          7.6,
          12.8,
          6.4
         ],
         "yaxis": "y"
        }
       ],
       "layout": {
        "legend": {
         "tracegroupgap": 0
        },
        "template": {
         "data": {
          "bar": [
           {
            "error_x": {
             "color": "#2a3f5f"
            },
            "error_y": {
             "color": "#2a3f5f"
            },
            "marker": {
             "line": {
              "color": "#E5ECF6",
              "width": 0.5
             },
             "pattern": {
              "fillmode": "overlay",
              "size": 10,
              "solidity": 0.2
             }
            },
            "type": "bar"
           }
          ],
          "barpolar": [
           {
            "marker": {
             "line": {
              "color": "#E5ECF6",
              "width": 0.5
             },
             "pattern": {
              "fillmode": "overlay",
              "size": 10,
              "solidity": 0.2
             }
            },
            "type": "barpolar"
           }
          ],
          "carpet": [
           {
            "aaxis": {
             "endlinecolor": "#2a3f5f",
             "gridcolor": "white",
             "linecolor": "white",
             "minorgridcolor": "white",
             "startlinecolor": "#2a3f5f"
            },
            "baxis": {
             "endlinecolor": "#2a3f5f",
             "gridcolor": "white",
             "linecolor": "white",
             "minorgridcolor": "white",
             "startlinecolor": "#2a3f5f"
            },
            "type": "carpet"
           }
          ],
          "choropleth": [
           {
            "colorbar": {
             "outlinewidth": 0,
             "ticks": ""
            },
            "type": "choropleth"
           }
          ],
          "contour": [
           {
            "colorbar": {
             "outlinewidth": 0,
             "ticks": ""
            },
            "colorscale": [
             [
              0,
              "#0d0887"
             ],
             [
              0.1111111111111111,
              "#46039f"
             ],
             [
              0.2222222222222222,
              "#7201a8"
             ],
             [
              0.3333333333333333,
              "#9c179e"
             ],
             [
              0.4444444444444444,
              "#bd3786"
             ],
             [
              0.5555555555555556,
              "#d8576b"
             ],
             [
              0.6666666666666666,
              "#ed7953"
             ],
             [
              0.7777777777777778,
              "#fb9f3a"
             ],
             [
              0.8888888888888888,
              "#fdca26"
             ],
             [
              1,
              "#f0f921"
             ]
            ],
            "type": "contour"
           }
          ],
          "contourcarpet": [
           {
            "colorbar": {
             "outlinewidth": 0,
             "ticks": ""
            },
            "type": "contourcarpet"
           }
          ],
          "heatmap": [
           {
            "colorbar": {
             "outlinewidth": 0,
             "ticks": ""
            },
            "colorscale": [
             [
              0,
              "#0d0887"
             ],
             [
              0.1111111111111111,
              "#46039f"
             ],
             [
              0.2222222222222222,
              "#7201a8"
             ],
             [
              0.3333333333333333,
              "#9c179e"
             ],
             [
              0.4444444444444444,
              "#bd3786"
             ],
             [
              0.5555555555555556,
              "#d8576b"
             ],
             [
              0.6666666666666666,
              "#ed7953"
             ],
             [
              0.7777777777777778,
              "#fb9f3a"
             ],
             [
              0.8888888888888888,
              "#fdca26"
             ],
             [
              1,
              "#f0f921"
             ]
            ],
            "type": "heatmap"
           }
          ],
          "heatmapgl": [
           {
            "colorbar": {
             "outlinewidth": 0,
             "ticks": ""
            },
            "colorscale": [
             [
              0,
              "#0d0887"
             ],
             [
              0.1111111111111111,
              "#46039f"
             ],
             [
              0.2222222222222222,
              "#7201a8"
             ],
             [
              0.3333333333333333,
              "#9c179e"
             ],
             [
              0.4444444444444444,
              "#bd3786"
             ],
             [
              0.5555555555555556,
              "#d8576b"
             ],
             [
              0.6666666666666666,
              "#ed7953"
             ],
             [
              0.7777777777777778,
              "#fb9f3a"
             ],
             [
              0.8888888888888888,
              "#fdca26"
             ],
             [
              1,
              "#f0f921"
             ]
            ],
            "type": "heatmapgl"
           }
          ],
          "histogram": [
           {
            "marker": {
             "pattern": {
              "fillmode": "overlay",
              "size": 10,
              "solidity": 0.2
             }
            },
            "type": "histogram"
           }
          ],
          "histogram2d": [
           {
            "colorbar": {
             "outlinewidth": 0,
             "ticks": ""
            },
            "colorscale": [
             [
              0,
              "#0d0887"
             ],
             [
              0.1111111111111111,
              "#46039f"
             ],
             [
              0.2222222222222222,
              "#7201a8"
             ],
             [
              0.3333333333333333,
              "#9c179e"
             ],
             [
              0.4444444444444444,
              "#bd3786"
             ],
             [
              0.5555555555555556,
              "#d8576b"
             ],
             [
              0.6666666666666666,
              "#ed7953"
             ],
             [
              0.7777777777777778,
              "#fb9f3a"
             ],
             [
              0.8888888888888888,
              "#fdca26"
             ],
             [
              1,
              "#f0f921"
             ]
            ],
            "type": "histogram2d"
           }
          ],
          "histogram2dcontour": [
           {
            "colorbar": {
             "outlinewidth": 0,
             "ticks": ""
            },
            "colorscale": [
             [
              0,
              "#0d0887"
             ],
             [
              0.1111111111111111,
              "#46039f"
             ],
             [
              0.2222222222222222,
              "#7201a8"
             ],
             [
              0.3333333333333333,
              "#9c179e"
             ],
             [
              0.4444444444444444,
              "#bd3786"
             ],
             [
              0.5555555555555556,
              "#d8576b"
             ],
             [
              0.6666666666666666,
              "#ed7953"
             ],
             [
              0.7777777777777778,
              "#fb9f3a"
             ],
             [
              0.8888888888888888,
              "#fdca26"
             ],
             [
              1,
              "#f0f921"
             ]
            ],
            "type": "histogram2dcontour"
           }
          ],
          "mesh3d": [
           {
            "colorbar": {
             "outlinewidth": 0,
             "ticks": ""
            },
            "type": "mesh3d"
           }
          ],
          "parcoords": [
           {
            "line": {
             "colorbar": {
              "outlinewidth": 0,
              "ticks": ""
             }
            },
            "type": "parcoords"
           }
          ],
          "pie": [
           {
            "automargin": true,
            "type": "pie"
           }
          ],
          "scatter": [
           {
            "fillpattern": {
             "fillmode": "overlay",
             "size": 10,
             "solidity": 0.2
            },
            "type": "scatter"
           }
          ],
          "scatter3d": [
           {
            "line": {
             "colorbar": {
              "outlinewidth": 0,
              "ticks": ""
             }
            },
            "marker": {
             "colorbar": {
              "outlinewidth": 0,
              "ticks": ""
             }
            },
            "type": "scatter3d"
           }
          ],
          "scattercarpet": [
           {
            "marker": {
             "colorbar": {
              "outlinewidth": 0,
              "ticks": ""
             }
            },
            "type": "scattercarpet"
           }
          ],
          "scattergeo": [
           {
            "marker": {
             "colorbar": {
              "outlinewidth": 0,
              "ticks": ""
             }
            },
            "type": "scattergeo"
           }
          ],
          "scattergl": [
           {
            "marker": {
             "colorbar": {
              "outlinewidth": 0,
              "ticks": ""
             }
            },
            "type": "scattergl"
           }
          ],
          "scattermapbox": [
           {
            "marker": {
             "colorbar": {
              "outlinewidth": 0,
              "ticks": ""
             }
            },
            "type": "scattermapbox"
           }
          ],
          "scatterpolar": [
           {
            "marker": {
             "colorbar": {
              "outlinewidth": 0,
              "ticks": ""
             }
            },
            "type": "scatterpolar"
           }
          ],
          "scatterpolargl": [
           {
            "marker": {
             "colorbar": {
              "outlinewidth": 0,
              "ticks": ""
             }
            },
            "type": "scatterpolargl"
           }
          ],
          "scatterternary": [
           {
            "marker": {
             "colorbar": {
              "outlinewidth": 0,
              "ticks": ""
             }
            },
            "type": "scatterternary"
           }
          ],
          "surface": [
           {
            "colorbar": {
             "outlinewidth": 0,
             "ticks": ""
            },
            "colorscale": [
             [
              0,
              "#0d0887"
             ],
             [
              0.1111111111111111,
              "#46039f"
             ],
             [
              0.2222222222222222,
              "#7201a8"
             ],
             [
              0.3333333333333333,
              "#9c179e"
             ],
             [
              0.4444444444444444,
              "#bd3786"
             ],
             [
              0.5555555555555556,
              "#d8576b"
             ],
             [
              0.6666666666666666,
              "#ed7953"
             ],
             [
              0.7777777777777778,
              "#fb9f3a"
             ],
             [
              0.8888888888888888,
              "#fdca26"
             ],
             [
              1,
              "#f0f921"
             ]
            ],
            "type": "surface"
           }
          ],
          "table": [
           {
            "cells": {
             "fill": {
              "color": "#EBF0F8"
             },
             "line": {
              "color": "white"
             }
            },
            "header": {
             "fill": {
              "color": "#C8D4E3"
             },
             "line": {
              "color": "white"
             }
            },
            "type": "table"
           }
          ]
         },
         "layout": {
          "annotationdefaults": {
           "arrowcolor": "#2a3f5f",
           "arrowhead": 0,
           "arrowwidth": 1
          },
          "autotypenumbers": "strict",
          "coloraxis": {
           "colorbar": {
            "outlinewidth": 0,
            "ticks": ""
           }
          },
          "colorscale": {
           "diverging": [
            [
             0,
             "#8e0152"
            ],
            [
             0.1,
             "#c51b7d"
            ],
            [
             0.2,
             "#de77ae"
            ],
            [
             0.3,
             "#f1b6da"
            ],
            [
             0.4,
             "#fde0ef"
            ],
            [
             0.5,
             "#f7f7f7"
            ],
            [
             0.6,
             "#e6f5d0"
            ],
            [
             0.7,
             "#b8e186"
            ],
            [
             0.8,
             "#7fbc41"
            ],
            [
             0.9,
             "#4d9221"
            ],
            [
             1,
             "#276419"
            ]
           ],
           "sequential": [
            [
             0,
             "#0d0887"
            ],
            [
             0.1111111111111111,
             "#46039f"
            ],
            [
             0.2222222222222222,
             "#7201a8"
            ],
            [
             0.3333333333333333,
             "#9c179e"
            ],
            [
             0.4444444444444444,
             "#bd3786"
            ],
            [
             0.5555555555555556,
             "#d8576b"
            ],
            [
             0.6666666666666666,
             "#ed7953"
            ],
            [
             0.7777777777777778,
             "#fb9f3a"
            ],
            [
             0.8888888888888888,
             "#fdca26"
            ],
            [
             1,
             "#f0f921"
            ]
           ],
           "sequentialminus": [
            [
             0,
             "#0d0887"
            ],
            [
             0.1111111111111111,
             "#46039f"
            ],
            [
             0.2222222222222222,
             "#7201a8"
            ],
            [
             0.3333333333333333,
             "#9c179e"
            ],
            [
             0.4444444444444444,
             "#bd3786"
            ],
            [
             0.5555555555555556,
             "#d8576b"
            ],
            [
             0.6666666666666666,
             "#ed7953"
            ],
            [
             0.7777777777777778,
             "#fb9f3a"
            ],
            [
             0.8888888888888888,
             "#fdca26"
            ],
            [
             1,
             "#f0f921"
            ]
           ]
          },
          "colorway": [
           "#636efa",
           "#EF553B",
           "#00cc96",
           "#ab63fa",
           "#FFA15A",
           "#19d3f3",
           "#FF6692",
           "#B6E880",
           "#FF97FF",
           "#FECB52"
          ],
          "font": {
           "color": "#2a3f5f"
          },
          "geo": {
           "bgcolor": "white",
           "lakecolor": "white",
           "landcolor": "#E5ECF6",
           "showlakes": true,
           "showland": true,
           "subunitcolor": "white"
          },
          "hoverlabel": {
           "align": "left"
          },
          "hovermode": "closest",
          "mapbox": {
           "style": "light"
          },
          "paper_bgcolor": "white",
          "plot_bgcolor": "#E5ECF6",
          "polar": {
           "angularaxis": {
            "gridcolor": "white",
            "linecolor": "white",
            "ticks": ""
           },
           "bgcolor": "#E5ECF6",
           "radialaxis": {
            "gridcolor": "white",
            "linecolor": "white",
            "ticks": ""
           }
          },
          "scene": {
           "xaxis": {
            "backgroundcolor": "#E5ECF6",
            "gridcolor": "white",
            "gridwidth": 2,
            "linecolor": "white",
            "showbackground": true,
            "ticks": "",
            "zerolinecolor": "white"
           },
           "yaxis": {
            "backgroundcolor": "#E5ECF6",
            "gridcolor": "white",
            "gridwidth": 2,
            "linecolor": "white",
            "showbackground": true,
            "ticks": "",
            "zerolinecolor": "white"
           },
           "zaxis": {
            "backgroundcolor": "#E5ECF6",
            "gridcolor": "white",
            "gridwidth": 2,
            "linecolor": "white",
            "showbackground": true,
            "ticks": "",
            "zerolinecolor": "white"
           }
          },
          "shapedefaults": {
           "line": {
            "color": "#2a3f5f"
           }
          },
          "ternary": {
           "aaxis": {
            "gridcolor": "white",
            "linecolor": "white",
            "ticks": ""
           },
           "baxis": {
            "gridcolor": "white",
            "linecolor": "white",
            "ticks": ""
           },
           "bgcolor": "#E5ECF6",
           "caxis": {
            "gridcolor": "white",
            "linecolor": "white",
            "ticks": ""
           }
          },
          "title": {
           "x": 0.05
          },
          "xaxis": {
           "automargin": true,
           "gridcolor": "white",
           "linecolor": "white",
           "ticks": "",
           "title": {
            "standoff": 15
           },
           "zerolinecolor": "white",
           "zerolinewidth": 2
          },
          "yaxis": {
           "automargin": true,
           "gridcolor": "white",
           "linecolor": "white",
           "ticks": "",
           "title": {
            "standoff": 15
           },
           "zerolinecolor": "white",
           "zerolinewidth": 2
          }
         }
        },
        "title": {
         "text": "Top 30 Players by Minutes Played vs. Win Shares for the Houston Rockets"
        },
        "xaxis": {
         "anchor": "y",
         "domain": [
          0,
          1
         ],
         "title": {
          "text": "minutesPlayed"
         }
        },
        "yaxis": {
         "anchor": "x",
         "domain": [
          0,
          1
         ],
         "title": {
          "text": "Win Shares"
         }
        }
       }
      },
      "text/html": [
       "<div>                            <div id=\"f95ee99c-f536-4810-ba85-c0dcc1060259\" class=\"plotly-graph-div\" style=\"height:525px; width:100%;\"></div>            <script type=\"text/javascript\">                require([\"plotly\"], function(Plotly) {                    window.PLOTLYENV=window.PLOTLYENV || {};                                    if (document.getElementById(\"f95ee99c-f536-4810-ba85-c0dcc1060259\")) {                    Plotly.newPlot(                        \"f95ee99c-f536-4810-ba85-c0dcc1060259\",                        [{\"customdata\":[[\"Steve Francis\",2003,\"HOU\",\"PG\",\"12550\"],[\"Hakeem Olajuwon*\",1994,\"HOU\",\"C\",\"17379\"],[\"Hakeem Olajuwon*\",1993,\"HOU\",\"C\",\"17817\"],[\"Cuttino Mobley\",2004,\"HOU\",\"SG\",\"12176\"],[\"Steve Francis\",2001,\"HOU\",\"PG\",\"13551\"],[\"Steve Francis\",2004,\"HOU\",\"PG\",\"12002\"],[\"Tracy McGrady*\",2005,\"HOU\",\"SF\",\"11573\"],[\"James Harden\",2016,\"HOU\",\"SG\",\"5021\"],[\"Jim Jackson\",2004,\"HOU\",\"SF\",\"12073\"],[\"Cuttino Mobley\",2002,\"HOU\",\"SG\",\"13204\"],[\"Cuttino Mobley\",2003,\"HOU\",\"SG\",\"12703\"],[\"Rafer Alston\",2007,\"HOU\",\"PG\",\"10166\"],[\"Cuttino Mobley\",2001,\"HOU\",\"SG\",\"13722\"],[\"Shane Battier\",2007,\"HOU\",\"SF\",\"10195\"],[\"James Harden\",2013,\"HOU\",\"SG\",\"6863\"],[\"James Harden\",2015,\"HOU\",\"SG\",\"5645\"],[\"James Harden\",2017,\"HOU\",\"PG\",\"4431\"],[\"Trevor Ariza\",2015,\"HOU\",\"SF\",\"5418\"],[\"Aaron Brooks\",2010,\"HOU\",\"PG\",\"8478\"],[\"Otis Thorpe\",1994,\"HOU\",\"PF\",\"17474\"],[\"Shane Battier\",2008,\"HOU\",\"SF\",\"9607\"],[\"James Harden\",2019,\"HOU\",\"PG\",\"3118\"],[\"Trevor Ariza\",2016,\"HOU\",\"SF\",\"4840\"],[\"Hakeem Olajuwon*\",1995,\"HOU\",\"C\",\"16895\"],[\"Hakeem Olajuwon*\",1997,\"HOU\",\"C\",\"15860\"],[\"P.J. Tucker\",2019,\"HOU\",\"PF\",\"3499\"],[\"Hakeem Olajuwon*\",1996,\"HOU\",\"C\",\"16395\"],[\"Chandler Parsons\",2014,\"HOU\",\"SF\",\"6485\"],[\"James Harden\",2014,\"HOU\",\"SG\",\"6296\"],[\"Steve Francis\",2000,\"HOU\",\"PG\",\"14087\"]],\"hovertemplate\":\"minutesPlayed=%{x}\\u003cbr\\u003eWin Shares=%{y}\\u003cbr\\u003eplayerName=%{customdata[0]}\\u003cbr\\u003eseason=%{customdata[1]}\\u003cbr\\u003eteam=%{customdata[2]}\\u003cbr\\u003eposition=%{customdata[3]}\\u003cbr\\u003eid=%{customdata[4]}\\u003cextra\\u003e\\u003c\\u002fextra\\u003e\",\"legendgroup\":\"\",\"marker\":{\"color\":\"#636efa\",\"symbol\":\"circle\"},\"mode\":\"markers\",\"name\":\"\",\"orientation\":\"v\",\"showlegend\":false,\"x\":[3318,3277,3242,3229,3194,3194,3182,3125,3119,3116,3044,3040,3002,2988,2985,2981,2947,2930,2919,2909,2907,2867,2859,2853,2852,2802,2797,2783,2777,2776],\"xaxis\":\"x\",\"y\":[11.1,14.3,15.8,7.6,12.2,7.1,12.0,13.3,6.6,5.7,6.9,6.6,8.2,9.0,12.8,16.4,15.0,6.6,5.5,9.8,8.2,15.2,5.4,10.7,9.1,5.0,9.7,7.6,12.8,6.4],\"yaxis\":\"y\",\"type\":\"scatter\"}],                        {\"template\":{\"data\":{\"histogram2dcontour\":[{\"type\":\"histogram2dcontour\",\"colorbar\":{\"outlinewidth\":0,\"ticks\":\"\"},\"colorscale\":[[0.0,\"#0d0887\"],[0.1111111111111111,\"#46039f\"],[0.2222222222222222,\"#7201a8\"],[0.3333333333333333,\"#9c179e\"],[0.4444444444444444,\"#bd3786\"],[0.5555555555555556,\"#d8576b\"],[0.6666666666666666,\"#ed7953\"],[0.7777777777777778,\"#fb9f3a\"],[0.8888888888888888,\"#fdca26\"],[1.0,\"#f0f921\"]]}],\"choropleth\":[{\"type\":\"choropleth\",\"colorbar\":{\"outlinewidth\":0,\"ticks\":\"\"}}],\"histogram2d\":[{\"type\":\"histogram2d\",\"colorbar\":{\"outlinewidth\":0,\"ticks\":\"\"},\"colorscale\":[[0.0,\"#0d0887\"],[0.1111111111111111,\"#46039f\"],[0.2222222222222222,\"#7201a8\"],[0.3333333333333333,\"#9c179e\"],[0.4444444444444444,\"#bd3786\"],[0.5555555555555556,\"#d8576b\"],[0.6666666666666666,\"#ed7953\"],[0.7777777777777778,\"#fb9f3a\"],[0.8888888888888888,\"#fdca26\"],[1.0,\"#f0f921\"]]}],\"heatmap\":[{\"type\":\"heatmap\",\"colorbar\":{\"outlinewidth\":0,\"ticks\":\"\"},\"colorscale\":[[0.0,\"#0d0887\"],[0.1111111111111111,\"#46039f\"],[0.2222222222222222,\"#7201a8\"],[0.3333333333333333,\"#9c179e\"],[0.4444444444444444,\"#bd3786\"],[0.5555555555555556,\"#d8576b\"],[0.6666666666666666,\"#ed7953\"],[0.7777777777777778,\"#fb9f3a\"],[0.8888888888888888,\"#fdca26\"],[1.0,\"#f0f921\"]]}],\"heatmapgl\":[{\"type\":\"heatmapgl\",\"colorbar\":{\"outlinewidth\":0,\"ticks\":\"\"},\"colorscale\":[[0.0,\"#0d0887\"],[0.1111111111111111,\"#46039f\"],[0.2222222222222222,\"#7201a8\"],[0.3333333333333333,\"#9c179e\"],[0.4444444444444444,\"#bd3786\"],[0.5555555555555556,\"#d8576b\"],[0.6666666666666666,\"#ed7953\"],[0.7777777777777778,\"#fb9f3a\"],[0.8888888888888888,\"#fdca26\"],[1.0,\"#f0f921\"]]}],\"contourcarpet\":[{\"type\":\"contourcarpet\",\"colorbar\":{\"outlinewidth\":0,\"ticks\":\"\"}}],\"contour\":[{\"type\":\"contour\",\"colorbar\":{\"outlinewidth\":0,\"ticks\":\"\"},\"colorscale\":[[0.0,\"#0d0887\"],[0.1111111111111111,\"#46039f\"],[0.2222222222222222,\"#7201a8\"],[0.3333333333333333,\"#9c179e\"],[0.4444444444444444,\"#bd3786\"],[0.5555555555555556,\"#d8576b\"],[0.6666666666666666,\"#ed7953\"],[0.7777777777777778,\"#fb9f3a\"],[0.8888888888888888,\"#fdca26\"],[1.0,\"#f0f921\"]]}],\"surface\":[{\"type\":\"surface\",\"colorbar\":{\"outlinewidth\":0,\"ticks\":\"\"},\"colorscale\":[[0.0,\"#0d0887\"],[0.1111111111111111,\"#46039f\"],[0.2222222222222222,\"#7201a8\"],[0.3333333333333333,\"#9c179e\"],[0.4444444444444444,\"#bd3786\"],[0.5555555555555556,\"#d8576b\"],[0.6666666666666666,\"#ed7953\"],[0.7777777777777778,\"#fb9f3a\"],[0.8888888888888888,\"#fdca26\"],[1.0,\"#f0f921\"]]}],\"mesh3d\":[{\"type\":\"mesh3d\",\"colorbar\":{\"outlinewidth\":0,\"ticks\":\"\"}}],\"scatter\":[{\"fillpattern\":{\"fillmode\":\"overlay\",\"size\":10,\"solidity\":0.2},\"type\":\"scatter\"}],\"parcoords\":[{\"type\":\"parcoords\",\"line\":{\"colorbar\":{\"outlinewidth\":0,\"ticks\":\"\"}}}],\"scatterpolargl\":[{\"type\":\"scatterpolargl\",\"marker\":{\"colorbar\":{\"outlinewidth\":0,\"ticks\":\"\"}}}],\"bar\":[{\"error_x\":{\"color\":\"#2a3f5f\"},\"error_y\":{\"color\":\"#2a3f5f\"},\"marker\":{\"line\":{\"color\":\"#E5ECF6\",\"width\":0.5},\"pattern\":{\"fillmode\":\"overlay\",\"size\":10,\"solidity\":0.2}},\"type\":\"bar\"}],\"scattergeo\":[{\"type\":\"scattergeo\",\"marker\":{\"colorbar\":{\"outlinewidth\":0,\"ticks\":\"\"}}}],\"scatterpolar\":[{\"type\":\"scatterpolar\",\"marker\":{\"colorbar\":{\"outlinewidth\":0,\"ticks\":\"\"}}}],\"histogram\":[{\"marker\":{\"pattern\":{\"fillmode\":\"overlay\",\"size\":10,\"solidity\":0.2}},\"type\":\"histogram\"}],\"scattergl\":[{\"type\":\"scattergl\",\"marker\":{\"colorbar\":{\"outlinewidth\":0,\"ticks\":\"\"}}}],\"scatter3d\":[{\"type\":\"scatter3d\",\"line\":{\"colorbar\":{\"outlinewidth\":0,\"ticks\":\"\"}},\"marker\":{\"colorbar\":{\"outlinewidth\":0,\"ticks\":\"\"}}}],\"scattermapbox\":[{\"type\":\"scattermapbox\",\"marker\":{\"colorbar\":{\"outlinewidth\":0,\"ticks\":\"\"}}}],\"scatterternary\":[{\"type\":\"scatterternary\",\"marker\":{\"colorbar\":{\"outlinewidth\":0,\"ticks\":\"\"}}}],\"scattercarpet\":[{\"type\":\"scattercarpet\",\"marker\":{\"colorbar\":{\"outlinewidth\":0,\"ticks\":\"\"}}}],\"carpet\":[{\"aaxis\":{\"endlinecolor\":\"#2a3f5f\",\"gridcolor\":\"white\",\"linecolor\":\"white\",\"minorgridcolor\":\"white\",\"startlinecolor\":\"#2a3f5f\"},\"baxis\":{\"endlinecolor\":\"#2a3f5f\",\"gridcolor\":\"white\",\"linecolor\":\"white\",\"minorgridcolor\":\"white\",\"startlinecolor\":\"#2a3f5f\"},\"type\":\"carpet\"}],\"table\":[{\"cells\":{\"fill\":{\"color\":\"#EBF0F8\"},\"line\":{\"color\":\"white\"}},\"header\":{\"fill\":{\"color\":\"#C8D4E3\"},\"line\":{\"color\":\"white\"}},\"type\":\"table\"}],\"barpolar\":[{\"marker\":{\"line\":{\"color\":\"#E5ECF6\",\"width\":0.5},\"pattern\":{\"fillmode\":\"overlay\",\"size\":10,\"solidity\":0.2}},\"type\":\"barpolar\"}],\"pie\":[{\"automargin\":true,\"type\":\"pie\"}]},\"layout\":{\"autotypenumbers\":\"strict\",\"colorway\":[\"#636efa\",\"#EF553B\",\"#00cc96\",\"#ab63fa\",\"#FFA15A\",\"#19d3f3\",\"#FF6692\",\"#B6E880\",\"#FF97FF\",\"#FECB52\"],\"font\":{\"color\":\"#2a3f5f\"},\"hovermode\":\"closest\",\"hoverlabel\":{\"align\":\"left\"},\"paper_bgcolor\":\"white\",\"plot_bgcolor\":\"#E5ECF6\",\"polar\":{\"bgcolor\":\"#E5ECF6\",\"angularaxis\":{\"gridcolor\":\"white\",\"linecolor\":\"white\",\"ticks\":\"\"},\"radialaxis\":{\"gridcolor\":\"white\",\"linecolor\":\"white\",\"ticks\":\"\"}},\"ternary\":{\"bgcolor\":\"#E5ECF6\",\"aaxis\":{\"gridcolor\":\"white\",\"linecolor\":\"white\",\"ticks\":\"\"},\"baxis\":{\"gridcolor\":\"white\",\"linecolor\":\"white\",\"ticks\":\"\"},\"caxis\":{\"gridcolor\":\"white\",\"linecolor\":\"white\",\"ticks\":\"\"}},\"coloraxis\":{\"colorbar\":{\"outlinewidth\":0,\"ticks\":\"\"}},\"colorscale\":{\"sequential\":[[0.0,\"#0d0887\"],[0.1111111111111111,\"#46039f\"],[0.2222222222222222,\"#7201a8\"],[0.3333333333333333,\"#9c179e\"],[0.4444444444444444,\"#bd3786\"],[0.5555555555555556,\"#d8576b\"],[0.6666666666666666,\"#ed7953\"],[0.7777777777777778,\"#fb9f3a\"],[0.8888888888888888,\"#fdca26\"],[1.0,\"#f0f921\"]],\"sequentialminus\":[[0.0,\"#0d0887\"],[0.1111111111111111,\"#46039f\"],[0.2222222222222222,\"#7201a8\"],[0.3333333333333333,\"#9c179e\"],[0.4444444444444444,\"#bd3786\"],[0.5555555555555556,\"#d8576b\"],[0.6666666666666666,\"#ed7953\"],[0.7777777777777778,\"#fb9f3a\"],[0.8888888888888888,\"#fdca26\"],[1.0,\"#f0f921\"]],\"diverging\":[[0,\"#8e0152\"],[0.1,\"#c51b7d\"],[0.2,\"#de77ae\"],[0.3,\"#f1b6da\"],[0.4,\"#fde0ef\"],[0.5,\"#f7f7f7\"],[0.6,\"#e6f5d0\"],[0.7,\"#b8e186\"],[0.8,\"#7fbc41\"],[0.9,\"#4d9221\"],[1,\"#276419\"]]},\"xaxis\":{\"gridcolor\":\"white\",\"linecolor\":\"white\",\"ticks\":\"\",\"title\":{\"standoff\":15},\"zerolinecolor\":\"white\",\"automargin\":true,\"zerolinewidth\":2},\"yaxis\":{\"gridcolor\":\"white\",\"linecolor\":\"white\",\"ticks\":\"\",\"title\":{\"standoff\":15},\"zerolinecolor\":\"white\",\"automargin\":true,\"zerolinewidth\":2},\"scene\":{\"xaxis\":{\"backgroundcolor\":\"#E5ECF6\",\"gridcolor\":\"white\",\"linecolor\":\"white\",\"showbackground\":true,\"ticks\":\"\",\"zerolinecolor\":\"white\",\"gridwidth\":2},\"yaxis\":{\"backgroundcolor\":\"#E5ECF6\",\"gridcolor\":\"white\",\"linecolor\":\"white\",\"showbackground\":true,\"ticks\":\"\",\"zerolinecolor\":\"white\",\"gridwidth\":2},\"zaxis\":{\"backgroundcolor\":\"#E5ECF6\",\"gridcolor\":\"white\",\"linecolor\":\"white\",\"showbackground\":true,\"ticks\":\"\",\"zerolinecolor\":\"white\",\"gridwidth\":2}},\"shapedefaults\":{\"line\":{\"color\":\"#2a3f5f\"}},\"annotationdefaults\":{\"arrowcolor\":\"#2a3f5f\",\"arrowhead\":0,\"arrowwidth\":1},\"geo\":{\"bgcolor\":\"white\",\"landcolor\":\"#E5ECF6\",\"subunitcolor\":\"white\",\"showland\":true,\"showlakes\":true,\"lakecolor\":\"white\"},\"title\":{\"x\":0.05},\"mapbox\":{\"style\":\"light\"}}},\"xaxis\":{\"anchor\":\"y\",\"domain\":[0.0,1.0],\"title\":{\"text\":\"minutesPlayed\"}},\"yaxis\":{\"anchor\":\"x\",\"domain\":[0.0,1.0],\"title\":{\"text\":\"Win Shares\"}},\"legend\":{\"tracegroupgap\":0},\"title\":{\"text\":\"Top 30 Players by Minutes Played vs. Win Shares for the Houston Rockets\"}},                        {\"responsive\": true}                    ).then(function(){\n",
       "                            \n",
       "var gd = document.getElementById('f95ee99c-f536-4810-ba85-c0dcc1060259');\n",
       "var x = new MutationObserver(function (mutations, observer) {{\n",
       "        var display = window.getComputedStyle(gd).display;\n",
       "        if (!display || display === 'none') {{\n",
       "            console.log([gd, 'removed!']);\n",
       "            Plotly.purge(gd);\n",
       "            observer.disconnect();\n",
       "        }}\n",
       "}});\n",
       "\n",
       "// Listen for the removal of the full notebook cells\n",
       "var notebookContainer = gd.closest('#notebook-container');\n",
       "if (notebookContainer) {{\n",
       "    x.observe(notebookContainer, {childList: true});\n",
       "}}\n",
       "\n",
       "// Listen for the clearing of the current output cell\n",
       "var outputEl = gd.closest('.output');\n",
       "if (outputEl) {{\n",
       "    x.observe(outputEl, {childList: true});\n",
       "}}\n",
       "\n",
       "                        })                };                });            </script>        </div>"
      ]
     },
     "metadata": {},
     "output_type": "display_data"
    }
   ],
   "source": [
    "fig = px.scatter(df, x='minutesPlayed', y='winShares', hover_data=['playerName', 'season', 'team', 'position', 'id'], title='Top 30 Players by Minutes Played vs. Win Shares for the Houston Rockets', labels={'minutesPLayed': 'Minutes Played', 'winShares': 'Win Shares'})\n",
    "\n",
    "fig.show()"
   ]
  }
 ],
 "metadata": {
  "kernelspec": {
   "display_name": "venv",
   "language": "python",
   "name": "python3"
  },
  "language_info": {
   "codemirror_mode": {
    "name": "ipython",
    "version": 3
   },
   "file_extension": ".py",
   "mimetype": "text/x-python",
   "name": "python",
   "nbconvert_exporter": "python",
   "pygments_lexer": "ipython3",
   "version": "3.11.2"
  }
 },
 "nbformat": 4,
 "nbformat_minor": 5
}
