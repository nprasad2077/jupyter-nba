{
 "cells": [
  {
   "cell_type": "markdown",
   "metadata": {},
   "source": [
    "# Jaimez Hurden Stats"
   ]
  },
  {
   "cell_type": "code",
   "execution_count": null,
   "metadata": {},
   "outputs": [],
   "source": [
    "import warnings\n",
    "warnings.filterwarnings(\"ignore\", category=DeprecationWarning)\n",
    "\n",
    "import plotly.graph_objs as go\n",
    "import matplotlib.pyplot as plt\n",
    "import numpy as np\n",
    "from gql import gql, Client\n",
    "from gql.transport.requests import RequestsHTTPTransport\n",
    "import pandas as pd\n",
    "import plotly.express as px"
   ]
  },
  {
   "cell_type": "code",
   "execution_count": null,
   "metadata": {},
   "outputs": [],
   "source": [
    "# Setup the transport and client\n",
    "_transport = RequestsHTTPTransport(\n",
    "    url='http://209.38.172.107/graphql/',\n",
    "    use_json=True,\n",
    ")\n",
    "\n",
    "client = Client(\n",
    "    transport = _transport,\n",
    "    fetch_schema_from_transport=True,\n",
    ")\n",
    "\n",
    "# Define Query\n",
    "query = gql('''\n",
    "query playerPointTotals {\n",
    "  playerTotalsAll(limit: 35, ordering: \"-points\") {\n",
    "    playerName\n",
    "    position\n",
    "    team\n",
    "    season\n",
    "    minutesPg\n",
    "    points\n",
    "    id\n",
    "  }\n",
    "}\n",
    "''')\n",
    "\n",
    "# Execute and store response\n",
    "\n",
    "response = client.execute(query)"
   ]
  }
 ],
 "metadata": {
  "kernelspec": {
   "display_name": "venv",
   "language": "python",
   "name": "python3"
  },
  "language_info": {
   "name": "python",
   "version": "3.10.4"
  }
 },
 "nbformat": 4,
 "nbformat_minor": 2
}
