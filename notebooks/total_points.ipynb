{
 "cells": [
  {
   "cell_type": "code",
   "execution_count": 1,
   "id": "63594e0f-0235-4dc7-9c3b-6b68e92daed4",
   "metadata": {},
   "outputs": [],
   "source": [
    "import matplotlib.pyplot as plt\n",
    "import numpy as np"
   ]
  },
  {
   "cell_type": "markdown",
   "id": "0718711e",
   "metadata": {},
   "source": [
    "# Plot the top 20 players by total points since the 1992-1993 NBA Season."
   ]
  },
  {
   "cell_type": "code",
   "execution_count": null,
   "id": "f2d34871",
   "metadata": {},
   "outputs": [],
   "source": []
  }
 ],
 "metadata": {
  "kernelspec": {
   "display_name": "Python 3 (ipykernel)",
   "language": "python",
   "name": "python3"
  },
  "language_info": {
   "codemirror_mode": {
    "name": "ipython",
    "version": 3
   },
   "file_extension": ".py",
   "mimetype": "text/x-python",
   "name": "python",
   "nbconvert_exporter": "python",
   "pygments_lexer": "ipython3",
   "version": "3.11.2"
  }
 },
 "nbformat": 4,
 "nbformat_minor": 5
}
