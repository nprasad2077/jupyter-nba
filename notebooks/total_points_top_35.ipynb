{
 "cells": [
  {
   "cell_type": "markdown",
   "id": "87574ab4",
   "metadata": {},
   "source": [
    "# Plot the top 35 players by total points since the 1992-1993 NBA Season."
   ]
  },
  {
   "cell_type": "code",
   "execution_count": 1,
   "id": "63594e0f-0235-4dc7-9c3b-6b68e92daed4",
   "metadata": {
    "notebookRunGroups": {
     "groupValue": "1"
    }
   },
   "outputs": [],
   "source": [
    "import warnings\n",
    "warnings.filterwarnings(\"ignore\", category=DeprecationWarning)\n",
    "\n",
    "import plotly.graph_objs as go\n",
    "import matplotlib.pyplot as plt\n",
    "import numpy as np\n",
    "from gql import gql, Client\n",
    "from gql.transport.requests import RequestsHTTPTransport\n",
    "import pandas as pd\n",
    "import plotly.express as px\n"
   ]
  },
  {
   "cell_type": "code",
   "execution_count": 2,
   "id": "f2d34871",
   "metadata": {
    "notebookRunGroups": {
     "groupValue": "1"
    }
   },
   "outputs": [
    {
     "name": "stdout",
     "output_type": "stream",
     "text": [
      "{'playerTotalsAll': [{'playerName': 'Kobe Bryant*', 'position': 'SG', 'team': 'LAL', 'season': 2006, 'minutesPg': '3277.0', 'points': 2832, 'id': '10755'}, {'playerName': 'James Harden', 'position': 'PG', 'team': 'HOU', 'season': 2019, 'minutesPg': '2867.0', 'points': 2818, 'id': '3118'}, {'playerName': 'Kevin Durant', 'position': 'SF', 'team': 'OKC', 'season': 2014, 'minutesPg': '3122.0', 'points': 2593, 'id': '6229'}, {'playerName': 'Russell Westbrook', 'position': 'PG', 'team': 'OKC', 'season': 2017, 'minutesPg': '2802.0', 'points': 2558, 'id': '4778'}, {'playerName': 'Michael Jordan*', 'position': 'SG', 'team': 'CHI', 'season': 1993, 'minutesPg': '3067.0', 'points': 2541, 'id': '17728'}, {'playerName': 'Michael Jordan*', 'position': 'SG', 'team': 'CHI', 'season': 1996, 'minutesPg': '3090.0', 'points': 2491, 'id': '16287'}, {'playerName': 'LeBron James', 'position': 'SF', 'team': 'CLE', 'season': 2006, 'minutesPg': '3361.0', 'points': 2478, 'id': '10931'}, {'playerName': 'Kevin Durant', 'position': 'SF', 'team': 'OKC', 'season': 2010, 'minutesPg': '3239.0', 'points': 2472, 'id': '8553'}, {'playerName': 'Kobe Bryant*', 'position': 'SG', 'team': 'LAL', 'season': 2003, 'minutesPg': '3401.0', 'points': 2461, 'id': '12472'}, {'playerName': 'Michael Jordan*', 'position': 'SG', 'team': 'CHI', 'season': 1997, 'minutesPg': '3106.0', 'points': 2431, 'id': '15734'}, {'playerName': 'Kobe Bryant*', 'position': 'SG', 'team': 'LAL', 'season': 2007, 'minutesPg': '3140.0', 'points': 2430, 'id': '10228'}, {'playerName': 'Tracy McGrady*', 'position': 'SG', 'team': 'ORL', 'season': 2003, 'minutesPg': '2954.0', 'points': 2407, 'id': '12688'}, {'playerName': 'Dwyane Wade*', 'position': 'SG', 'team': 'MIA', 'season': 2009, 'minutesPg': '3048.0', 'points': 2386, 'id': '9520'}, {'playerName': 'David Robinson*', 'position': 'C', 'team': 'SAS', 'season': 1994, 'minutesPg': '3241.0', 'points': 2383, 'id': '17422'}, {'playerName': 'Jerry Stackhouse', 'position': 'SG', 'team': 'DET', 'season': 2001, 'minutesPg': '3215.0', 'points': 2380, 'id': '13849'}, {'playerName': 'Allen Iverson*', 'position': 'PG', 'team': 'PHI', 'season': 2006, 'minutesPg': '3103.0', 'points': 2377, 'id': '10917'}, {'playerName': \"Shaquille O'Neal*\", 'position': 'C', 'team': 'ORL', 'season': 1994, 'minutesPg': '3224.0', 'points': 2377, 'id': '17376'}, {'playerName': 'James Harden', 'position': 'SG', 'team': 'HOU', 'season': 2016, 'minutesPg': '3125.0', 'points': 2376, 'id': '5021'}, {'playerName': 'Stephen Curry', 'position': 'PG', 'team': 'GSW', 'season': 2016, 'minutesPg': '2700.0', 'points': 2375, 'id': '4931'}, {'playerName': 'Michael Jordan*', 'position': 'SG', 'team': 'CHI', 'season': 1998, 'minutesPg': '3181.0', 'points': 2357, 'id': '15171'}, {'playerName': 'James Harden', 'position': 'PG', 'team': 'HOU', 'season': 2017, 'minutesPg': '2947.0', 'points': 2356, 'id': '4431'}, {'playerName': 'Gilbert Arenas', 'position': 'PG', 'team': 'WAS', 'season': 2006, 'minutesPg': '3384.0', 'points': 2346, 'id': '10690'}, {'playerName': \"Shaquille O'Neal*\", 'position': 'C', 'team': 'LAL', 'season': 2000, 'minutesPg': '3163.0', 'points': 2344, 'id': '14264'}, {'playerName': 'James Harden', 'position': 'SG', 'team': 'HOU', 'season': 2020, 'minutesPg': '2483.0', 'points': 2335, 'id': '2455'}, {'playerName': 'Kobe Bryant*', 'position': 'SG', 'team': 'LAL', 'season': 2008, 'minutesPg': '3192.0', 'points': 2323, 'id': '9646'}, {'playerName': \"Shaquille O'Neal*\", 'position': 'C', 'team': 'ORL', 'season': 1995, 'minutesPg': '2923.0', 'points': 2315, 'id': '16893'}, {'playerName': 'LeBron James', 'position': 'SF', 'team': 'CLE', 'season': 2009, 'minutesPg': '3054.0', 'points': 2304, 'id': '9254'}, {'playerName': 'Allen Iverson*', 'position': 'PG', 'team': 'PHI', 'season': 2005, 'minutesPg': '3174.0', 'points': 2302, 'id': '11492'}, {'playerName': 'Kevin Durant', 'position': 'SF', 'team': 'OKC', 'season': 2013, 'minutesPg': '3119.0', 'points': 2280, 'id': '6803'}, {'playerName': 'Allen Iverson*', 'position': 'SG', 'team': 'PHI', 'season': 2003, 'minutesPg': '3485.0', 'points': 2262, 'id': '12615'}, {'playerName': 'LeBron James', 'position': 'SF', 'team': 'CLE', 'season': 2010, 'minutesPg': '2966.0', 'points': 2258, 'id': '8689'}, {'playerName': 'LeBron James', 'position': 'PF', 'team': 'CLE', 'season': 2018, 'minutesPg': '3026.0', 'points': 2251, 'id': '3860'}, {'playerName': 'LeBron James', 'position': 'SF', 'team': 'CLE', 'season': 2008, 'minutesPg': '3027.0', 'points': 2250, 'id': '9838'}, {'playerName': 'Karl Malone*', 'position': 'PF', 'team': 'UTA', 'season': 1997, 'minutesPg': '2998.0', 'points': 2249, 'id': '15781'}, {'playerName': 'David Robinson*', 'position': 'C', 'team': 'SAS', 'season': 1995, 'minutesPg': '3074.0', 'points': 2238, 'id': '16939'}]}\n"
     ]
    }
   ],
   "source": [
    "# Setup the transport and client\n",
    "_transport = RequestsHTTPTransport(\n",
    "    url='http://209.38.172.107/graphql/',\n",
    "    use_json=True,\n",
    ")\n",
    "\n",
    "client = Client(\n",
    "    transport = _transport,\n",
    "    fetch_schema_from_transport=True,\n",
    ")\n",
    "\n",
    "# Define Query\n",
    "query = gql('''\n",
    "query playerPointTotals {\n",
    "  playerTotalsAll(limit: 35, ordering: \"-points\") {\n",
    "    playerName\n",
    "    position\n",
    "    team\n",
    "    season\n",
    "    minutesPg\n",
    "    points\n",
    "    id\n",
    "  }\n",
    "}\n",
    "''')\n",
    "\n",
    "# Execute and store response\n",
    "\n",
    "response = client.execute(query)\n",
    "\n",
    "print(response)"
   ]
  },
  {
   "cell_type": "markdown",
   "id": "a387dff8",
   "metadata": {},
   "source": [
    "### Create data frame from response. Ensure minutes are floating points, data types are correct."
   ]
  },
  {
   "cell_type": "code",
   "execution_count": 3,
   "id": "79d9d755",
   "metadata": {
    "notebookRunGroups": {
     "groupValue": "2"
    }
   },
   "outputs": [
    {
     "data": {
      "text/html": [
       "<div>\n",
       "<style scoped>\n",
       "    .dataframe tbody tr th:only-of-type {\n",
       "        vertical-align: middle;\n",
       "    }\n",
       "\n",
       "    .dataframe tbody tr th {\n",
       "        vertical-align: top;\n",
       "    }\n",
       "\n",
       "    .dataframe thead th {\n",
       "        text-align: right;\n",
       "    }\n",
       "</style>\n",
       "<table border=\"1\" class=\"dataframe\">\n",
       "  <thead>\n",
       "    <tr style=\"text-align: right;\">\n",
       "      <th></th>\n",
       "      <th>playerName</th>\n",
       "      <th>position</th>\n",
       "      <th>team</th>\n",
       "      <th>season</th>\n",
       "      <th>minutesPg</th>\n",
       "      <th>points</th>\n",
       "      <th>id</th>\n",
       "    </tr>\n",
       "  </thead>\n",
       "  <tbody>\n",
       "    <tr>\n",
       "      <th>0</th>\n",
       "      <td>Kobe Bryant*</td>\n",
       "      <td>SG</td>\n",
       "      <td>LAL</td>\n",
       "      <td>2006</td>\n",
       "      <td>3277.0</td>\n",
       "      <td>2832</td>\n",
       "      <td>10755</td>\n",
       "    </tr>\n",
       "    <tr>\n",
       "      <th>1</th>\n",
       "      <td>James Harden</td>\n",
       "      <td>PG</td>\n",
       "      <td>HOU</td>\n",
       "      <td>2019</td>\n",
       "      <td>2867.0</td>\n",
       "      <td>2818</td>\n",
       "      <td>3118</td>\n",
       "    </tr>\n",
       "    <tr>\n",
       "      <th>2</th>\n",
       "      <td>Kevin Durant</td>\n",
       "      <td>SF</td>\n",
       "      <td>OKC</td>\n",
       "      <td>2014</td>\n",
       "      <td>3122.0</td>\n",
       "      <td>2593</td>\n",
       "      <td>6229</td>\n",
       "    </tr>\n",
       "    <tr>\n",
       "      <th>3</th>\n",
       "      <td>Russell Westbrook</td>\n",
       "      <td>PG</td>\n",
       "      <td>OKC</td>\n",
       "      <td>2017</td>\n",
       "      <td>2802.0</td>\n",
       "      <td>2558</td>\n",
       "      <td>4778</td>\n",
       "    </tr>\n",
       "    <tr>\n",
       "      <th>4</th>\n",
       "      <td>Michael Jordan*</td>\n",
       "      <td>SG</td>\n",
       "      <td>CHI</td>\n",
       "      <td>1993</td>\n",
       "      <td>3067.0</td>\n",
       "      <td>2541</td>\n",
       "      <td>17728</td>\n",
       "    </tr>\n",
       "  </tbody>\n",
       "</table>\n",
       "</div>"
      ],
      "text/plain": [
       "          playerName position team  season  minutesPg  points     id\n",
       "0       Kobe Bryant*       SG  LAL    2006     3277.0    2832  10755\n",
       "1       James Harden       PG  HOU    2019     2867.0    2818   3118\n",
       "2       Kevin Durant       SF  OKC    2014     3122.0    2593   6229\n",
       "3  Russell Westbrook       PG  OKC    2017     2802.0    2558   4778\n",
       "4    Michael Jordan*       SG  CHI    1993     3067.0    2541  17728"
      ]
     },
     "execution_count": 3,
     "metadata": {},
     "output_type": "execute_result"
    }
   ],
   "source": [
    "# Convert JSON to DF\n",
    "\n",
    "df = pd.DataFrame(response['playerTotalsAll'])\n",
    "\n",
    "df['minutesPg'] = df['minutesPg'].astype(float)\n",
    "df['points'] = df['points'].astype(int)\n",
    "\n",
    "# Sort data by points\n",
    "\n",
    "df_sorted = df.sort_values('points', ascending=False).head(35)\n",
    "\n",
    "df_sorted.head()"
   ]
  },
  {
   "cell_type": "markdown",
   "id": "7a448b0c",
   "metadata": {
    "notebookRunGroups": {
     "groupValue": "2"
    }
   },
   "source": [
    "### Create player_season column to represent y-axis data containing individual Player Name (Season) for each row."
   ]
  },
  {
   "cell_type": "code",
   "execution_count": 4,
   "id": "68d85fac",
   "metadata": {
    "notebookRunGroups": {
     "groupValue": "2"
    }
   },
   "outputs": [],
   "source": [
    "df_sorted['player_season'] = df_sorted.apply(lambda x: f\"{x['playerName']} ({x['season']})\", axis=1)"
   ]
  },
  {
   "cell_type": "code",
   "execution_count": 5,
   "id": "fee573a7",
   "metadata": {
    "notebookRunGroups": {
     "groupValue": "2"
    }
   },
   "outputs": [
    {
     "data": {
      "application/vnd.plotly.v1+json": {
       "config": {
        "plotlyServerURL": "https://plot.ly"
       },
       "data": [
        {
         "alignmentgroup": "True",
         "customdata": [
          [
           2006,
           "LAL",
           3277
          ],
          [
           1993,
           "CHI",
           3067
          ],
          [
           1996,
           "CHI",
           3090
          ],
          [
           2003,
           "LAL",
           3401
          ],
          [
           1997,
           "CHI",
           3106
          ],
          [
           2007,
           "LAL",
           3140
          ],
          [
           2003,
           "ORL",
           2954
          ],
          [
           2009,
           "MIA",
           3048
          ],
          [
           2001,
           "DET",
           3215
          ],
          [
           2016,
           "HOU",
           3125
          ],
          [
           1998,
           "CHI",
           3181
          ],
          [
           2020,
           "HOU",
           2483
          ],
          [
           2008,
           "LAL",
           3192
          ],
          [
           2003,
           "PHI",
           3485
          ]
         ],
         "hovertemplate": "Position=SG<br>Total Points=%{x}<br>Player (Season)=%{y}<br>season=%{customdata[0]}<br>team=%{customdata[1]}<br>minutesPg=%{customdata[2]}<extra></extra>",
         "legendgroup": "SG",
         "marker": {
          "color": "#636efa",
          "pattern": {
           "shape": ""
          }
         },
         "name": "SG",
         "offsetgroup": "SG",
         "orientation": "h",
         "showlegend": true,
         "textposition": "auto",
         "type": "bar",
         "x": [
          2832,
          2541,
          2491,
          2461,
          2431,
          2430,
          2407,
          2386,
          2380,
          2376,
          2357,
          2335,
          2323,
          2262
         ],
         "xaxis": "x",
         "y": [
          "Kobe Bryant* (2006)",
          "Michael Jordan* (1993)",
          "Michael Jordan* (1996)",
          "Kobe Bryant* (2003)",
          "Michael Jordan* (1997)",
          "Kobe Bryant* (2007)",
          "Tracy McGrady* (2003)",
          "Dwyane Wade* (2009)",
          "Jerry Stackhouse (2001)",
          "James Harden (2016)",
          "Michael Jordan* (1998)",
          "James Harden (2020)",
          "Kobe Bryant* (2008)",
          "Allen Iverson* (2003)"
         ],
         "yaxis": "y"
        },
        {
         "alignmentgroup": "True",
         "customdata": [
          [
           2019,
           "HOU",
           2867
          ],
          [
           2017,
           "OKC",
           2802
          ],
          [
           2006,
           "PHI",
           3103
          ],
          [
           2016,
           "GSW",
           2700
          ],
          [
           2017,
           "HOU",
           2947
          ],
          [
           2006,
           "WAS",
           3384
          ],
          [
           2005,
           "PHI",
           3174
          ]
         ],
         "hovertemplate": "Position=PG<br>Total Points=%{x}<br>Player (Season)=%{y}<br>season=%{customdata[0]}<br>team=%{customdata[1]}<br>minutesPg=%{customdata[2]}<extra></extra>",
         "legendgroup": "PG",
         "marker": {
          "color": "#EF553B",
          "pattern": {
           "shape": ""
          }
         },
         "name": "PG",
         "offsetgroup": "PG",
         "orientation": "h",
         "showlegend": true,
         "textposition": "auto",
         "type": "bar",
         "x": [
          2818,
          2558,
          2377,
          2375,
          2356,
          2346,
          2302
         ],
         "xaxis": "x",
         "y": [
          "James Harden (2019)",
          "Russell Westbrook (2017)",
          "Allen Iverson* (2006)",
          "Stephen Curry (2016)",
          "James Harden (2017)",
          "Gilbert Arenas (2006)",
          "Allen Iverson* (2005)"
         ],
         "yaxis": "y"
        },
        {
         "alignmentgroup": "True",
         "customdata": [
          [
           2014,
           "OKC",
           3122
          ],
          [
           2006,
           "CLE",
           3361
          ],
          [
           2010,
           "OKC",
           3239
          ],
          [
           2009,
           "CLE",
           3054
          ],
          [
           2013,
           "OKC",
           3119
          ],
          [
           2010,
           "CLE",
           2966
          ],
          [
           2008,
           "CLE",
           3027
          ]
         ],
         "hovertemplate": "Position=SF<br>Total Points=%{x}<br>Player (Season)=%{y}<br>season=%{customdata[0]}<br>team=%{customdata[1]}<br>minutesPg=%{customdata[2]}<extra></extra>",
         "legendgroup": "SF",
         "marker": {
          "color": "#00cc96",
          "pattern": {
           "shape": ""
          }
         },
         "name": "SF",
         "offsetgroup": "SF",
         "orientation": "h",
         "showlegend": true,
         "textposition": "auto",
         "type": "bar",
         "x": [
          2593,
          2478,
          2472,
          2304,
          2280,
          2258,
          2250
         ],
         "xaxis": "x",
         "y": [
          "Kevin Durant (2014)",
          "LeBron James (2006)",
          "Kevin Durant (2010)",
          "LeBron James (2009)",
          "Kevin Durant (2013)",
          "LeBron James (2010)",
          "LeBron James (2008)"
         ],
         "yaxis": "y"
        },
        {
         "alignmentgroup": "True",
         "customdata": [
          [
           1994,
           "SAS",
           3241
          ],
          [
           1994,
           "ORL",
           3224
          ],
          [
           2000,
           "LAL",
           3163
          ],
          [
           1995,
           "ORL",
           2923
          ],
          [
           1995,
           "SAS",
           3074
          ]
         ],
         "hovertemplate": "Position=C<br>Total Points=%{x}<br>Player (Season)=%{y}<br>season=%{customdata[0]}<br>team=%{customdata[1]}<br>minutesPg=%{customdata[2]}<extra></extra>",
         "legendgroup": "C",
         "marker": {
          "color": "#ab63fa",
          "pattern": {
           "shape": ""
          }
         },
         "name": "C",
         "offsetgroup": "C",
         "orientation": "h",
         "showlegend": true,
         "textposition": "auto",
         "type": "bar",
         "x": [
          2383,
          2377,
          2344,
          2315,
          2238
         ],
         "xaxis": "x",
         "y": [
          "David Robinson* (1994)",
          "Shaquille O'Neal* (1994)",
          "Shaquille O'Neal* (2000)",
          "Shaquille O'Neal* (1995)",
          "David Robinson* (1995)"
         ],
         "yaxis": "y"
        },
        {
         "alignmentgroup": "True",
         "customdata": [
          [
           2018,
           "CLE",
           3026
          ],
          [
           1997,
           "UTA",
           2998
          ]
         ],
         "hovertemplate": "Position=PF<br>Total Points=%{x}<br>Player (Season)=%{y}<br>season=%{customdata[0]}<br>team=%{customdata[1]}<br>minutesPg=%{customdata[2]}<extra></extra>",
         "legendgroup": "PF",
         "marker": {
          "color": "#FFA15A",
          "pattern": {
           "shape": ""
          }
         },
         "name": "PF",
         "offsetgroup": "PF",
         "orientation": "h",
         "showlegend": true,
         "textposition": "auto",
         "type": "bar",
         "x": [
          2251,
          2249
         ],
         "xaxis": "x",
         "y": [
          "LeBron James (2018)",
          "Karl Malone* (1997)"
         ],
         "yaxis": "y"
        }
       ],
       "layout": {
        "autosize": false,
        "barmode": "relative",
        "height": 1000,
        "legend": {
         "title": {
          "text": "Position"
         },
         "tracegroupgap": 0
        },
        "template": {
         "data": {
          "bar": [
           {
            "error_x": {
             "color": "#2a3f5f"
            },
            "error_y": {
             "color": "#2a3f5f"
            },
            "marker": {
             "line": {
              "color": "#E5ECF6",
              "width": 0.5
             },
             "pattern": {
              "fillmode": "overlay",
              "size": 10,
              "solidity": 0.2
             }
            },
            "type": "bar"
           }
          ],
          "barpolar": [
           {
            "marker": {
             "line": {
              "color": "#E5ECF6",
              "width": 0.5
             },
             "pattern": {
              "fillmode": "overlay",
              "size": 10,
              "solidity": 0.2
             }
            },
            "type": "barpolar"
           }
          ],
          "carpet": [
           {
            "aaxis": {
             "endlinecolor": "#2a3f5f",
             "gridcolor": "white",
             "linecolor": "white",
             "minorgridcolor": "white",
             "startlinecolor": "#2a3f5f"
            },
            "baxis": {
             "endlinecolor": "#2a3f5f",
             "gridcolor": "white",
             "linecolor": "white",
             "minorgridcolor": "white",
             "startlinecolor": "#2a3f5f"
            },
            "type": "carpet"
           }
          ],
          "choropleth": [
           {
            "colorbar": {
             "outlinewidth": 0,
             "ticks": ""
            },
            "type": "choropleth"
           }
          ],
          "contour": [
           {
            "colorbar": {
             "outlinewidth": 0,
             "ticks": ""
            },
            "colorscale": [
             [
              0,
              "#0d0887"
             ],
             [
              0.1111111111111111,
              "#46039f"
             ],
             [
              0.2222222222222222,
              "#7201a8"
             ],
             [
              0.3333333333333333,
              "#9c179e"
             ],
             [
              0.4444444444444444,
              "#bd3786"
             ],
             [
              0.5555555555555556,
              "#d8576b"
             ],
             [
              0.6666666666666666,
              "#ed7953"
             ],
             [
              0.7777777777777778,
              "#fb9f3a"
             ],
             [
              0.8888888888888888,
              "#fdca26"
             ],
             [
              1,
              "#f0f921"
             ]
            ],
            "type": "contour"
           }
          ],
          "contourcarpet": [
           {
            "colorbar": {
             "outlinewidth": 0,
             "ticks": ""
            },
            "type": "contourcarpet"
           }
          ],
          "heatmap": [
           {
            "colorbar": {
             "outlinewidth": 0,
             "ticks": ""
            },
            "colorscale": [
             [
              0,
              "#0d0887"
             ],
             [
              0.1111111111111111,
              "#46039f"
             ],
             [
              0.2222222222222222,
              "#7201a8"
             ],
             [
              0.3333333333333333,
              "#9c179e"
             ],
             [
              0.4444444444444444,
              "#bd3786"
             ],
             [
              0.5555555555555556,
              "#d8576b"
             ],
             [
              0.6666666666666666,
              "#ed7953"
             ],
             [
              0.7777777777777778,
              "#fb9f3a"
             ],
             [
              0.8888888888888888,
              "#fdca26"
             ],
             [
              1,
              "#f0f921"
             ]
            ],
            "type": "heatmap"
           }
          ],
          "heatmapgl": [
           {
            "colorbar": {
             "outlinewidth": 0,
             "ticks": ""
            },
            "colorscale": [
             [
              0,
              "#0d0887"
             ],
             [
              0.1111111111111111,
              "#46039f"
             ],
             [
              0.2222222222222222,
              "#7201a8"
             ],
             [
              0.3333333333333333,
              "#9c179e"
             ],
             [
              0.4444444444444444,
              "#bd3786"
             ],
             [
              0.5555555555555556,
              "#d8576b"
             ],
             [
              0.6666666666666666,
              "#ed7953"
             ],
             [
              0.7777777777777778,
              "#fb9f3a"
             ],
             [
              0.8888888888888888,
              "#fdca26"
             ],
             [
              1,
              "#f0f921"
             ]
            ],
            "type": "heatmapgl"
           }
          ],
          "histogram": [
           {
            "marker": {
             "pattern": {
              "fillmode": "overlay",
              "size": 10,
              "solidity": 0.2
             }
            },
            "type": "histogram"
           }
          ],
          "histogram2d": [
           {
            "colorbar": {
             "outlinewidth": 0,
             "ticks": ""
            },
            "colorscale": [
             [
              0,
              "#0d0887"
             ],
             [
              0.1111111111111111,
              "#46039f"
             ],
             [
              0.2222222222222222,
              "#7201a8"
             ],
             [
              0.3333333333333333,
              "#9c179e"
             ],
             [
              0.4444444444444444,
              "#bd3786"
             ],
             [
              0.5555555555555556,
              "#d8576b"
             ],
             [
              0.6666666666666666,
              "#ed7953"
             ],
             [
              0.7777777777777778,
              "#fb9f3a"
             ],
             [
              0.8888888888888888,
              "#fdca26"
             ],
             [
              1,
              "#f0f921"
             ]
            ],
            "type": "histogram2d"
           }
          ],
          "histogram2dcontour": [
           {
            "colorbar": {
             "outlinewidth": 0,
             "ticks": ""
            },
            "colorscale": [
             [
              0,
              "#0d0887"
             ],
             [
              0.1111111111111111,
              "#46039f"
             ],
             [
              0.2222222222222222,
              "#7201a8"
             ],
             [
              0.3333333333333333,
              "#9c179e"
             ],
             [
              0.4444444444444444,
              "#bd3786"
             ],
             [
              0.5555555555555556,
              "#d8576b"
             ],
             [
              0.6666666666666666,
              "#ed7953"
             ],
             [
              0.7777777777777778,
              "#fb9f3a"
             ],
             [
              0.8888888888888888,
              "#fdca26"
             ],
             [
              1,
              "#f0f921"
             ]
            ],
            "type": "histogram2dcontour"
           }
          ],
          "mesh3d": [
           {
            "colorbar": {
             "outlinewidth": 0,
             "ticks": ""
            },
            "type": "mesh3d"
           }
          ],
          "parcoords": [
           {
            "line": {
             "colorbar": {
              "outlinewidth": 0,
              "ticks": ""
             }
            },
            "type": "parcoords"
           }
          ],
          "pie": [
           {
            "automargin": true,
            "type": "pie"
           }
          ],
          "scatter": [
           {
            "fillpattern": {
             "fillmode": "overlay",
             "size": 10,
             "solidity": 0.2
            },
            "type": "scatter"
           }
          ],
          "scatter3d": [
           {
            "line": {
             "colorbar": {
              "outlinewidth": 0,
              "ticks": ""
             }
            },
            "marker": {
             "colorbar": {
              "outlinewidth": 0,
              "ticks": ""
             }
            },
            "type": "scatter3d"
           }
          ],
          "scattercarpet": [
           {
            "marker": {
             "colorbar": {
              "outlinewidth": 0,
              "ticks": ""
             }
            },
            "type": "scattercarpet"
           }
          ],
          "scattergeo": [
           {
            "marker": {
             "colorbar": {
              "outlinewidth": 0,
              "ticks": ""
             }
            },
            "type": "scattergeo"
           }
          ],
          "scattergl": [
           {
            "marker": {
             "colorbar": {
              "outlinewidth": 0,
              "ticks": ""
             }
            },
            "type": "scattergl"
           }
          ],
          "scattermapbox": [
           {
            "marker": {
             "colorbar": {
              "outlinewidth": 0,
              "ticks": ""
             }
            },
            "type": "scattermapbox"
           }
          ],
          "scatterpolar": [
           {
            "marker": {
             "colorbar": {
              "outlinewidth": 0,
              "ticks": ""
             }
            },
            "type": "scatterpolar"
           }
          ],
          "scatterpolargl": [
           {
            "marker": {
             "colorbar": {
              "outlinewidth": 0,
              "ticks": ""
             }
            },
            "type": "scatterpolargl"
           }
          ],
          "scatterternary": [
           {
            "marker": {
             "colorbar": {
              "outlinewidth": 0,
              "ticks": ""
             }
            },
            "type": "scatterternary"
           }
          ],
          "surface": [
           {
            "colorbar": {
             "outlinewidth": 0,
             "ticks": ""
            },
            "colorscale": [
             [
              0,
              "#0d0887"
             ],
             [
              0.1111111111111111,
              "#46039f"
             ],
             [
              0.2222222222222222,
              "#7201a8"
             ],
             [
              0.3333333333333333,
              "#9c179e"
             ],
             [
              0.4444444444444444,
              "#bd3786"
             ],
             [
              0.5555555555555556,
              "#d8576b"
             ],
             [
              0.6666666666666666,
              "#ed7953"
             ],
             [
              0.7777777777777778,
              "#fb9f3a"
             ],
             [
              0.8888888888888888,
              "#fdca26"
             ],
             [
              1,
              "#f0f921"
             ]
            ],
            "type": "surface"
           }
          ],
          "table": [
           {
            "cells": {
             "fill": {
              "color": "#EBF0F8"
             },
             "line": {
              "color": "white"
             }
            },
            "header": {
             "fill": {
              "color": "#C8D4E3"
             },
             "line": {
              "color": "white"
             }
            },
            "type": "table"
           }
          ]
         },
         "layout": {
          "annotationdefaults": {
           "arrowcolor": "#2a3f5f",
           "arrowhead": 0,
           "arrowwidth": 1
          },
          "autotypenumbers": "strict",
          "coloraxis": {
           "colorbar": {
            "outlinewidth": 0,
            "ticks": ""
           }
          },
          "colorscale": {
           "diverging": [
            [
             0,
             "#8e0152"
            ],
            [
             0.1,
             "#c51b7d"
            ],
            [
             0.2,
             "#de77ae"
            ],
            [
             0.3,
             "#f1b6da"
            ],
            [
             0.4,
             "#fde0ef"
            ],
            [
             0.5,
             "#f7f7f7"
            ],
            [
             0.6,
             "#e6f5d0"
            ],
            [
             0.7,
             "#b8e186"
            ],
            [
             0.8,
             "#7fbc41"
            ],
            [
             0.9,
             "#4d9221"
            ],
            [
             1,
             "#276419"
            ]
           ],
           "sequential": [
            [
             0,
             "#0d0887"
            ],
            [
             0.1111111111111111,
             "#46039f"
            ],
            [
             0.2222222222222222,
             "#7201a8"
            ],
            [
             0.3333333333333333,
             "#9c179e"
            ],
            [
             0.4444444444444444,
             "#bd3786"
            ],
            [
             0.5555555555555556,
             "#d8576b"
            ],
            [
             0.6666666666666666,
             "#ed7953"
            ],
            [
             0.7777777777777778,
             "#fb9f3a"
            ],
            [
             0.8888888888888888,
             "#fdca26"
            ],
            [
             1,
             "#f0f921"
            ]
           ],
           "sequentialminus": [
            [
             0,
             "#0d0887"
            ],
            [
             0.1111111111111111,
             "#46039f"
            ],
            [
             0.2222222222222222,
             "#7201a8"
            ],
            [
             0.3333333333333333,
             "#9c179e"
            ],
            [
             0.4444444444444444,
             "#bd3786"
            ],
            [
             0.5555555555555556,
             "#d8576b"
            ],
            [
             0.6666666666666666,
             "#ed7953"
            ],
            [
             0.7777777777777778,
             "#fb9f3a"
            ],
            [
             0.8888888888888888,
             "#fdca26"
            ],
            [
             1,
             "#f0f921"
            ]
           ]
          },
          "colorway": [
           "#636efa",
           "#EF553B",
           "#00cc96",
           "#ab63fa",
           "#FFA15A",
           "#19d3f3",
           "#FF6692",
           "#B6E880",
           "#FF97FF",
           "#FECB52"
          ],
          "font": {
           "color": "#2a3f5f"
          },
          "geo": {
           "bgcolor": "white",
           "lakecolor": "white",
           "landcolor": "#E5ECF6",
           "showlakes": true,
           "showland": true,
           "subunitcolor": "white"
          },
          "hoverlabel": {
           "align": "left"
          },
          "hovermode": "closest",
          "mapbox": {
           "style": "light"
          },
          "paper_bgcolor": "white",
          "plot_bgcolor": "#E5ECF6",
          "polar": {
           "angularaxis": {
            "gridcolor": "white",
            "linecolor": "white",
            "ticks": ""
           },
           "bgcolor": "#E5ECF6",
           "radialaxis": {
            "gridcolor": "white",
            "linecolor": "white",
            "ticks": ""
           }
          },
          "scene": {
           "xaxis": {
            "backgroundcolor": "#E5ECF6",
            "gridcolor": "white",
            "gridwidth": 2,
            "linecolor": "white",
            "showbackground": true,
            "ticks": "",
            "zerolinecolor": "white"
           },
           "yaxis": {
            "backgroundcolor": "#E5ECF6",
            "gridcolor": "white",
            "gridwidth": 2,
            "linecolor": "white",
            "showbackground": true,
            "ticks": "",
            "zerolinecolor": "white"
           },
           "zaxis": {
            "backgroundcolor": "#E5ECF6",
            "gridcolor": "white",
            "gridwidth": 2,
            "linecolor": "white",
            "showbackground": true,
            "ticks": "",
            "zerolinecolor": "white"
           }
          },
          "shapedefaults": {
           "line": {
            "color": "#2a3f5f"
           }
          },
          "ternary": {
           "aaxis": {
            "gridcolor": "white",
            "linecolor": "white",
            "ticks": ""
           },
           "baxis": {
            "gridcolor": "white",
            "linecolor": "white",
            "ticks": ""
           },
           "bgcolor": "#E5ECF6",
           "caxis": {
            "gridcolor": "white",
            "linecolor": "white",
            "ticks": ""
           }
          },
          "title": {
           "x": 0.05
          },
          "xaxis": {
           "automargin": true,
           "gridcolor": "white",
           "linecolor": "white",
           "ticks": "",
           "title": {
            "standoff": 15
           },
           "zerolinecolor": "white",
           "zerolinewidth": 2
          },
          "yaxis": {
           "automargin": true,
           "gridcolor": "white",
           "linecolor": "white",
           "ticks": "",
           "title": {
            "standoff": 15
           },
           "zerolinecolor": "white",
           "zerolinewidth": 2
          }
         }
        },
        "title": {
         "text": "Top 35 NBA Players by Points since the 1992-1993 season."
        },
        "width": 1600,
        "xaxis": {
         "anchor": "y",
         "domain": [
          0,
          1
         ],
         "title": {
          "text": "Total Points"
         }
        },
        "yaxis": {
         "anchor": "x",
         "domain": [
          0,
          1
         ],
         "title": {
          "text": "Player (Season)"
         }
        }
       }
      }
     },
     "metadata": {},
     "output_type": "display_data"
    }
   ],
   "source": [
    "# Catch and remove stupid warning\n",
    "\n",
    "with warnings.catch_warnings():\n",
    "    warnings.simplefilter(action='ignore', category=FutureWarning)\n",
    "    \n",
    "    fig = px.bar(df_sorted, y='player_season', x='points', color='position', hover_data=['season', 'team', 'minutesPg'], labels={'points': 'Total Points', 'playerName': 'Player Name', 'position': 'Position', 'player_season': 'Player (Season)'}, title='Top 35 NBA Players by Points since the 1992-1993 season.')\n",
    "    \n",
    "    \n",
    "    fig.layout.autosize = False\n",
    "    fig.layout.height = 1000\n",
    "    fig.layout.width = 1600\n",
    "\n",
    "    fig.show()\n",
    "\n"
   ]
  }
 ],
 "metadata": {
  "kernelspec": {
   "display_name": "Python 3 (ipykernel)",
   "language": "python",
   "name": "python3"
  },
  "language_info": {
   "codemirror_mode": {
    "name": "ipython",
    "version": 3
   },
   "file_extension": ".py",
   "mimetype": "text/x-python",
   "name": "python",
   "nbconvert_exporter": "python",
   "pygments_lexer": "ipython3",
   "version": "3.10.4"
  }
 },
 "nbformat": 4,
 "nbformat_minor": 5
}
