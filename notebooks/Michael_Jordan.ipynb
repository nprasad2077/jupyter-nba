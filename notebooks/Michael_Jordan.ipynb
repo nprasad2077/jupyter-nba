{
 "cells": [
  {
   "cell_type": "code",
   "execution_count": 1,
   "metadata": {},
   "outputs": [],
   "source": [
    "import warnings\n",
    "warnings.filterwarnings(\"ignore\", category=DeprecationWarning)\n",
    "\n",
    "import os.path\n",
    "import pandas as pd\n",
    "import plotly.express as px\n",
    "import plotly.graph_objs as go\n",
    "import matplotlib.pyplot as plt\n",
    "import numpy as np\n",
    "from gql import gql, Client\n",
    "from gql.transport.requests import RequestsHTTPTransport"
   ]
  },
  {
   "cell_type": "code",
   "execution_count": 2,
   "metadata": {},
   "outputs": [],
   "source": [
    "if os.path.isfile('../data/master_data.csv') and os.stat('../data/master_data.csv').st_size > 0:\n",
    "    master_df = pd.read_csv('../data/master_data.csv')\n",
    "else: \n",
    "    master_df = pd.DataFrame()\n"
   ]
  },
  {
   "cell_type": "code",
   "execution_count": 3,
   "metadata": {},
   "outputs": [
    {
     "name": "stdout",
     "output_type": "stream",
     "text": [
      "{'playerTotalsAll': [{'playerName': 'Karl Malone*', 'position': 'PF', 'team': 'UTA', 'season': 1997, 'games': 82, 'assists': 368, 'blocks': 48, 'ft': 521, 'threeFg': 0, 'twoFg': 864, 'effectFgPercent': '0.550', 'totalRb': 809, 'steals': 113, 'points': 2249, 'id': '15781'}], 'playerAdvancedAll': [{'playerName': 'Karl Malone*', 'position': 'PF', 'team': 'UTA', 'season': 1997, 'minutesPlayed': 2998, 'games': 82, 'usagePercent': '32.700', 'per': '28.9', 'tsPercent': '0.600', 'box': '8.3', 'winShares': '16.7', 'id': '15781'}]}\n"
     ]
    }
   ],
   "source": [
    "# Setup the transport and client\n",
    "_transport = RequestsHTTPTransport(\n",
    "    url='http://209.38.172.107/graphql/',\n",
    "    use_json=True,\n",
    ")\n",
    "\n",
    "client = Client(\n",
    "    transport = _transport,\n",
    "    fetch_schema_from_transport=True,\n",
    ")\n",
    "\n",
    "# Define Query\n",
    "query = gql('''\n",
    "query TopPlayer {\n",
    "  playerTotalsAll(id: 15781) {\n",
    "    playerName\n",
    "    position\n",
    "    team\n",
    "    season\n",
    "    games\n",
    "    assists\n",
    "    blocks\n",
    "    ft\n",
    "    threeFg\n",
    "    twoFg\n",
    "    effectFgPercent\n",
    "    totalRb\n",
    "    steals\n",
    "    points\n",
    "    id\n",
    "  }\n",
    "  playerAdvancedAll(id: 15781) {\n",
    "      playerName\n",
    "    position\n",
    "    team\n",
    "    season\n",
    "    minutesPlayed\n",
    "    games\n",
    "    usagePercent\n",
    "    per\n",
    "    tsPercent\n",
    "    box\n",
    "    winShares\n",
    "    id\n",
    "  }\n",
    "}\n",
    "''')\n",
    "\n",
    "# Execute and store response\n",
    "\n",
    "response = client.execute(query)\n",
    "\n",
    "print(response)"
   ]
  },
  {
   "cell_type": "code",
   "execution_count": 4,
   "metadata": {},
   "outputs": [
    {
     "data": {
      "text/html": [
       "<div>\n",
       "<style scoped>\n",
       "    .dataframe tbody tr th:only-of-type {\n",
       "        vertical-align: middle;\n",
       "    }\n",
       "\n",
       "    .dataframe tbody tr th {\n",
       "        vertical-align: top;\n",
       "    }\n",
       "\n",
       "    .dataframe thead th {\n",
       "        text-align: right;\n",
       "    }\n",
       "</style>\n",
       "<table border=\"1\" class=\"dataframe\">\n",
       "  <thead>\n",
       "    <tr style=\"text-align: right;\">\n",
       "      <th></th>\n",
       "      <th>playerName</th>\n",
       "      <th>position</th>\n",
       "      <th>team</th>\n",
       "      <th>season</th>\n",
       "      <th>games</th>\n",
       "      <th>assists</th>\n",
       "      <th>blocks</th>\n",
       "      <th>ft</th>\n",
       "      <th>threeFg</th>\n",
       "      <th>twoFg</th>\n",
       "      <th>...</th>\n",
       "      <th>totalRb</th>\n",
       "      <th>steals</th>\n",
       "      <th>points</th>\n",
       "      <th>id</th>\n",
       "      <th>minutesPlayed</th>\n",
       "      <th>usagePercent</th>\n",
       "      <th>per</th>\n",
       "      <th>tsPercent</th>\n",
       "      <th>box</th>\n",
       "      <th>winShares</th>\n",
       "    </tr>\n",
       "  </thead>\n",
       "  <tbody>\n",
       "    <tr>\n",
       "      <th>0</th>\n",
       "      <td>Karl Malone*</td>\n",
       "      <td>PF</td>\n",
       "      <td>UTA</td>\n",
       "      <td>1997</td>\n",
       "      <td>82</td>\n",
       "      <td>368</td>\n",
       "      <td>48</td>\n",
       "      <td>521</td>\n",
       "      <td>0</td>\n",
       "      <td>864</td>\n",
       "      <td>...</td>\n",
       "      <td>809</td>\n",
       "      <td>113</td>\n",
       "      <td>2249</td>\n",
       "      <td>15781</td>\n",
       "      <td>2998</td>\n",
       "      <td>32.700</td>\n",
       "      <td>28.9</td>\n",
       "      <td>0.600</td>\n",
       "      <td>8.3</td>\n",
       "      <td>16.7</td>\n",
       "    </tr>\n",
       "  </tbody>\n",
       "</table>\n",
       "<p>1 rows × 21 columns</p>\n",
       "</div>"
      ],
      "text/plain": [
       "     playerName position team  season  games  assists  blocks   ft  threeFg  \\\n",
       "0  Karl Malone*       PF  UTA    1997     82      368      48  521        0   \n",
       "\n",
       "   twoFg  ... totalRb  steals  points     id minutesPlayed  usagePercent  \\\n",
       "0    864  ...     809     113    2249  15781          2998        32.700   \n",
       "\n",
       "    per tsPercent  box winShares  \n",
       "0  28.9     0.600  8.3      16.7  \n",
       "\n",
       "[1 rows x 21 columns]"
      ]
     },
     "execution_count": 4,
     "metadata": {},
     "output_type": "execute_result"
    }
   ],
   "source": [
    "df_totals = pd.json_normalize(response['playerTotalsAll'])\n",
    "df_advanced = pd.json_normalize(response['playerAdvancedAll'])\n",
    "\n",
    "df_combined = pd.merge(df_totals, df_advanced, on=['playerName', 'position', 'team', 'season', 'games', 'id'])\n",
    "\n",
    "df_combined.head()"
   ]
  },
  {
   "cell_type": "code",
   "execution_count": 5,
   "metadata": {},
   "outputs": [],
   "source": [
    "master_df = pd.concat([master_df, df_combined], ignore_index=True)\n",
    "\n",
    "# master_df.drop_duplicates(subset='id', keep='last', inplace=True)\n",
    "\n",
    "master_df.to_csv('../data/master_data.csv', index=False)"
   ]
  }
 ],
 "metadata": {
  "kernelspec": {
   "display_name": "venv",
   "language": "python",
   "name": "python3"
  },
  "language_info": {
   "codemirror_mode": {
    "name": "ipython",
    "version": 3
   },
   "file_extension": ".py",
   "mimetype": "text/x-python",
   "name": "python",
   "nbconvert_exporter": "python",
   "pygments_lexer": "ipython3",
   "version": "3.10.4"
  }
 },
 "nbformat": 4,
 "nbformat_minor": 2
}
