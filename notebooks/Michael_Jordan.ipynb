{
 "cells": [
  {
   "cell_type": "code",
   "execution_count": 1,
   "metadata": {},
   "outputs": [],
   "source": [
    "import warnings\n",
    "warnings.filterwarnings(\"ignore\", category=DeprecationWarning)\n",
    "\n",
    "import os.path\n",
    "import pandas as pd\n",
    "import plotly.express as px\n",
    "import plotly.graph_objs as go\n",
    "import matplotlib.pyplot as plt\n",
    "import numpy as np\n",
    "from gql import gql, Client\n",
    "from gql.transport.requests import RequestsHTTPTransport"
   ]
  },
  {
   "cell_type": "code",
   "execution_count": 2,
   "metadata": {},
   "outputs": [
    {
     "name": "stdout",
     "output_type": "stream",
     "text": [
      "<class 'pandas.core.frame.DataFrame'>\n"
     ]
    }
   ],
   "source": [
    "if os.path.isfile('../data/master_data.csv') and os.stat('../data/master_data.csv').st_size > 0:\n",
    "    master_df = pd.read_csv('../data/master_data.csv')\n",
    "else: \n",
    "    master_df = pd.DataFrame()\n",
    "    \n",
    "print(type(master_df))"
   ]
  },
  {
   "cell_type": "code",
   "execution_count": 3,
   "metadata": {},
   "outputs": [
    {
     "name": "stdout",
     "output_type": "stream",
     "text": [
      "{'playerTotalsAll': [{'playerName': 'Michael Jordan*', 'position': 'SG', 'team': 'CHI', 'season': 1996, 'games': 82, 'assists': 352, 'blocks': 42, 'ft': 548, 'threeFg': 111, 'twoFg': 805, 'effectFgPercent': '0.525', 'totalRb': 543, 'steals': 180, 'points': 2491, 'id': '16287'}], 'playerAdvancedAll': [{'playerName': 'Michael Jordan*', 'position': 'SG', 'team': 'CHI', 'season': 1996, 'minutesPlayed': 3090, 'games': 82, 'usagePercent': '33.300', 'per': '29.4', 'tsPercent': '0.582', 'box': '10.5', 'winShares': '20.4', 'id': '16287'}]}\n"
     ]
    }
   ],
   "source": [
    "# Setup the transport and client\n",
    "_transport = RequestsHTTPTransport(\n",
    "    url='http://209.38.172.107/graphql/',\n",
    "    use_json=True,\n",
    ")\n",
    "\n",
    "client = Client(\n",
    "    transport = _transport,\n",
    "    fetch_schema_from_transport=True,\n",
    ")\n",
    "\n",
    "# Define Query\n",
    "query = gql('''\n",
    "query TopPlayer {\n",
    "  playerTotalsAll(id: 16287) {\n",
    "    playerName\n",
    "    position\n",
    "    team\n",
    "    season\n",
    "    games\n",
    "    assists\n",
    "    blocks\n",
    "    ft\n",
    "    threeFg\n",
    "    twoFg\n",
    "    effectFgPercent\n",
    "    totalRb\n",
    "    steals\n",
    "    points\n",
    "    id\n",
    "  }\n",
    "  playerAdvancedAll(id: 16287) {\n",
    "      playerName\n",
    "    position\n",
    "    team\n",
    "    season\n",
    "    minutesPlayed\n",
    "    games\n",
    "    usagePercent\n",
    "    per\n",
    "    tsPercent\n",
    "    box\n",
    "    winShares\n",
    "    id\n",
    "  }\n",
    "}\n",
    "''')\n",
    "\n",
    "# Execute and store response\n",
    "\n",
    "response = client.execute(query)\n",
    "\n",
    "print(response)"
   ]
  },
  {
   "cell_type": "code",
   "execution_count": 4,
   "metadata": {},
   "outputs": [
    {
     "data": {
      "text/html": [
       "<div>\n",
       "<style scoped>\n",
       "    .dataframe tbody tr th:only-of-type {\n",
       "        vertical-align: middle;\n",
       "    }\n",
       "\n",
       "    .dataframe tbody tr th {\n",
       "        vertical-align: top;\n",
       "    }\n",
       "\n",
       "    .dataframe thead th {\n",
       "        text-align: right;\n",
       "    }\n",
       "</style>\n",
       "<table border=\"1\" class=\"dataframe\">\n",
       "  <thead>\n",
       "    <tr style=\"text-align: right;\">\n",
       "      <th></th>\n",
       "      <th>playerName</th>\n",
       "      <th>position</th>\n",
       "      <th>team</th>\n",
       "      <th>season</th>\n",
       "      <th>games</th>\n",
       "      <th>assists</th>\n",
       "      <th>blocks</th>\n",
       "      <th>ft</th>\n",
       "      <th>threeFg</th>\n",
       "      <th>twoFg</th>\n",
       "      <th>...</th>\n",
       "      <th>totalRb</th>\n",
       "      <th>steals</th>\n",
       "      <th>points</th>\n",
       "      <th>id</th>\n",
       "      <th>minutesPlayed</th>\n",
       "      <th>usagePercent</th>\n",
       "      <th>per</th>\n",
       "      <th>tsPercent</th>\n",
       "      <th>box</th>\n",
       "      <th>winShares</th>\n",
       "    </tr>\n",
       "  </thead>\n",
       "  <tbody>\n",
       "    <tr>\n",
       "      <th>0</th>\n",
       "      <td>Michael Jordan*</td>\n",
       "      <td>SG</td>\n",
       "      <td>CHI</td>\n",
       "      <td>1996</td>\n",
       "      <td>82</td>\n",
       "      <td>352</td>\n",
       "      <td>42</td>\n",
       "      <td>548</td>\n",
       "      <td>111</td>\n",
       "      <td>805</td>\n",
       "      <td>...</td>\n",
       "      <td>543</td>\n",
       "      <td>180</td>\n",
       "      <td>2491</td>\n",
       "      <td>16287</td>\n",
       "      <td>3090</td>\n",
       "      <td>33.300</td>\n",
       "      <td>29.4</td>\n",
       "      <td>0.582</td>\n",
       "      <td>10.5</td>\n",
       "      <td>20.4</td>\n",
       "    </tr>\n",
       "  </tbody>\n",
       "</table>\n",
       "<p>1 rows × 21 columns</p>\n",
       "</div>"
      ],
      "text/plain": [
       "        playerName position team  season  games  assists  blocks   ft  \\\n",
       "0  Michael Jordan*       SG  CHI    1996     82      352      42  548   \n",
       "\n",
       "   threeFg  twoFg  ... totalRb  steals  points     id minutesPlayed  \\\n",
       "0      111    805  ...     543     180    2491  16287          3090   \n",
       "\n",
       "   usagePercent   per tsPercent   box winShares  \n",
       "0        33.300  29.4     0.582  10.5      20.4  \n",
       "\n",
       "[1 rows x 21 columns]"
      ]
     },
     "execution_count": 4,
     "metadata": {},
     "output_type": "execute_result"
    }
   ],
   "source": [
    "df_totals = pd.json_normalize(response['playerTotalsAll'])\n",
    "df_advanced = pd.json_normalize(response['playerAdvancedAll'])\n",
    "\n",
    "df_combined = pd.merge(df_totals, df_advanced, on=['playerName', 'position', 'team', 'season', 'games', 'id'])\n",
    "\n",
    "df_combined.head()"
   ]
  },
  {
   "cell_type": "code",
   "execution_count": 5,
   "metadata": {},
   "outputs": [],
   "source": [
    "master_df = pd.concat([master_df, df_combined], ignore_index=True)\n",
    "\n",
    "# master_df.drop_duplicates(subset='id', keep='last', inplace=True)\n",
    "\n",
    "master_df.to_csv('../data/master_data.csv', index=False)"
   ]
  }
 ],
 "metadata": {
  "kernelspec": {
   "display_name": "venv",
   "language": "python",
   "name": "python3"
  },
  "language_info": {
   "codemirror_mode": {
    "name": "ipython",
    "version": 3
   },
   "file_extension": ".py",
   "mimetype": "text/x-python",
   "name": "python",
   "nbconvert_exporter": "python",
   "pygments_lexer": "ipython3",
   "version": "3.10.4"
  }
 },
 "nbformat": 4,
 "nbformat_minor": 2
}
