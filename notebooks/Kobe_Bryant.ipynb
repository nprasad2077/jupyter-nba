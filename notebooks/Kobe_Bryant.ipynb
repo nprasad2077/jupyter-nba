{
 "cells": [
  {
   "cell_type": "code",
   "execution_count": 15,
   "metadata": {},
   "outputs": [],
   "source": [
    "import warnings\n",
    "warnings.filterwarnings(\"ignore\", category=DeprecationWarning)\n",
    "\n",
    "import os.path\n",
    "import pandas as pd\n",
    "import plotly.express as px\n",
    "import plotly.graph_objs as go\n",
    "import matplotlib.pyplot as plt\n",
    "import numpy as np\n",
    "from gql import gql, Client\n",
    "from gql.transport.requests import RequestsHTTPTransport"
   ]
  },
  {
   "cell_type": "code",
   "execution_count": 16,
   "metadata": {},
   "outputs": [
    {
     "name": "stdout",
     "output_type": "stream",
     "text": [
      "{'playerTotalsAll': [{'playerName': 'LeBron James', 'position': 'PF', 'team': 'LAL', 'season': 2023, 'assists': 375, 'blocks': 32, 'steals': 50, 'defensiveRb': 392, 'offensiveRb': 65, 'totalRb': 457, 'effectFgPercent': '0.549', 'fieldAttempts': 1219, 'fieldGoals': 609, 'fieldPercent': '0.500', 'ft': 251, 'ftAttempts': 327, 'ftPercent': '0.768', 'games': 55, 'gamesStarted': 54, 'minutesPg': '1954.0', 'threeAttempts': 377, 'threeFg': 121, 'threePercent': '0.321', 'twoAttempts': 842, 'twoFg': 488, 'twoPercent': '0.580', 'points': 1590}, {'playerName': 'LeBron James', 'position': 'C', 'team': 'LAL', 'season': 2022, 'assists': 349, 'blocks': 59, 'steals': 73, 'defensiveRb': 396, 'offensiveRb': 63, 'totalRb': 459, 'effectFgPercent': '0.590', 'fieldAttempts': 1221, 'fieldGoals': 640, 'fieldPercent': '0.524', 'ft': 254, 'ftAttempts': 336, 'ftPercent': '0.756', 'games': 56, 'gamesStarted': 56, 'minutesPg': '2084.0', 'threeAttempts': 448, 'threeFg': 161, 'threePercent': '0.359', 'twoAttempts': 773, 'twoFg': 479, 'twoPercent': '0.620', 'points': 1695}, {'playerName': 'LeBron James', 'position': 'PG', 'team': 'LAL', 'season': 2021, 'assists': 350, 'blocks': 25, 'steals': 48, 'defensiveRb': 317, 'offensiveRb': 29, 'totalRb': 346, 'effectFgPercent': '0.576', 'fieldAttempts': 823, 'fieldGoals': 422, 'fieldPercent': '0.513', 'ft': 178, 'ftAttempts': 255, 'ftPercent': '0.698', 'games': 45, 'gamesStarted': 45, 'minutesPg': '1504.0', 'threeAttempts': 285, 'threeFg': 104, 'threePercent': '0.365', 'twoAttempts': 538, 'twoFg': 318, 'twoPercent': '0.591', 'points': 1126}, {'playerName': 'LeBron James', 'position': 'PG', 'team': 'LAL', 'season': 2020, 'assists': 684, 'blocks': 36, 'steals': 78, 'defensiveRb': 459, 'offensiveRb': 66, 'totalRb': 525, 'effectFgPercent': '0.550', 'fieldAttempts': 1303, 'fieldGoals': 643, 'fieldPercent': '0.493', 'ft': 264, 'ftAttempts': 381, 'ftPercent': '0.693', 'games': 67, 'gamesStarted': 67, 'minutesPg': '2316.0', 'threeAttempts': 425, 'threeFg': 148, 'threePercent': '0.348', 'twoAttempts': 878, 'twoFg': 495, 'twoPercent': '0.564', 'points': 1698}, {'playerName': 'LeBron James', 'position': 'SF', 'team': 'LAL', 'season': 2019, 'assists': 454, 'blocks': 33, 'steals': 72, 'defensiveRb': 408, 'offensiveRb': 57, 'totalRb': 465, 'effectFgPercent': '0.560', 'fieldAttempts': 1095, 'fieldGoals': 558, 'fieldPercent': '0.510', 'ft': 278, 'ftAttempts': 418, 'ftPercent': '0.665', 'games': 55, 'gamesStarted': 55, 'minutesPg': '1937.0', 'threeAttempts': 327, 'threeFg': 111, 'threePercent': '0.339', 'twoAttempts': 768, 'twoFg': 447, 'twoPercent': '0.582', 'points': 1505}, {'playerName': 'LeBron James', 'position': 'PF', 'team': 'CLE', 'season': 2018, 'assists': 747, 'blocks': 71, 'steals': 116, 'defensiveRb': 612, 'offensiveRb': 97, 'totalRb': 709, 'effectFgPercent': '0.590', 'fieldAttempts': 1580, 'fieldGoals': 857, 'fieldPercent': '0.542', 'ft': 388, 'ftAttempts': 531, 'ftPercent': '0.731', 'games': 82, 'gamesStarted': 82, 'minutesPg': '3026.0', 'threeAttempts': 406, 'threeFg': 149, 'threePercent': '0.367', 'twoAttempts': 1174, 'twoFg': 708, 'twoPercent': '0.603', 'points': 2251}, {'playerName': 'LeBron James', 'position': 'SF', 'team': 'CLE', 'season': 2017, 'assists': 646, 'blocks': 44, 'steals': 92, 'defensiveRb': 542, 'offensiveRb': 97, 'totalRb': 639, 'effectFgPercent': '0.594', 'fieldAttempts': 1344, 'fieldGoals': 736, 'fieldPercent': '0.548', 'ft': 358, 'ftAttempts': 531, 'ftPercent': '0.674', 'games': 74, 'gamesStarted': 74, 'minutesPg': '2794.0', 'threeAttempts': 342, 'threeFg': 124, 'threePercent': '0.363', 'twoAttempts': 1002, 'twoFg': 612, 'twoPercent': '0.611', 'points': 1954}, {'playerName': 'LeBron James', 'position': 'SF', 'team': 'CLE', 'season': 2016, 'assists': 514, 'blocks': 49, 'steals': 104, 'defensiveRb': 454, 'offensiveRb': 111, 'totalRb': 565, 'effectFgPercent': '0.551', 'fieldAttempts': 1416, 'fieldGoals': 737, 'fieldPercent': '0.520', 'ft': 359, 'ftAttempts': 491, 'ftPercent': '0.731', 'games': 76, 'gamesStarted': 76, 'minutesPg': '2709.0', 'threeAttempts': 282, 'threeFg': 87, 'threePercent': '0.309', 'twoAttempts': 1134, 'twoFg': 650, 'twoPercent': '0.573', 'points': 1920}, {'playerName': 'LeBron James', 'position': 'SF', 'team': 'CLE', 'season': 2015, 'assists': 511, 'blocks': 49, 'steals': 109, 'defensiveRb': 365, 'offensiveRb': 51, 'totalRb': 416, 'effectFgPercent': '0.535', 'fieldAttempts': 1279, 'fieldGoals': 624, 'fieldPercent': '0.488', 'ft': 375, 'ftAttempts': 528, 'ftPercent': '0.710', 'games': 69, 'gamesStarted': 69, 'minutesPg': '2493.0', 'threeAttempts': 339, 'threeFg': 120, 'threePercent': '0.354', 'twoAttempts': 940, 'twoFg': 504, 'twoPercent': '0.536', 'points': 1743}, {'playerName': 'LeBron James', 'position': 'PF', 'team': 'MIA', 'season': 2014, 'assists': 488, 'blocks': 26, 'steals': 121, 'defensiveRb': 452, 'offensiveRb': 81, 'totalRb': 533, 'effectFgPercent': '0.610', 'fieldAttempts': 1353, 'fieldGoals': 767, 'fieldPercent': '0.567', 'ft': 439, 'ftAttempts': 585, 'ftPercent': '0.750', 'games': 77, 'gamesStarted': 77, 'minutesPg': '2902.0', 'threeAttempts': 306, 'threeFg': 116, 'threePercent': '0.379', 'twoAttempts': 1047, 'twoFg': 651, 'twoPercent': '0.622', 'points': 2089}, {'playerName': 'LeBron James', 'position': 'PF', 'team': 'MIA', 'season': 2013, 'assists': 551, 'blocks': 67, 'steals': 129, 'defensiveRb': 513, 'offensiveRb': 97, 'totalRb': 610, 'effectFgPercent': '0.603', 'fieldAttempts': 1354, 'fieldGoals': 765, 'fieldPercent': '0.565', 'ft': 403, 'ftAttempts': 535, 'ftPercent': '0.753', 'games': 76, 'gamesStarted': 76, 'minutesPg': '2877.0', 'threeAttempts': 254, 'threeFg': 103, 'threePercent': '0.406', 'twoAttempts': 1100, 'twoFg': 662, 'twoPercent': '0.602', 'points': 2036}, {'playerName': 'LeBron James', 'position': 'SF', 'team': 'MIA', 'season': 2012, 'assists': 387, 'blocks': 50, 'steals': 115, 'defensiveRb': 398, 'offensiveRb': 94, 'totalRb': 492, 'effectFgPercent': '0.554', 'fieldAttempts': 1169, 'fieldGoals': 621, 'fieldPercent': '0.531', 'ft': 387, 'ftAttempts': 502, 'ftPercent': '0.771', 'games': 62, 'gamesStarted': 62, 'minutesPg': '2326.0', 'threeAttempts': 149, 'threeFg': 54, 'threePercent': '0.362', 'twoAttempts': 1020, 'twoFg': 567, 'twoPercent': '0.556', 'points': 1683}, {'playerName': 'LeBron James', 'position': 'SF', 'team': 'MIA', 'season': 2011, 'assists': 554, 'blocks': 50, 'steals': 124, 'defensiveRb': 510, 'offensiveRb': 80, 'totalRb': 590, 'effectFgPercent': '0.541', 'fieldAttempts': 1485, 'fieldGoals': 758, 'fieldPercent': '0.510', 'ft': 503, 'ftAttempts': 663, 'ftPercent': '0.759', 'games': 79, 'gamesStarted': 79, 'minutesPg': '3063.0', 'threeAttempts': 279, 'threeFg': 92, 'threePercent': '0.330', 'twoAttempts': 1206, 'twoFg': 666, 'twoPercent': '0.552', 'points': 2111}, {'playerName': 'LeBron James', 'position': 'SF', 'team': 'CLE', 'season': 2010, 'assists': 651, 'blocks': 77, 'steals': 125, 'defensiveRb': 483, 'offensiveRb': 71, 'totalRb': 554, 'effectFgPercent': '0.545', 'fieldAttempts': 1528, 'fieldGoals': 768, 'fieldPercent': '0.503', 'ft': 593, 'ftAttempts': 773, 'ftPercent': '0.767', 'games': 76, 'gamesStarted': 76, 'minutesPg': '2966.0', 'threeAttempts': 387, 'threeFg': 129, 'threePercent': '0.333', 'twoAttempts': 1141, 'twoFg': 639, 'twoPercent': '0.560', 'points': 2258}, {'playerName': 'LeBron James', 'position': 'SF', 'team': 'CLE', 'season': 2009, 'assists': 587, 'blocks': 93, 'steals': 137, 'defensiveRb': 507, 'offensiveRb': 106, 'totalRb': 613, 'effectFgPercent': '0.530', 'fieldAttempts': 1613, 'fieldGoals': 789, 'fieldPercent': '0.489', 'ft': 594, 'ftAttempts': 762, 'ftPercent': '0.780', 'games': 81, 'gamesStarted': 81, 'minutesPg': '3054.0', 'threeAttempts': 384, 'threeFg': 132, 'threePercent': '0.344', 'twoAttempts': 1229, 'twoFg': 657, 'twoPercent': '0.535', 'points': 2304}, {'playerName': 'LeBron James', 'position': 'SF', 'team': 'CLE', 'season': 2008, 'assists': 539, 'blocks': 81, 'steals': 138, 'defensiveRb': 459, 'offensiveRb': 133, 'totalRb': 592, 'effectFgPercent': '0.518', 'fieldAttempts': 1642, 'fieldGoals': 794, 'fieldPercent': '0.484', 'ft': 549, 'ftAttempts': 771, 'ftPercent': '0.712', 'games': 75, 'gamesStarted': 74, 'minutesPg': '3027.0', 'threeAttempts': 359, 'threeFg': 113, 'threePercent': '0.315', 'twoAttempts': 1283, 'twoFg': 681, 'twoPercent': '0.531', 'points': 2250}, {'playerName': 'LeBron James', 'position': 'SF', 'team': 'CLE', 'season': 2007, 'assists': 470, 'blocks': 55, 'steals': 125, 'defensiveRb': 443, 'offensiveRb': 83, 'totalRb': 526, 'effectFgPercent': '0.507', 'fieldAttempts': 1621, 'fieldGoals': 772, 'fieldPercent': '0.476', 'ft': 489, 'ftAttempts': 701, 'ftPercent': '0.698', 'games': 78, 'gamesStarted': 78, 'minutesPg': '3190.0', 'threeAttempts': 310, 'threeFg': 99, 'threePercent': '0.319', 'twoAttempts': 1311, 'twoFg': 673, 'twoPercent': '0.513', 'points': 2132}, {'playerName': 'LeBron James', 'position': 'SF', 'team': 'CLE', 'season': 2006, 'assists': 521, 'blocks': 66, 'steals': 123, 'defensiveRb': 481, 'offensiveRb': 75, 'totalRb': 556, 'effectFgPercent': '0.515', 'fieldAttempts': 1823, 'fieldGoals': 875, 'fieldPercent': '0.480', 'ft': 601, 'ftAttempts': 814, 'ftPercent': '0.738', 'games': 79, 'gamesStarted': 79, 'minutesPg': '3361.0', 'threeAttempts': 379, 'threeFg': 127, 'threePercent': '0.335', 'twoAttempts': 1444, 'twoFg': 748, 'twoPercent': '0.518', 'points': 2478}, {'playerName': 'LeBron James', 'position': 'SF', 'team': 'CLE', 'season': 2005, 'assists': 577, 'blocks': 52, 'steals': 177, 'defensiveRb': 477, 'offensiveRb': 111, 'totalRb': 588, 'effectFgPercent': '0.504', 'fieldAttempts': 1684, 'fieldGoals': 795, 'fieldPercent': '0.472', 'ft': 477, 'ftAttempts': 636, 'ftPercent': '0.750', 'games': 80, 'gamesStarted': 80, 'minutesPg': '3388.0', 'threeAttempts': 308, 'threeFg': 108, 'threePercent': '0.351', 'twoAttempts': 1376, 'twoFg': 687, 'twoPercent': '0.499', 'points': 2175}, {'playerName': 'LeBron James', 'position': 'SG', 'team': 'CLE', 'season': 2004, 'assists': 465, 'blocks': 58, 'steals': 130, 'defensiveRb': 333, 'offensiveRb': 99, 'totalRb': 432, 'effectFgPercent': '0.438', 'fieldAttempts': 1492, 'fieldGoals': 622, 'fieldPercent': '0.417', 'ft': 347, 'ftAttempts': 460, 'ftPercent': '0.754', 'games': 79, 'gamesStarted': 79, 'minutesPg': '3122.0', 'threeAttempts': 217, 'threeFg': 63, 'threePercent': '0.290', 'twoAttempts': 1275, 'twoFg': 559, 'twoPercent': '0.438', 'points': 1654}], 'playerAdvancedAll': [{'playerName': 'LeBron James', 'position': 'PF', 'team': 'LAL', 'season': 2023, 'assistPercent': '33.500', 'blockPercent': '1.400', 'stealPercent': '1.200', 'tsPercent': '0.583', 'totalRbPercent': '12.500', 'defensiveRbPercent': '20.800', 'offensiveRbPercent': '3.700', 'threePAr': '0.309', 'usagePercent': '33.300', 'box': '6.1', 'defensiveBox': '0.6', 'offensiveBox': '5.5', 'winShares': '5.6', 'defensiveWs': '2.4', 'offensiveWs': '3.2', 'per': '23.9', 'winSharesPer': '0.138', 'vorp': '4.0'}, {'playerName': 'LeBron James', 'position': 'C', 'team': 'LAL', 'season': 2022, 'assistPercent': '30.600', 'blockPercent': '2.500', 'stealPercent': '1.700', 'tsPercent': '0.619', 'totalRbPercent': '11.800', 'defensiveRbPercent': '20.400', 'offensiveRbPercent': '3.300', 'threePAr': '0.367', 'usagePercent': '32.300', 'box': '7.7', 'defensiveBox': '0.8', 'offensiveBox': '6.9', 'winShares': '7.5', 'defensiveWs': '2.3', 'offensiveWs': '5.2', 'per': '26.2', 'winSharesPer': '0.172', 'vorp': '5.1'}, {'playerName': 'LeBron James', 'position': 'PG', 'team': 'LAL', 'season': 2021, 'assistPercent': '41.800', 'blockPercent': '1.500', 'stealPercent': '1.600', 'tsPercent': '0.602', 'totalRbPercent': '12.900', 'defensiveRbPercent': '23.600', 'offensiveRbPercent': '2.200', 'threePAr': '0.346', 'usagePercent': '31.900', 'box': '8.1', 'defensiveBox': '2.3', 'offensiveBox': '5.9', 'winShares': '5.6', 'defensiveWs': '2.6', 'offensiveWs': '3.0', 'per': '24.2', 'winSharesPer': '0.179', 'vorp': '3.8'}, {'playerName': 'LeBron James', 'position': 'PG', 'team': 'LAL', 'season': 2020, 'assistPercent': '49.100', 'blockPercent': '1.400', 'stealPercent': '1.600', 'tsPercent': '0.577', 'totalRbPercent': '12.400', 'defensiveRbPercent': '21.500', 'offensiveRbPercent': '3.200', 'threePAr': '0.326', 'usagePercent': '31.500', 'box': '8.4', 'defensiveBox': '1.8', 'offensiveBox': '6.6', 'winShares': '9.8', 'defensiveWs': '3.6', 'offensiveWs': '6.2', 'per': '25.5', 'winSharesPer': '0.204', 'vorp': '6.1'}, {'playerName': 'LeBron James', 'position': 'SF', 'team': 'LAL', 'season': 2019, 'assistPercent': '39.400', 'blockPercent': '1.400', 'stealPercent': '1.700', 'tsPercent': '0.588', 'totalRbPercent': '12.400', 'defensiveRbPercent': '21.300', 'offensiveRbPercent': '3.100', 'threePAr': '0.299', 'usagePercent': '31.600', 'box': '8.0', 'defensiveBox': '1.7', 'offensiveBox': '6.4', 'winShares': '7.2', 'defensiveWs': '2.6', 'offensiveWs': '4.7', 'per': '25.6', 'winSharesPer': '0.179', 'vorp': '4.9'}, {'playerName': 'LeBron James', 'position': 'PF', 'team': 'CLE', 'season': 2018, 'assistPercent': '44.400', 'blockPercent': '2.000', 'stealPercent': '1.900', 'tsPercent': '0.621', 'totalRbPercent': '13.100', 'defensiveRbPercent': '22.300', 'offensiveRbPercent': '3.700', 'threePAr': '0.257', 'usagePercent': '31.600', 'box': '8.7', 'defensiveBox': '1.4', 'offensiveBox': '7.3', 'winShares': '14.0', 'defensiveWs': '3.0', 'offensiveWs': '11.0', 'per': '28.6', 'winSharesPer': '0.221', 'vorp': '8.2'}, {'playerName': 'LeBron James', 'position': 'SF', 'team': 'CLE', 'season': 2017, 'assistPercent': '41.300', 'blockPercent': '1.300', 'stealPercent': '1.600', 'tsPercent': '0.619', 'totalRbPercent': '12.600', 'defensiveRbPercent': '20.700', 'offensiveRbPercent': '4.000', 'threePAr': '0.254', 'usagePercent': '30.000', 'box': '7.6', 'defensiveBox': '1.2', 'offensiveBox': '6.4', 'winShares': '12.9', 'defensiveWs': '3.0', 'offensiveWs': '9.8', 'per': '27.0', 'winSharesPer': '0.221', 'vorp': '6.7'}, {'playerName': 'LeBron James', 'position': 'SF', 'team': 'CLE', 'season': 2016, 'assistPercent': '36.000', 'blockPercent': '1.500', 'stealPercent': '2.000', 'tsPercent': '0.588', 'totalRbPercent': '11.800', 'defensiveRbPercent': '18.800', 'offensiveRbPercent': '4.700', 'threePAr': '0.199', 'usagePercent': '31.400', 'box': '9.0', 'defensiveBox': '2.0', 'offensiveBox': '7.0', 'winShares': '13.6', 'defensiveWs': '4.0', 'offensiveWs': '9.6', 'per': '27.5', 'winSharesPer': '0.242', 'vorp': '7.5'}, {'playerName': 'LeBron James', 'position': 'SF', 'team': 'CLE', 'season': 2015, 'assistPercent': '38.600', 'blockPercent': '1.600', 'stealPercent': '2.300', 'tsPercent': '0.577', 'totalRbPercent': '9.600', 'defensiveRbPercent': '16.600', 'offensiveRbPercent': '2.400', 'threePAr': '0.265', 'usagePercent': '32.300', 'box': '7.1', 'defensiveBox': '1.0', 'offensiveBox': '6.1', 'winShares': '10.4', 'defensiveWs': '2.9', 'offensiveWs': '7.4', 'per': '25.9', 'winSharesPer': '0.199', 'vorp': '5.7'}, {'playerName': 'LeBron James', 'position': 'PF', 'team': 'MIA', 'season': 2014, 'assistPercent': '32.000', 'blockPercent': '0.800', 'stealPercent': '2.200', 'tsPercent': '0.649', 'totalRbPercent': '11.500', 'defensiveRbPercent': '18.900', 'offensiveRbPercent': '3.600', 'threePAr': '0.226', 'usagePercent': '31.000', 'box': '8.8', 'defensiveBox': '1.1', 'offensiveBox': '7.8', 'winShares': '15.9', 'defensiveWs': '3.7', 'offensiveWs': '12.3', 'per': '29.3', 'winSharesPer': '0.264', 'vorp': '7.9'}, {'playerName': 'LeBron James', 'position': 'PF', 'team': 'MIA', 'season': 2013, 'assistPercent': '36.400', 'blockPercent': '1.900', 'stealPercent': '2.400', 'tsPercent': '0.640', 'totalRbPercent': '13.100', 'defensiveRbPercent': '20.800', 'offensiveRbPercent': '4.400', 'threePAr': '0.188', 'usagePercent': '30.200', 'box': '11.7', 'defensiveBox': '2.4', 'offensiveBox': '9.3', 'winShares': '19.3', 'defensiveWs': '4.7', 'offensiveWs': '14.6', 'per': '31.6', 'winSharesPer': '0.322', 'vorp': '9.9'}, {'playerName': 'LeBron James', 'position': 'SF', 'team': 'MIA', 'season': 2012, 'assistPercent': '33.600', 'blockPercent': '1.700', 'stealPercent': '2.600', 'tsPercent': '0.605', 'totalRbPercent': '12.600', 'defensiveRbPercent': '19.700', 'offensiveRbPercent': '5.000', 'threePAr': '0.127', 'usagePercent': '32.000', 'box': '10.9', 'defensiveBox': '2.7', 'offensiveBox': '8.2', 'winShares': '14.5', 'defensiveWs': '4.5', 'offensiveWs': '10.0', 'per': '30.7', 'winSharesPer': '0.298', 'vorp': '7.6'}, {'playerName': 'LeBron James', 'position': 'SF', 'team': 'MIA', 'season': 2011, 'assistPercent': '34.900', 'blockPercent': '1.300', 'stealPercent': '2.100', 'tsPercent': '0.594', 'totalRbPercent': '11.400', 'defensiveRbPercent': '18.700', 'offensiveRbPercent': '3.300', 'threePAr': '0.188', 'usagePercent': '31.500', 'box': '8.1', 'defensiveBox': '1.8', 'offensiveBox': '6.3', 'winShares': '15.6', 'defensiveWs': '5.3', 'offensiveWs': '10.3', 'per': '27.3', 'winSharesPer': '0.244', 'vorp': '7.8'}, {'playerName': 'LeBron James', 'position': 'SF', 'team': 'CLE', 'season': 2010, 'assistPercent': '41.800', 'blockPercent': '2.000', 'stealPercent': '2.200', 'tsPercent': '0.604', 'totalRbPercent': '11.100', 'defensiveRbPercent': '18.500', 'offensiveRbPercent': '3.000', 'threePAr': '0.253', 'usagePercent': '33.500', 'box': '11.8', 'defensiveBox': '2.8', 'offensiveBox': '9.1', 'winShares': '18.5', 'defensiveWs': '5.2', 'offensiveWs': '13.3', 'per': '31.1', 'winSharesPer': '0.299', 'vorp': '10.3'}, {'playerName': 'LeBron James', 'position': 'SF', 'team': 'CLE', 'season': 2009, 'assistPercent': '38.000', 'blockPercent': '2.400', 'stealPercent': '2.400', 'tsPercent': '0.591', 'totalRbPercent': '11.900', 'defensiveRbPercent': '19.000', 'offensiveRbPercent': '4.300', 'threePAr': '0.238', 'usagePercent': '33.800', 'box': '13.2', 'defensiveBox': '3.7', 'offensiveBox': '9.5', 'winShares': '20.3', 'defensiveWs': '6.5', 'offensiveWs': '13.7', 'per': '31.7', 'winSharesPer': '0.318', 'vorp': '11.8'}, {'playerName': 'LeBron James', 'position': 'SF', 'team': 'CLE', 'season': 2008, 'assistPercent': '37.300', 'blockPercent': '2.100', 'stealPercent': '2.400', 'tsPercent': '0.568', 'totalRbPercent': '11.100', 'defensiveRbPercent': '17.800', 'offensiveRbPercent': '4.900', 'threePAr': '0.219', 'usagePercent': '33.500', 'box': '10.9', 'defensiveBox': '2.6', 'offensiveBox': '8.2', 'winShares': '15.2', 'defensiveWs': '4.6', 'offensiveWs': '10.7', 'per': '29.1', 'winSharesPer': '0.242', 'vorp': '9.8'}, {'playerName': 'LeBron James', 'position': 'SF', 'team': 'CLE', 'season': 2007, 'assistPercent': '29.100', 'blockPercent': '1.300', 'stealPercent': '2.100', 'tsPercent': '0.552', 'totalRbPercent': '9.600', 'defensiveRbPercent': '16.600', 'offensiveRbPercent': '3.000', 'threePAr': '0.191', 'usagePercent': '31.000', 'box': '8.1', 'defensiveBox': '2.2', 'offensiveBox': '5.9', 'winShares': '13.7', 'defensiveWs': '5.7', 'offensiveWs': '8.0', 'per': '24.5', 'winSharesPer': '0.206', 'vorp': '8.1'}, {'playerName': 'LeBron James', 'position': 'SF', 'team': 'CLE', 'season': 2006, 'assistPercent': '32.800', 'blockPercent': '1.500', 'stealPercent': '2.000', 'tsPercent': '0.568', 'totalRbPercent': '9.800', 'defensiveRbPercent': '17.100', 'offensiveRbPercent': '2.600', 'threePAr': '0.208', 'usagePercent': '33.600', 'box': '9.1', 'defensiveBox': '1.6', 'offensiveBox': '7.5', 'winShares': '16.3', 'defensiveWs': '4.3', 'offensiveWs': '12.0', 'per': '28.1', 'winSharesPer': '0.232', 'vorp': '9.4'}, {'playerName': 'LeBron James', 'position': 'SF', 'team': 'CLE', 'season': 2005, 'assistPercent': '32.900', 'blockPercent': '1.100', 'stealPercent': '2.800', 'tsPercent': '0.554', 'totalRbPercent': '10.200', 'defensiveRbPercent': '17.000', 'offensiveRbPercent': '3.800', 'threePAr': '0.183', 'usagePercent': '29.700', 'box': '8.6', 'defensiveBox': '1.7', 'offensiveBox': '7.0', 'winShares': '14.3', 'defensiveWs': '4.6', 'offensiveWs': '9.7', 'per': '25.7', 'winSharesPer': '0.203', 'vorp': '9.1'}, {'playerName': 'LeBron James', 'position': 'SG', 'team': 'CLE', 'season': 2004, 'assistPercent': '27.800', 'blockPercent': '1.300', 'stealPercent': '2.200', 'tsPercent': '0.488', 'totalRbPercent': '7.600', 'defensiveRbPercent': '11.800', 'offensiveRbPercent': '3.500', 'threePAr': '0.145', 'usagePercent': '28.200', 'box': '1.7', 'defensiveBox': '-0.6', 'offensiveBox': '2.3', 'winShares': '5.1', 'defensiveWs': '2.6', 'offensiveWs': '2.4', 'per': '18.3', 'winSharesPer': '0.078', 'vorp': '2.9'}]}\n",
      "[{'playerName': 'LeBron James', 'position': 'PF', 'team': 'LAL', 'season': 2023, 'assistPercent': '33.500', 'blockPercent': '1.400', 'stealPercent': '1.200', 'tsPercent': '0.583', 'totalRbPercent': '12.500', 'defensiveRbPercent': '20.800', 'offensiveRbPercent': '3.700', 'threePAr': '0.309', 'usagePercent': '33.300', 'box': '6.1', 'defensiveBox': '0.6', 'offensiveBox': '5.5', 'winShares': '5.6', 'defensiveWs': '2.4', 'offensiveWs': '3.2', 'per': '23.9', 'winSharesPer': '0.138', 'vorp': '4.0'}, {'playerName': 'LeBron James', 'position': 'C', 'team': 'LAL', 'season': 2022, 'assistPercent': '30.600', 'blockPercent': '2.500', 'stealPercent': '1.700', 'tsPercent': '0.619', 'totalRbPercent': '11.800', 'defensiveRbPercent': '20.400', 'offensiveRbPercent': '3.300', 'threePAr': '0.367', 'usagePercent': '32.300', 'box': '7.7', 'defensiveBox': '0.8', 'offensiveBox': '6.9', 'winShares': '7.5', 'defensiveWs': '2.3', 'offensiveWs': '5.2', 'per': '26.2', 'winSharesPer': '0.172', 'vorp': '5.1'}, {'playerName': 'LeBron James', 'position': 'PG', 'team': 'LAL', 'season': 2021, 'assistPercent': '41.800', 'blockPercent': '1.500', 'stealPercent': '1.600', 'tsPercent': '0.602', 'totalRbPercent': '12.900', 'defensiveRbPercent': '23.600', 'offensiveRbPercent': '2.200', 'threePAr': '0.346', 'usagePercent': '31.900', 'box': '8.1', 'defensiveBox': '2.3', 'offensiveBox': '5.9', 'winShares': '5.6', 'defensiveWs': '2.6', 'offensiveWs': '3.0', 'per': '24.2', 'winSharesPer': '0.179', 'vorp': '3.8'}, {'playerName': 'LeBron James', 'position': 'PG', 'team': 'LAL', 'season': 2020, 'assistPercent': '49.100', 'blockPercent': '1.400', 'stealPercent': '1.600', 'tsPercent': '0.577', 'totalRbPercent': '12.400', 'defensiveRbPercent': '21.500', 'offensiveRbPercent': '3.200', 'threePAr': '0.326', 'usagePercent': '31.500', 'box': '8.4', 'defensiveBox': '1.8', 'offensiveBox': '6.6', 'winShares': '9.8', 'defensiveWs': '3.6', 'offensiveWs': '6.2', 'per': '25.5', 'winSharesPer': '0.204', 'vorp': '6.1'}, {'playerName': 'LeBron James', 'position': 'SF', 'team': 'LAL', 'season': 2019, 'assistPercent': '39.400', 'blockPercent': '1.400', 'stealPercent': '1.700', 'tsPercent': '0.588', 'totalRbPercent': '12.400', 'defensiveRbPercent': '21.300', 'offensiveRbPercent': '3.100', 'threePAr': '0.299', 'usagePercent': '31.600', 'box': '8.0', 'defensiveBox': '1.7', 'offensiveBox': '6.4', 'winShares': '7.2', 'defensiveWs': '2.6', 'offensiveWs': '4.7', 'per': '25.6', 'winSharesPer': '0.179', 'vorp': '4.9'}, {'playerName': 'LeBron James', 'position': 'PF', 'team': 'CLE', 'season': 2018, 'assistPercent': '44.400', 'blockPercent': '2.000', 'stealPercent': '1.900', 'tsPercent': '0.621', 'totalRbPercent': '13.100', 'defensiveRbPercent': '22.300', 'offensiveRbPercent': '3.700', 'threePAr': '0.257', 'usagePercent': '31.600', 'box': '8.7', 'defensiveBox': '1.4', 'offensiveBox': '7.3', 'winShares': '14.0', 'defensiveWs': '3.0', 'offensiveWs': '11.0', 'per': '28.6', 'winSharesPer': '0.221', 'vorp': '8.2'}, {'playerName': 'LeBron James', 'position': 'SF', 'team': 'CLE', 'season': 2017, 'assistPercent': '41.300', 'blockPercent': '1.300', 'stealPercent': '1.600', 'tsPercent': '0.619', 'totalRbPercent': '12.600', 'defensiveRbPercent': '20.700', 'offensiveRbPercent': '4.000', 'threePAr': '0.254', 'usagePercent': '30.000', 'box': '7.6', 'defensiveBox': '1.2', 'offensiveBox': '6.4', 'winShares': '12.9', 'defensiveWs': '3.0', 'offensiveWs': '9.8', 'per': '27.0', 'winSharesPer': '0.221', 'vorp': '6.7'}, {'playerName': 'LeBron James', 'position': 'SF', 'team': 'CLE', 'season': 2016, 'assistPercent': '36.000', 'blockPercent': '1.500', 'stealPercent': '2.000', 'tsPercent': '0.588', 'totalRbPercent': '11.800', 'defensiveRbPercent': '18.800', 'offensiveRbPercent': '4.700', 'threePAr': '0.199', 'usagePercent': '31.400', 'box': '9.0', 'defensiveBox': '2.0', 'offensiveBox': '7.0', 'winShares': '13.6', 'defensiveWs': '4.0', 'offensiveWs': '9.6', 'per': '27.5', 'winSharesPer': '0.242', 'vorp': '7.5'}, {'playerName': 'LeBron James', 'position': 'SF', 'team': 'CLE', 'season': 2015, 'assistPercent': '38.600', 'blockPercent': '1.600', 'stealPercent': '2.300', 'tsPercent': '0.577', 'totalRbPercent': '9.600', 'defensiveRbPercent': '16.600', 'offensiveRbPercent': '2.400', 'threePAr': '0.265', 'usagePercent': '32.300', 'box': '7.1', 'defensiveBox': '1.0', 'offensiveBox': '6.1', 'winShares': '10.4', 'defensiveWs': '2.9', 'offensiveWs': '7.4', 'per': '25.9', 'winSharesPer': '0.199', 'vorp': '5.7'}, {'playerName': 'LeBron James', 'position': 'PF', 'team': 'MIA', 'season': 2014, 'assistPercent': '32.000', 'blockPercent': '0.800', 'stealPercent': '2.200', 'tsPercent': '0.649', 'totalRbPercent': '11.500', 'defensiveRbPercent': '18.900', 'offensiveRbPercent': '3.600', 'threePAr': '0.226', 'usagePercent': '31.000', 'box': '8.8', 'defensiveBox': '1.1', 'offensiveBox': '7.8', 'winShares': '15.9', 'defensiveWs': '3.7', 'offensiveWs': '12.3', 'per': '29.3', 'winSharesPer': '0.264', 'vorp': '7.9'}, {'playerName': 'LeBron James', 'position': 'PF', 'team': 'MIA', 'season': 2013, 'assistPercent': '36.400', 'blockPercent': '1.900', 'stealPercent': '2.400', 'tsPercent': '0.640', 'totalRbPercent': '13.100', 'defensiveRbPercent': '20.800', 'offensiveRbPercent': '4.400', 'threePAr': '0.188', 'usagePercent': '30.200', 'box': '11.7', 'defensiveBox': '2.4', 'offensiveBox': '9.3', 'winShares': '19.3', 'defensiveWs': '4.7', 'offensiveWs': '14.6', 'per': '31.6', 'winSharesPer': '0.322', 'vorp': '9.9'}, {'playerName': 'LeBron James', 'position': 'SF', 'team': 'MIA', 'season': 2012, 'assistPercent': '33.600', 'blockPercent': '1.700', 'stealPercent': '2.600', 'tsPercent': '0.605', 'totalRbPercent': '12.600', 'defensiveRbPercent': '19.700', 'offensiveRbPercent': '5.000', 'threePAr': '0.127', 'usagePercent': '32.000', 'box': '10.9', 'defensiveBox': '2.7', 'offensiveBox': '8.2', 'winShares': '14.5', 'defensiveWs': '4.5', 'offensiveWs': '10.0', 'per': '30.7', 'winSharesPer': '0.298', 'vorp': '7.6'}, {'playerName': 'LeBron James', 'position': 'SF', 'team': 'MIA', 'season': 2011, 'assistPercent': '34.900', 'blockPercent': '1.300', 'stealPercent': '2.100', 'tsPercent': '0.594', 'totalRbPercent': '11.400', 'defensiveRbPercent': '18.700', 'offensiveRbPercent': '3.300', 'threePAr': '0.188', 'usagePercent': '31.500', 'box': '8.1', 'defensiveBox': '1.8', 'offensiveBox': '6.3', 'winShares': '15.6', 'defensiveWs': '5.3', 'offensiveWs': '10.3', 'per': '27.3', 'winSharesPer': '0.244', 'vorp': '7.8'}, {'playerName': 'LeBron James', 'position': 'SF', 'team': 'CLE', 'season': 2010, 'assistPercent': '41.800', 'blockPercent': '2.000', 'stealPercent': '2.200', 'tsPercent': '0.604', 'totalRbPercent': '11.100', 'defensiveRbPercent': '18.500', 'offensiveRbPercent': '3.000', 'threePAr': '0.253', 'usagePercent': '33.500', 'box': '11.8', 'defensiveBox': '2.8', 'offensiveBox': '9.1', 'winShares': '18.5', 'defensiveWs': '5.2', 'offensiveWs': '13.3', 'per': '31.1', 'winSharesPer': '0.299', 'vorp': '10.3'}, {'playerName': 'LeBron James', 'position': 'SF', 'team': 'CLE', 'season': 2009, 'assistPercent': '38.000', 'blockPercent': '2.400', 'stealPercent': '2.400', 'tsPercent': '0.591', 'totalRbPercent': '11.900', 'defensiveRbPercent': '19.000', 'offensiveRbPercent': '4.300', 'threePAr': '0.238', 'usagePercent': '33.800', 'box': '13.2', 'defensiveBox': '3.7', 'offensiveBox': '9.5', 'winShares': '20.3', 'defensiveWs': '6.5', 'offensiveWs': '13.7', 'per': '31.7', 'winSharesPer': '0.318', 'vorp': '11.8'}, {'playerName': 'LeBron James', 'position': 'SF', 'team': 'CLE', 'season': 2008, 'assistPercent': '37.300', 'blockPercent': '2.100', 'stealPercent': '2.400', 'tsPercent': '0.568', 'totalRbPercent': '11.100', 'defensiveRbPercent': '17.800', 'offensiveRbPercent': '4.900', 'threePAr': '0.219', 'usagePercent': '33.500', 'box': '10.9', 'defensiveBox': '2.6', 'offensiveBox': '8.2', 'winShares': '15.2', 'defensiveWs': '4.6', 'offensiveWs': '10.7', 'per': '29.1', 'winSharesPer': '0.242', 'vorp': '9.8'}, {'playerName': 'LeBron James', 'position': 'SF', 'team': 'CLE', 'season': 2007, 'assistPercent': '29.100', 'blockPercent': '1.300', 'stealPercent': '2.100', 'tsPercent': '0.552', 'totalRbPercent': '9.600', 'defensiveRbPercent': '16.600', 'offensiveRbPercent': '3.000', 'threePAr': '0.191', 'usagePercent': '31.000', 'box': '8.1', 'defensiveBox': '2.2', 'offensiveBox': '5.9', 'winShares': '13.7', 'defensiveWs': '5.7', 'offensiveWs': '8.0', 'per': '24.5', 'winSharesPer': '0.206', 'vorp': '8.1'}, {'playerName': 'LeBron James', 'position': 'SF', 'team': 'CLE', 'season': 2006, 'assistPercent': '32.800', 'blockPercent': '1.500', 'stealPercent': '2.000', 'tsPercent': '0.568', 'totalRbPercent': '9.800', 'defensiveRbPercent': '17.100', 'offensiveRbPercent': '2.600', 'threePAr': '0.208', 'usagePercent': '33.600', 'box': '9.1', 'defensiveBox': '1.6', 'offensiveBox': '7.5', 'winShares': '16.3', 'defensiveWs': '4.3', 'offensiveWs': '12.0', 'per': '28.1', 'winSharesPer': '0.232', 'vorp': '9.4'}, {'playerName': 'LeBron James', 'position': 'SF', 'team': 'CLE', 'season': 2005, 'assistPercent': '32.900', 'blockPercent': '1.100', 'stealPercent': '2.800', 'tsPercent': '0.554', 'totalRbPercent': '10.200', 'defensiveRbPercent': '17.000', 'offensiveRbPercent': '3.800', 'threePAr': '0.183', 'usagePercent': '29.700', 'box': '8.6', 'defensiveBox': '1.7', 'offensiveBox': '7.0', 'winShares': '14.3', 'defensiveWs': '4.6', 'offensiveWs': '9.7', 'per': '25.7', 'winSharesPer': '0.203', 'vorp': '9.1'}, {'playerName': 'LeBron James', 'position': 'SG', 'team': 'CLE', 'season': 2004, 'assistPercent': '27.800', 'blockPercent': '1.300', 'stealPercent': '2.200', 'tsPercent': '0.488', 'totalRbPercent': '7.600', 'defensiveRbPercent': '11.800', 'offensiveRbPercent': '3.500', 'threePAr': '0.145', 'usagePercent': '28.200', 'box': '1.7', 'defensiveBox': '-0.6', 'offensiveBox': '2.3', 'winShares': '5.1', 'defensiveWs': '2.6', 'offensiveWs': '2.4', 'per': '18.3', 'winSharesPer': '0.078', 'vorp': '2.9'}]\n"
     ]
    }
   ],
   "source": [
    "# Setup the transport and client\n",
    "_transport = RequestsHTTPTransport(\n",
    "    url='http://209.38.172.107/graphql/',\n",
    "    use_json=True,\n",
    ")\n",
    "\n",
    "client = Client(\n",
    "    transport = _transport,\n",
    "    fetch_schema_from_transport=True,\n",
    ")\n",
    "\n",
    "# Define Query\n",
    "query = gql('''\n",
    "query MyQueryCopy {\n",
    "  playerTotalsAll(name: \"LeBron James\") {\n",
    "    playerName\n",
    "    position\n",
    "    team\n",
    "    season\n",
    "    assists\n",
    "    blocks\n",
    "    steals\n",
    "    defensiveRb\n",
    "    offensiveRb\n",
    "    totalRb\n",
    "    effectFgPercent\n",
    "    fieldAttempts\n",
    "    fieldGoals\n",
    "    fieldPercent\n",
    "    ft\n",
    "    ftAttempts\n",
    "    ftPercent\n",
    "    games\n",
    "    gamesStarted\n",
    "    minutesPg\n",
    "    threeAttempts\n",
    "    threeFg\n",
    "    threePercent\n",
    "    twoAttempts\n",
    "    twoFg\n",
    "    twoPercent\n",
    "    points\n",
    "  }\n",
    "  playerAdvancedAll(name: \"LeBron James\") {\n",
    "    playerName\n",
    "    position\n",
    "    team\n",
    "    season\n",
    "    assistPercent\n",
    "    blockPercent\n",
    "    stealPercent\n",
    "    tsPercent\n",
    "    totalRbPercent\n",
    "    defensiveRbPercent\n",
    "    offensiveRbPercent\n",
    "    threePAr\n",
    "    usagePercent\n",
    "    box\n",
    "    defensiveBox\n",
    "    offensiveBox\n",
    "    winShares\n",
    "    defensiveWs\n",
    "    offensiveWs\n",
    "    per\n",
    "    winSharesPer\n",
    "    vorp\n",
    "  }\n",
    "}\n",
    "''')\n",
    "\n",
    "# Execute and store response\n",
    "\n",
    "response = client.execute(query)\n",
    "data_totals = response['playerTotalsAll']\n",
    "data_advanced = response['playerAdvancedAll']\n",
    "\n",
    "print(response)\n",
    "\n",
    "print(data_advanced)"
   ]
  },
  {
   "cell_type": "code",
   "execution_count": 17,
   "metadata": {},
   "outputs": [
    {
     "data": {
      "application/vnd.plotly.v1+json": {
       "config": {
        "plotlyServerURL": "https://plot.ly"
       },
       "data": [
        {
         "hovertemplate": "tsPercent=%{x}<br>usagePercent=%{y}<br>winShares=%{z}<br>season=%{marker.color}<extra></extra>",
         "legendgroup": "",
         "marker": {
          "color": [
           2023,
           2022,
           2021,
           2020,
           2019,
           2018,
           2017,
           2016,
           2015,
           2014,
           2013,
           2012,
           2011,
           2010,
           2009,
           2008,
           2007,
           2006,
           2005,
           2004
          ],
          "coloraxis": "coloraxis",
          "symbol": "circle"
         },
         "mode": "markers",
         "name": "",
         "scene": "scene",
         "showlegend": false,
         "type": "scatter3d",
         "x": [
          "0.583",
          "0.619",
          "0.602",
          "0.577",
          "0.588",
          "0.621",
          "0.619",
          "0.588",
          "0.577",
          "0.649",
          "0.640",
          "0.605",
          "0.594",
          "0.604",
          "0.591",
          "0.568",
          "0.552",
          "0.568",
          "0.554",
          "0.488"
         ],
         "y": [
          "33.300",
          "32.300",
          "31.900",
          "31.500",
          "31.600",
          "31.600",
          "30.000",
          "31.400",
          "32.300",
          "31.000",
          "30.200",
          "32.000",
          "31.500",
          "33.500",
          "33.800",
          "33.500",
          "31.000",
          "33.600",
          "29.700",
          "28.200"
         ],
         "z": [
          "5.6",
          "7.5",
          "5.6",
          "9.8",
          "7.2",
          "14.0",
          "12.9",
          "13.6",
          "10.4",
          "15.9",
          "19.3",
          "14.5",
          "15.6",
          "18.5",
          "20.3",
          "15.2",
          "13.7",
          "16.3",
          "14.3",
          "5.1"
         ]
        }
       ],
       "layout": {
        "autosize": false,
        "coloraxis": {
         "colorbar": {
          "title": {
           "text": "season"
          }
         },
         "colorscale": [
          [
           0,
           "#0d0887"
          ],
          [
           0.1111111111111111,
           "#46039f"
          ],
          [
           0.2222222222222222,
           "#7201a8"
          ],
          [
           0.3333333333333333,
           "#9c179e"
          ],
          [
           0.4444444444444444,
           "#bd3786"
          ],
          [
           0.5555555555555556,
           "#d8576b"
          ],
          [
           0.6666666666666666,
           "#ed7953"
          ],
          [
           0.7777777777777778,
           "#fb9f3a"
          ],
          [
           0.8888888888888888,
           "#fdca26"
          ],
          [
           1,
           "#f0f921"
          ]
         ]
        },
        "height": 1000,
        "legend": {
         "tracegroupgap": 0
        },
        "margin": {
         "b": 65,
         "l": 65,
         "r": 50,
         "t": 90
        },
        "scene": {
         "domain": {
          "x": [
           0,
           1
          ],
          "y": [
           0,
           1
          ]
         },
         "xaxis": {
          "title": {
           "text": "tsPercent"
          }
         },
         "yaxis": {
          "title": {
           "text": "usagePercent"
          }
         },
         "zaxis": {
          "title": {
           "text": "winShares"
          }
         }
        },
        "template": {
         "data": {
          "bar": [
           {
            "error_x": {
             "color": "#2a3f5f"
            },
            "error_y": {
             "color": "#2a3f5f"
            },
            "marker": {
             "line": {
              "color": "#E5ECF6",
              "width": 0.5
             },
             "pattern": {
              "fillmode": "overlay",
              "size": 10,
              "solidity": 0.2
             }
            },
            "type": "bar"
           }
          ],
          "barpolar": [
           {
            "marker": {
             "line": {
              "color": "#E5ECF6",
              "width": 0.5
             },
             "pattern": {
              "fillmode": "overlay",
              "size": 10,
              "solidity": 0.2
             }
            },
            "type": "barpolar"
           }
          ],
          "carpet": [
           {
            "aaxis": {
             "endlinecolor": "#2a3f5f",
             "gridcolor": "white",
             "linecolor": "white",
             "minorgridcolor": "white",
             "startlinecolor": "#2a3f5f"
            },
            "baxis": {
             "endlinecolor": "#2a3f5f",
             "gridcolor": "white",
             "linecolor": "white",
             "minorgridcolor": "white",
             "startlinecolor": "#2a3f5f"
            },
            "type": "carpet"
           }
          ],
          "choropleth": [
           {
            "colorbar": {
             "outlinewidth": 0,
             "ticks": ""
            },
            "type": "choropleth"
           }
          ],
          "contour": [
           {
            "colorbar": {
             "outlinewidth": 0,
             "ticks": ""
            },
            "colorscale": [
             [
              0,
              "#0d0887"
             ],
             [
              0.1111111111111111,
              "#46039f"
             ],
             [
              0.2222222222222222,
              "#7201a8"
             ],
             [
              0.3333333333333333,
              "#9c179e"
             ],
             [
              0.4444444444444444,
              "#bd3786"
             ],
             [
              0.5555555555555556,
              "#d8576b"
             ],
             [
              0.6666666666666666,
              "#ed7953"
             ],
             [
              0.7777777777777778,
              "#fb9f3a"
             ],
             [
              0.8888888888888888,
              "#fdca26"
             ],
             [
              1,
              "#f0f921"
             ]
            ],
            "type": "contour"
           }
          ],
          "contourcarpet": [
           {
            "colorbar": {
             "outlinewidth": 0,
             "ticks": ""
            },
            "type": "contourcarpet"
           }
          ],
          "heatmap": [
           {
            "colorbar": {
             "outlinewidth": 0,
             "ticks": ""
            },
            "colorscale": [
             [
              0,
              "#0d0887"
             ],
             [
              0.1111111111111111,
              "#46039f"
             ],
             [
              0.2222222222222222,
              "#7201a8"
             ],
             [
              0.3333333333333333,
              "#9c179e"
             ],
             [
              0.4444444444444444,
              "#bd3786"
             ],
             [
              0.5555555555555556,
              "#d8576b"
             ],
             [
              0.6666666666666666,
              "#ed7953"
             ],
             [
              0.7777777777777778,
              "#fb9f3a"
             ],
             [
              0.8888888888888888,
              "#fdca26"
             ],
             [
              1,
              "#f0f921"
             ]
            ],
            "type": "heatmap"
           }
          ],
          "heatmapgl": [
           {
            "colorbar": {
             "outlinewidth": 0,
             "ticks": ""
            },
            "colorscale": [
             [
              0,
              "#0d0887"
             ],
             [
              0.1111111111111111,
              "#46039f"
             ],
             [
              0.2222222222222222,
              "#7201a8"
             ],
             [
              0.3333333333333333,
              "#9c179e"
             ],
             [
              0.4444444444444444,
              "#bd3786"
             ],
             [
              0.5555555555555556,
              "#d8576b"
             ],
             [
              0.6666666666666666,
              "#ed7953"
             ],
             [
              0.7777777777777778,
              "#fb9f3a"
             ],
             [
              0.8888888888888888,
              "#fdca26"
             ],
             [
              1,
              "#f0f921"
             ]
            ],
            "type": "heatmapgl"
           }
          ],
          "histogram": [
           {
            "marker": {
             "pattern": {
              "fillmode": "overlay",
              "size": 10,
              "solidity": 0.2
             }
            },
            "type": "histogram"
           }
          ],
          "histogram2d": [
           {
            "colorbar": {
             "outlinewidth": 0,
             "ticks": ""
            },
            "colorscale": [
             [
              0,
              "#0d0887"
             ],
             [
              0.1111111111111111,
              "#46039f"
             ],
             [
              0.2222222222222222,
              "#7201a8"
             ],
             [
              0.3333333333333333,
              "#9c179e"
             ],
             [
              0.4444444444444444,
              "#bd3786"
             ],
             [
              0.5555555555555556,
              "#d8576b"
             ],
             [
              0.6666666666666666,
              "#ed7953"
             ],
             [
              0.7777777777777778,
              "#fb9f3a"
             ],
             [
              0.8888888888888888,
              "#fdca26"
             ],
             [
              1,
              "#f0f921"
             ]
            ],
            "type": "histogram2d"
           }
          ],
          "histogram2dcontour": [
           {
            "colorbar": {
             "outlinewidth": 0,
             "ticks": ""
            },
            "colorscale": [
             [
              0,
              "#0d0887"
             ],
             [
              0.1111111111111111,
              "#46039f"
             ],
             [
              0.2222222222222222,
              "#7201a8"
             ],
             [
              0.3333333333333333,
              "#9c179e"
             ],
             [
              0.4444444444444444,
              "#bd3786"
             ],
             [
              0.5555555555555556,
              "#d8576b"
             ],
             [
              0.6666666666666666,
              "#ed7953"
             ],
             [
              0.7777777777777778,
              "#fb9f3a"
             ],
             [
              0.8888888888888888,
              "#fdca26"
             ],
             [
              1,
              "#f0f921"
             ]
            ],
            "type": "histogram2dcontour"
           }
          ],
          "mesh3d": [
           {
            "colorbar": {
             "outlinewidth": 0,
             "ticks": ""
            },
            "type": "mesh3d"
           }
          ],
          "parcoords": [
           {
            "line": {
             "colorbar": {
              "outlinewidth": 0,
              "ticks": ""
             }
            },
            "type": "parcoords"
           }
          ],
          "pie": [
           {
            "automargin": true,
            "type": "pie"
           }
          ],
          "scatter": [
           {
            "fillpattern": {
             "fillmode": "overlay",
             "size": 10,
             "solidity": 0.2
            },
            "type": "scatter"
           }
          ],
          "scatter3d": [
           {
            "line": {
             "colorbar": {
              "outlinewidth": 0,
              "ticks": ""
             }
            },
            "marker": {
             "colorbar": {
              "outlinewidth": 0,
              "ticks": ""
             }
            },
            "type": "scatter3d"
           }
          ],
          "scattercarpet": [
           {
            "marker": {
             "colorbar": {
              "outlinewidth": 0,
              "ticks": ""
             }
            },
            "type": "scattercarpet"
           }
          ],
          "scattergeo": [
           {
            "marker": {
             "colorbar": {
              "outlinewidth": 0,
              "ticks": ""
             }
            },
            "type": "scattergeo"
           }
          ],
          "scattergl": [
           {
            "marker": {
             "colorbar": {
              "outlinewidth": 0,
              "ticks": ""
             }
            },
            "type": "scattergl"
           }
          ],
          "scattermapbox": [
           {
            "marker": {
             "colorbar": {
              "outlinewidth": 0,
              "ticks": ""
             }
            },
            "type": "scattermapbox"
           }
          ],
          "scatterpolar": [
           {
            "marker": {
             "colorbar": {
              "outlinewidth": 0,
              "ticks": ""
             }
            },
            "type": "scatterpolar"
           }
          ],
          "scatterpolargl": [
           {
            "marker": {
             "colorbar": {
              "outlinewidth": 0,
              "ticks": ""
             }
            },
            "type": "scatterpolargl"
           }
          ],
          "scatterternary": [
           {
            "marker": {
             "colorbar": {
              "outlinewidth": 0,
              "ticks": ""
             }
            },
            "type": "scatterternary"
           }
          ],
          "surface": [
           {
            "colorbar": {
             "outlinewidth": 0,
             "ticks": ""
            },
            "colorscale": [
             [
              0,
              "#0d0887"
             ],
             [
              0.1111111111111111,
              "#46039f"
             ],
             [
              0.2222222222222222,
              "#7201a8"
             ],
             [
              0.3333333333333333,
              "#9c179e"
             ],
             [
              0.4444444444444444,
              "#bd3786"
             ],
             [
              0.5555555555555556,
              "#d8576b"
             ],
             [
              0.6666666666666666,
              "#ed7953"
             ],
             [
              0.7777777777777778,
              "#fb9f3a"
             ],
             [
              0.8888888888888888,
              "#fdca26"
             ],
             [
              1,
              "#f0f921"
             ]
            ],
            "type": "surface"
           }
          ],
          "table": [
           {
            "cells": {
             "fill": {
              "color": "#EBF0F8"
             },
             "line": {
              "color": "white"
             }
            },
            "header": {
             "fill": {
              "color": "#C8D4E3"
             },
             "line": {
              "color": "white"
             }
            },
            "type": "table"
           }
          ]
         },
         "layout": {
          "annotationdefaults": {
           "arrowcolor": "#2a3f5f",
           "arrowhead": 0,
           "arrowwidth": 1
          },
          "autotypenumbers": "strict",
          "coloraxis": {
           "colorbar": {
            "outlinewidth": 0,
            "ticks": ""
           }
          },
          "colorscale": {
           "diverging": [
            [
             0,
             "#8e0152"
            ],
            [
             0.1,
             "#c51b7d"
            ],
            [
             0.2,
             "#de77ae"
            ],
            [
             0.3,
             "#f1b6da"
            ],
            [
             0.4,
             "#fde0ef"
            ],
            [
             0.5,
             "#f7f7f7"
            ],
            [
             0.6,
             "#e6f5d0"
            ],
            [
             0.7,
             "#b8e186"
            ],
            [
             0.8,
             "#7fbc41"
            ],
            [
             0.9,
             "#4d9221"
            ],
            [
             1,
             "#276419"
            ]
           ],
           "sequential": [
            [
             0,
             "#0d0887"
            ],
            [
             0.1111111111111111,
             "#46039f"
            ],
            [
             0.2222222222222222,
             "#7201a8"
            ],
            [
             0.3333333333333333,
             "#9c179e"
            ],
            [
             0.4444444444444444,
             "#bd3786"
            ],
            [
             0.5555555555555556,
             "#d8576b"
            ],
            [
             0.6666666666666666,
             "#ed7953"
            ],
            [
             0.7777777777777778,
             "#fb9f3a"
            ],
            [
             0.8888888888888888,
             "#fdca26"
            ],
            [
             1,
             "#f0f921"
            ]
           ],
           "sequentialminus": [
            [
             0,
             "#0d0887"
            ],
            [
             0.1111111111111111,
             "#46039f"
            ],
            [
             0.2222222222222222,
             "#7201a8"
            ],
            [
             0.3333333333333333,
             "#9c179e"
            ],
            [
             0.4444444444444444,
             "#bd3786"
            ],
            [
             0.5555555555555556,
             "#d8576b"
            ],
            [
             0.6666666666666666,
             "#ed7953"
            ],
            [
             0.7777777777777778,
             "#fb9f3a"
            ],
            [
             0.8888888888888888,
             "#fdca26"
            ],
            [
             1,
             "#f0f921"
            ]
           ]
          },
          "colorway": [
           "#636efa",
           "#EF553B",
           "#00cc96",
           "#ab63fa",
           "#FFA15A",
           "#19d3f3",
           "#FF6692",
           "#B6E880",
           "#FF97FF",
           "#FECB52"
          ],
          "font": {
           "color": "#2a3f5f"
          },
          "geo": {
           "bgcolor": "white",
           "lakecolor": "white",
           "landcolor": "#E5ECF6",
           "showlakes": true,
           "showland": true,
           "subunitcolor": "white"
          },
          "hoverlabel": {
           "align": "left"
          },
          "hovermode": "closest",
          "mapbox": {
           "style": "light"
          },
          "paper_bgcolor": "white",
          "plot_bgcolor": "#E5ECF6",
          "polar": {
           "angularaxis": {
            "gridcolor": "white",
            "linecolor": "white",
            "ticks": ""
           },
           "bgcolor": "#E5ECF6",
           "radialaxis": {
            "gridcolor": "white",
            "linecolor": "white",
            "ticks": ""
           }
          },
          "scene": {
           "xaxis": {
            "backgroundcolor": "#E5ECF6",
            "gridcolor": "white",
            "gridwidth": 2,
            "linecolor": "white",
            "showbackground": true,
            "ticks": "",
            "zerolinecolor": "white"
           },
           "yaxis": {
            "backgroundcolor": "#E5ECF6",
            "gridcolor": "white",
            "gridwidth": 2,
            "linecolor": "white",
            "showbackground": true,
            "ticks": "",
            "zerolinecolor": "white"
           },
           "zaxis": {
            "backgroundcolor": "#E5ECF6",
            "gridcolor": "white",
            "gridwidth": 2,
            "linecolor": "white",
            "showbackground": true,
            "ticks": "",
            "zerolinecolor": "white"
           }
          },
          "shapedefaults": {
           "line": {
            "color": "#2a3f5f"
           }
          },
          "ternary": {
           "aaxis": {
            "gridcolor": "white",
            "linecolor": "white",
            "ticks": ""
           },
           "baxis": {
            "gridcolor": "white",
            "linecolor": "white",
            "ticks": ""
           },
           "bgcolor": "#E5ECF6",
           "caxis": {
            "gridcolor": "white",
            "linecolor": "white",
            "ticks": ""
           }
          },
          "title": {
           "x": 0.05
          },
          "xaxis": {
           "automargin": true,
           "gridcolor": "white",
           "linecolor": "white",
           "ticks": "",
           "title": {
            "standoff": 15
           },
           "zerolinecolor": "white",
           "zerolinewidth": 2
          },
          "yaxis": {
           "automargin": true,
           "gridcolor": "white",
           "linecolor": "white",
           "ticks": "",
           "title": {
            "standoff": 15
           },
           "zerolinecolor": "white",
           "zerolinewidth": 2
          }
         }
        },
        "title": {
         "text": "3-D Scatter"
        },
        "width": 1000
       }
      }
     },
     "metadata": {},
     "output_type": "display_data"
    }
   ],
   "source": [
    "import ipywidgets as widgets\n",
    "from IPython.display import display\n",
    "\n",
    "kobe_df = pd.DataFrame(data_advanced)\n",
    "\n",
    "def plot_radar(season):\n",
    "    # Filter by season\n",
    "    season_data = kobe_df[kobe_df['season'] == season]\n",
    "    \n",
    "\n",
    "def plot_three_dimension():\n",
    "    fig = px.scatter_3d(data_advanced, x='tsPercent', y='usagePercent', z='winShares', color='season')\n",
    "    fig.update_layout(title='3-D Scatter', autosize=False, width=1000, height=1000, margin=dict(l=65, r=50, b=65, t=90))\n",
    "    \n",
    "    fig.show()\n",
    "    \n",
    "    \n",
    "plot_three_dimension()"
   ]
  }
 ],
 "metadata": {
  "kernelspec": {
   "display_name": "venv",
   "language": "python",
   "name": "python3"
  },
  "language_info": {
   "codemirror_mode": {
    "name": "ipython",
    "version": 3
   },
   "file_extension": ".py",
   "mimetype": "text/x-python",
   "name": "python",
   "nbconvert_exporter": "python",
   "pygments_lexer": "ipython3",
   "version": "3.10.4"
  }
 },
 "nbformat": 4,
 "nbformat_minor": 2
}
