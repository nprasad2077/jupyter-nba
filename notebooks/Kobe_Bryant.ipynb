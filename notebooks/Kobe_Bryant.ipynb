{
 "cells": [
  {
   "cell_type": "code",
   "execution_count": 1,
   "metadata": {},
   "outputs": [],
   "source": [
    "import warnings\n",
    "warnings.filterwarnings(\"ignore\", category=DeprecationWarning)\n",
    "\n",
    "import os.path\n",
    "import pandas as pd\n",
    "import plotly.express as px\n",
    "import plotly.graph_objs as go\n",
    "import matplotlib.pyplot as plt\n",
    "import numpy as np\n",
    "from gql import gql, Client\n",
    "from gql.transport.requests import RequestsHTTPTransport"
   ]
  },
  {
   "cell_type": "code",
   "execution_count": 2,
   "metadata": {},
   "outputs": [
    {
     "name": "stdout",
     "output_type": "stream",
     "text": [
      "{'playerTotalsAll': [{'playerName': 'Kobe Bryant*', 'position': 'SF', 'team': 'LAL', 'season': 2016, 'assists': 184, 'blocks': 13, 'steals': 62, 'defensiveRb': 206, 'offensiveRb': 41, 'totalRb': 247, 'effectFgPercent': '0.417', 'fieldAttempts': 1113, 'fieldGoals': 398, 'fieldPercent': '0.358', 'ft': 232, 'ftAttempts': 281, 'ftPercent': '0.826', 'games': 66, 'gamesStarted': 66, 'minutesPg': '1863.0', 'threeAttempts': 467, 'threeFg': 133, 'threePercent': '0.285', 'twoAttempts': 646, 'twoFg': 265, 'twoPercent': '0.410', 'points': 1161}, {'playerName': 'Kobe Bryant*', 'position': 'SG', 'team': 'LAL', 'season': 2015, 'assists': 197, 'blocks': 7, 'steals': 47, 'defensiveRb': 173, 'offensiveRb': 26, 'totalRb': 199, 'effectFgPercent': '0.411', 'fieldAttempts': 713, 'fieldGoals': 266, 'fieldPercent': '0.373', 'ft': 196, 'ftAttempts': 241, 'ftPercent': '0.813', 'games': 35, 'gamesStarted': 35, 'minutesPg': '1207.0', 'threeAttempts': 184, 'threeFg': 54, 'threePercent': '0.293', 'twoAttempts': 529, 'twoFg': 212, 'twoPercent': '0.401', 'points': 782}, {'playerName': 'Kobe Bryant*', 'position': 'SG', 'team': 'LAL', 'season': 2014, 'assists': 38, 'blocks': 1, 'steals': 7, 'defensiveRb': 24, 'offensiveRb': 2, 'totalRb': 26, 'effectFgPercent': '0.445', 'fieldAttempts': 73, 'fieldGoals': 31, 'fieldPercent': '0.425', 'ft': 18, 'ftAttempts': 21, 'ftPercent': '0.857', 'games': 6, 'gamesStarted': 6, 'minutesPg': '177.0', 'threeAttempts': 16, 'threeFg': 3, 'threePercent': '0.188', 'twoAttempts': 57, 'twoFg': 28, 'twoPercent': '0.491', 'points': 83}, {'playerName': 'Kobe Bryant*', 'position': 'SG', 'team': 'LAL', 'season': 2013, 'assists': 469, 'blocks': 25, 'steals': 106, 'defensiveRb': 367, 'offensiveRb': 66, 'totalRb': 433, 'effectFgPercent': '0.504', 'fieldAttempts': 1595, 'fieldGoals': 738, 'fieldPercent': '0.463', 'ft': 525, 'ftAttempts': 626, 'ftPercent': '0.839', 'games': 78, 'gamesStarted': 78, 'minutesPg': '3013.0', 'threeAttempts': 407, 'threeFg': 132, 'threePercent': '0.324', 'twoAttempts': 1188, 'twoFg': 606, 'twoPercent': '0.510', 'points': 2133}, {'playerName': 'Kobe Bryant*', 'position': 'SG', 'team': 'LAL', 'season': 2012, 'assists': 264, 'blocks': 18, 'steals': 69, 'defensiveRb': 247, 'offensiveRb': 66, 'totalRb': 313, 'effectFgPercent': '0.462', 'fieldAttempts': 1336, 'fieldGoals': 574, 'fieldPercent': '0.430', 'ft': 381, 'ftAttempts': 451, 'ftPercent': '0.845', 'games': 58, 'gamesStarted': 58, 'minutesPg': '2232.0', 'threeAttempts': 287, 'threeFg': 87, 'threePercent': '0.303', 'twoAttempts': 1049, 'twoFg': 487, 'twoPercent': '0.464', 'points': 1616}, {'playerName': 'Kobe Bryant*', 'position': 'SG', 'team': 'LAL', 'season': 2011, 'assists': 388, 'blocks': 12, 'steals': 99, 'defensiveRb': 336, 'offensiveRb': 83, 'totalRb': 419, 'effectFgPercent': '0.487', 'fieldAttempts': 1639, 'fieldGoals': 740, 'fieldPercent': '0.451', 'ft': 483, 'ftAttempts': 583, 'ftPercent': '0.828', 'games': 82, 'gamesStarted': 82, 'minutesPg': '2779.0', 'threeAttempts': 356, 'threeFg': 115, 'threePercent': '0.323', 'twoAttempts': 1283, 'twoFg': 625, 'twoPercent': '0.487', 'points': 2078}, {'playerName': 'Kobe Bryant*', 'position': 'SG', 'team': 'LAL', 'season': 2010, 'assists': 365, 'blocks': 20, 'steals': 113, 'defensiveRb': 313, 'offensiveRb': 78, 'totalRb': 391, 'effectFgPercent': '0.488', 'fieldAttempts': 1569, 'fieldGoals': 716, 'fieldPercent': '0.456', 'ft': 439, 'ftAttempts': 541, 'ftPercent': '0.811', 'games': 73, 'gamesStarted': 73, 'minutesPg': '2835.0', 'threeAttempts': 301, 'threeFg': 99, 'threePercent': '0.329', 'twoAttempts': 1268, 'twoFg': 617, 'twoPercent': '0.487', 'points': 1970}, {'playerName': 'Kobe Bryant*', 'position': 'SG', 'team': 'LAL', 'season': 2009, 'assists': 399, 'blocks': 37, 'steals': 120, 'defensiveRb': 339, 'offensiveRb': 90, 'totalRb': 429, 'effectFgPercent': '0.502', 'fieldAttempts': 1712, 'fieldGoals': 800, 'fieldPercent': '0.467', 'ft': 483, 'ftAttempts': 564, 'ftPercent': '0.856', 'games': 82, 'gamesStarted': 82, 'minutesPg': '2960.0', 'threeAttempts': 336, 'threeFg': 118, 'threePercent': '0.351', 'twoAttempts': 1376, 'twoFg': 682, 'twoPercent': '0.496', 'points': 2201}, {'playerName': 'Kobe Bryant*', 'position': 'SG', 'team': 'LAL', 'season': 2008, 'assists': 441, 'blocks': 40, 'steals': 151, 'defensiveRb': 423, 'offensiveRb': 94, 'totalRb': 517, 'effectFgPercent': '0.503', 'fieldAttempts': 1690, 'fieldGoals': 775, 'fieldPercent': '0.459', 'ft': 623, 'ftAttempts': 742, 'ftPercent': '0.840', 'games': 82, 'gamesStarted': 82, 'minutesPg': '3192.0', 'threeAttempts': 415, 'threeFg': 150, 'threePercent': '0.361', 'twoAttempts': 1275, 'twoFg': 625, 'twoPercent': '0.490', 'points': 2323}, {'playerName': 'Kobe Bryant*', 'position': 'SG', 'team': 'LAL', 'season': 2007, 'assists': 413, 'blocks': 36, 'steals': 111, 'defensiveRb': 364, 'offensiveRb': 75, 'totalRb': 439, 'effectFgPercent': '0.502', 'fieldAttempts': 1757, 'fieldGoals': 813, 'fieldPercent': '0.463', 'ft': 667, 'ftAttempts': 768, 'ftPercent': '0.868', 'games': 77, 'gamesStarted': 77, 'minutesPg': '3140.0', 'threeAttempts': 398, 'threeFg': 137, 'threePercent': '0.344', 'twoAttempts': 1359, 'twoFg': 676, 'twoPercent': '0.497', 'points': 2430}, {'playerName': 'Kobe Bryant*', 'position': 'SG', 'team': 'LAL', 'season': 2006, 'assists': 360, 'blocks': 30, 'steals': 147, 'defensiveRb': 354, 'offensiveRb': 71, 'totalRb': 425, 'effectFgPercent': '0.491', 'fieldAttempts': 2173, 'fieldGoals': 978, 'fieldPercent': '0.450', 'ft': 696, 'ftAttempts': 819, 'ftPercent': '0.850', 'games': 80, 'gamesStarted': 80, 'minutesPg': '3277.0', 'threeAttempts': 518, 'threeFg': 180, 'threePercent': '0.347', 'twoAttempts': 1655, 'twoFg': 798, 'twoPercent': '0.482', 'points': 2832}, {'playerName': 'Kobe Bryant*', 'position': 'SG', 'team': 'LAL', 'season': 2005, 'assists': 398, 'blocks': 53, 'steals': 86, 'defensiveRb': 297, 'offensiveRb': 95, 'totalRb': 392, 'effectFgPercent': '0.482', 'fieldAttempts': 1324, 'fieldGoals': 573, 'fieldPercent': '0.433', 'ft': 542, 'ftAttempts': 664, 'ftPercent': '0.816', 'games': 66, 'gamesStarted': 66, 'minutesPg': '2689.0', 'threeAttempts': 387, 'threeFg': 131, 'threePercent': '0.339', 'twoAttempts': 937, 'twoFg': 442, 'twoPercent': '0.472', 'points': 1819}, {'playerName': 'Kobe Bryant*', 'position': 'SG', 'team': 'LAL', 'season': 2004, 'assists': 330, 'blocks': 28, 'steals': 112, 'defensiveRb': 256, 'offensiveRb': 103, 'totalRb': 359, 'effectFgPercent': '0.468', 'fieldAttempts': 1178, 'fieldGoals': 516, 'fieldPercent': '0.438', 'ft': 454, 'ftAttempts': 533, 'ftPercent': '0.852', 'games': 65, 'gamesStarted': 64, 'minutesPg': '2447.0', 'threeAttempts': 217, 'threeFg': 71, 'threePercent': '0.327', 'twoAttempts': 961, 'twoFg': 445, 'twoPercent': '0.463', 'points': 1557}, {'playerName': 'Kobe Bryant*', 'position': 'SG', 'team': 'LAL', 'season': 2003, 'assists': 481, 'blocks': 67, 'steals': 181, 'defensiveRb': 458, 'offensiveRb': 106, 'totalRb': 564, 'effectFgPercent': '0.483', 'fieldAttempts': 1924, 'fieldGoals': 868, 'fieldPercent': '0.451', 'ft': 601, 'ftAttempts': 713, 'ftPercent': '0.843', 'games': 82, 'gamesStarted': 82, 'minutesPg': '3401.0', 'threeAttempts': 324, 'threeFg': 124, 'threePercent': '0.383', 'twoAttempts': 1600, 'twoFg': 744, 'twoPercent': '0.465', 'points': 2461}, {'playerName': 'Kobe Bryant*', 'position': 'SG', 'team': 'LAL', 'season': 2002, 'assists': 438, 'blocks': 35, 'steals': 118, 'defensiveRb': 329, 'offensiveRb': 112, 'totalRb': 441, 'effectFgPercent': '0.479', 'fieldAttempts': 1597, 'fieldGoals': 749, 'fieldPercent': '0.469', 'ft': 488, 'ftAttempts': 589, 'ftPercent': '0.829', 'games': 80, 'gamesStarted': 80, 'minutesPg': '3063.0', 'threeAttempts': 132, 'threeFg': 33, 'threePercent': '0.250', 'twoAttempts': 1465, 'twoFg': 716, 'twoPercent': '0.489', 'points': 2019}, {'playerName': 'Kobe Bryant*', 'position': 'SG', 'team': 'LAL', 'season': 2001, 'assists': 338, 'blocks': 43, 'steals': 114, 'defensiveRb': 295, 'offensiveRb': 104, 'totalRb': 399, 'effectFgPercent': '0.484', 'fieldAttempts': 1510, 'fieldGoals': 701, 'fieldPercent': '0.464', 'ft': 475, 'ftAttempts': 557, 'ftPercent': '0.853', 'games': 68, 'gamesStarted': 68, 'minutesPg': '2783.0', 'threeAttempts': 200, 'threeFg': 61, 'threePercent': '0.305', 'twoAttempts': 1310, 'twoFg': 640, 'twoPercent': '0.489', 'points': 1938}, {'playerName': 'Kobe Bryant*', 'position': 'SG', 'team': 'LAL', 'season': 2000, 'assists': 323, 'blocks': 62, 'steals': 106, 'defensiveRb': 308, 'offensiveRb': 108, 'totalRb': 416, 'effectFgPercent': '0.488', 'fieldAttempts': 1183, 'fieldGoals': 554, 'fieldPercent': '0.468', 'ft': 331, 'ftAttempts': 403, 'ftPercent': '0.821', 'games': 66, 'gamesStarted': 62, 'minutesPg': '2524.0', 'threeAttempts': 144, 'threeFg': 46, 'threePercent': '0.319', 'twoAttempts': 1039, 'twoFg': 508, 'twoPercent': '0.489', 'points': 1485}, {'playerName': 'Kobe Bryant*', 'position': 'SG', 'team': 'LAL', 'season': 1999, 'assists': 190, 'blocks': 50, 'steals': 72, 'defensiveRb': 211, 'offensiveRb': 53, 'totalRb': 264, 'effectFgPercent': '0.482', 'fieldAttempts': 779, 'fieldGoals': 362, 'fieldPercent': '0.465', 'ft': 245, 'ftAttempts': 292, 'ftPercent': '0.839', 'games': 50, 'gamesStarted': 50, 'minutesPg': '1896.0', 'threeAttempts': 101, 'threeFg': 27, 'threePercent': '0.267', 'twoAttempts': 678, 'twoFg': 335, 'twoPercent': '0.494', 'points': 996}, {'playerName': 'Kobe Bryant*', 'position': 'SF', 'team': 'LAL', 'season': 1998, 'assists': 199, 'blocks': 40, 'steals': 74, 'defensiveRb': 163, 'offensiveRb': 79, 'totalRb': 242, 'effectFgPercent': '0.469', 'fieldAttempts': 913, 'fieldGoals': 391, 'fieldPercent': '0.428', 'ft': 363, 'ftAttempts': 457, 'ftPercent': '0.794', 'games': 79, 'gamesStarted': 1, 'minutesPg': '2056.0', 'threeAttempts': 220, 'threeFg': 75, 'threePercent': '0.341', 'twoAttempts': 693, 'twoFg': 316, 'twoPercent': '0.456', 'points': 1220}, {'playerName': 'Kobe Bryant*', 'position': 'SF', 'team': 'LAL', 'season': 1997, 'assists': 91, 'blocks': 23, 'steals': 49, 'defensiveRb': 85, 'offensiveRb': 47, 'totalRb': 132, 'effectFgPercent': '0.477', 'fieldAttempts': 422, 'fieldGoals': 176, 'fieldPercent': '0.417', 'ft': 136, 'ftAttempts': 166, 'ftPercent': '0.819', 'games': 71, 'gamesStarted': 6, 'minutesPg': '1103.0', 'threeAttempts': 136, 'threeFg': 51, 'threePercent': '0.375', 'twoAttempts': 286, 'twoFg': 125, 'twoPercent': '0.437', 'points': 539}], 'playerAdvancedAll': [{'playerName': 'Kobe Bryant*', 'position': 'SF', 'team': 'LAL', 'season': 2016, 'assistPercent': '19.100', 'blockPercent': '0.500', 'stealPercent': '1.700', 'tsPercent': '0.469', 'totalRbPercent': '7.100', 'defensiveRbPercent': '12.300', 'offensiveRbPercent': '2.300', 'threePAr': '0.420', 'usagePercent': '32.200', 'box': '-1.6', 'defensiveBox': '-2.4', 'offensiveBox': '0.9', 'winShares': '-0.4', 'defensiveWs': '0.5', 'offensiveWs': '-0.9', 'per': '14.9', 'winSharesPer': '-0.010', 'vorp': '0.2'}, {'playerName': 'Kobe Bryant*', 'position': 'SG', 'team': 'LAL', 'season': 2015, 'assistPercent': '29.900', 'blockPercent': '0.500', 'stealPercent': '2.000', 'tsPercent': '0.477', 'totalRbPercent': '9.100', 'defensiveRbPercent': '16.500', 'offensiveRbPercent': '2.300', 'threePAr': '0.258', 'usagePercent': '34.900', 'box': '0.3', 'defensiveBox': '-1.7', 'offensiveBox': '2.0', 'winShares': '0.2', 'defensiveWs': '0.6', 'offensiveWs': '-0.4', 'per': '17.6', 'winSharesPer': '0.006', 'vorp': '0.7'}, {'playerName': 'Kobe Bryant*', 'position': 'SG', 'team': 'LAL', 'season': 2014, 'assistPercent': '34.600', 'blockPercent': '0.400', 'stealPercent': '1.900', 'tsPercent': '0.505', 'totalRbPercent': '7.800', 'defensiveRbPercent': '14.500', 'offensiveRbPercent': '1.200', 'threePAr': '0.219', 'usagePercent': '28.700', 'box': '-5.1', 'defensiveBox': '-2.1', 'offensiveBox': '-3.1', 'winShares': '-0.4', 'defensiveWs': '0.1', 'offensiveWs': '-0.5', 'per': '10.7', 'winSharesPer': '-0.097', 'vorp': '-0.1'}, {'playerName': 'Kobe Bryant*', 'position': 'SG', 'team': 'LAL', 'season': 2013, 'assistPercent': '29.700', 'blockPercent': '0.600', 'stealPercent': '1.800', 'tsPercent': '0.570', 'totalRbPercent': '7.900', 'defensiveRbPercent': '13.100', 'offensiveRbPercent': '2.500', 'threePAr': '0.255', 'usagePercent': '31.900', 'box': '4.6', 'defensiveBox': '-0.1', 'offensiveBox': '4.7', 'winShares': '10.9', 'defensiveWs': '2.6', 'offensiveWs': '8.4', 'per': '23.0', 'winSharesPer': '0.174', 'vorp': '5.0'}, {'playerName': 'Kobe Bryant*', 'position': 'SG', 'team': 'LAL', 'season': 2012, 'assistPercent': '23.700', 'blockPercent': '0.600', 'stealPercent': '1.600', 'tsPercent': '0.527', 'totalRbPercent': '7.800', 'defensiveRbPercent': '11.800', 'offensiveRbPercent': '3.500', 'threePAr': '0.215', 'usagePercent': '35.700', 'box': '3.3', 'defensiveBox': '-0.9', 'offensiveBox': '4.2', 'winShares': '6.2', 'defensiveWs': '2.0', 'offensiveWs': '4.2', 'per': '21.9', 'winSharesPer': '0.132', 'vorp': '2.9'}, {'playerName': 'Kobe Bryant*', 'position': 'SG', 'team': 'LAL', 'season': 2011, 'assistPercent': '26.700', 'blockPercent': '0.300', 'stealPercent': '1.900', 'tsPercent': '0.548', 'totalRbPercent': '8.500', 'defensiveRbPercent': '13.300', 'offensiveRbPercent': '3.500', 'threePAr': '0.217', 'usagePercent': '35.100', 'box': '5.2', 'defensiveBox': '-0.2', 'offensiveBox': '5.4', 'winShares': '10.3', 'defensiveWs': '3.5', 'offensiveWs': '6.8', 'per': '23.9', 'winSharesPer': '0.178', 'vorp': '5.0'}, {'playerName': 'Kobe Bryant*', 'position': 'SG', 'team': 'LAL', 'season': 2010, 'assistPercent': '23.800', 'blockPercent': '0.500', 'stealPercent': '2.100', 'tsPercent': '0.545', 'totalRbPercent': '7.700', 'defensiveRbPercent': '12.200', 'offensiveRbPercent': '3.100', 'threePAr': '0.192', 'usagePercent': '32.300', 'box': '4.1', 'defensiveBox': '0.2', 'offensiveBox': '3.9', 'winShares': '9.4', 'defensiveWs': '4.0', 'offensiveWs': '5.4', 'per': '21.9', 'winSharesPer': '0.160', 'vorp': '4.4'}, {'playerName': 'Kobe Bryant*', 'position': 'SG', 'team': 'LAL', 'season': 2009, 'assistPercent': '23.800', 'blockPercent': '1.000', 'stealPercent': '2.100', 'tsPercent': '0.561', 'totalRbPercent': '8.200', 'defensiveRbPercent': '12.800', 'offensiveRbPercent': '3.500', 'threePAr': '0.196', 'usagePercent': '32.200', 'box': '5.9', 'defensiveBox': '0.3', 'offensiveBox': '5.6', 'winShares': '12.7', 'defensiveWs': '4.0', 'offensiveWs': '8.6', 'per': '24.4', 'winSharesPer': '0.206', 'vorp': '5.9'}, {'playerName': 'Kobe Bryant*', 'position': 'SG', 'team': 'LAL', 'season': 2008, 'assistPercent': '23.900', 'blockPercent': '0.900', 'stealPercent': '2.400', 'tsPercent': '0.576', 'totalRbPercent': '9.000', 'defensiveRbPercent': '14.100', 'offensiveRbPercent': '3.400', 'threePAr': '0.246', 'usagePercent': '31.400', 'box': '5.8', 'defensiveBox': '0.6', 'offensiveBox': '5.2', 'winShares': '13.8', 'defensiveWs': '4.3', 'offensiveWs': '9.5', 'per': '24.2', 'winSharesPer': '0.208', 'vorp': '6.3'}, {'playerName': 'Kobe Bryant*', 'position': 'SG', 'team': 'LAL', 'season': 2007, 'assistPercent': '25.500', 'blockPercent': '0.900', 'stealPercent': '1.800', 'tsPercent': '0.580', 'totalRbPercent': '8.200', 'defensiveRbPercent': '13.500', 'offensiveRbPercent': '2.800', 'threePAr': '0.227', 'usagePercent': '33.600', 'box': '5.9', 'defensiveBox': '-0.5', 'offensiveBox': '6.4', 'winShares': '13.0', 'defensiveWs': '2.2', 'offensiveWs': '10.8', 'per': '26.1', 'winSharesPer': '0.199', 'vorp': '6.1'}, {'playerName': 'Kobe Bryant*', 'position': 'SG', 'team': 'LAL', 'season': 2006, 'assistPercent': '24.100', 'blockPercent': '0.700', 'stealPercent': '2.400', 'tsPercent': '0.559', 'totalRbPercent': '7.600', 'defensiveRbPercent': '12.700', 'offensiveRbPercent': '2.600', 'threePAr': '0.238', 'usagePercent': '38.700', 'box': '7.6', 'defensiveBox': '0.2', 'offensiveBox': '7.4', 'winShares': '15.3', 'defensiveWs': '3.7', 'offensiveWs': '11.6', 'per': '28.0', 'winSharesPer': '0.224', 'vorp': '8.0'}, {'playerName': 'Kobe Bryant*', 'position': 'SG', 'team': 'LAL', 'season': 2005, 'assistPercent': '28.500', 'blockPercent': '1.400', 'stealPercent': '1.700', 'tsPercent': '0.563', 'totalRbPercent': '8.200', 'defensiveRbPercent': '12.400', 'offensiveRbPercent': '4.000', 'threePAr': '0.292', 'usagePercent': '31.700', 'box': '5.0', 'defensiveBox': '-0.8', 'offensiveBox': '5.7', 'winShares': '8.1', 'defensiveWs': '1.0', 'offensiveWs': '7.1', 'per': '23.3', 'winSharesPer': '0.145', 'vorp': '4.7'}, {'playerName': 'Kobe Bryant*', 'position': 'SG', 'team': 'LAL', 'season': 2004, 'assistPercent': '24.400', 'blockPercent': '0.800', 'stealPercent': '2.400', 'tsPercent': '0.551', 'totalRbPercent': '8.300', 'defensiveRbPercent': '12.000', 'offensiveRbPercent': '4.700', 'threePAr': '0.184', 'usagePercent': '29.100', 'box': '5.6', 'defensiveBox': '0.5', 'offensiveBox': '5.1', 'winShares': '10.7', 'defensiveWs': '3.0', 'offensiveWs': '7.8', 'per': '23.7', 'winSharesPer': '0.210', 'vorp': '4.7'}, {'playerName': 'Kobe Bryant*', 'position': 'SG', 'team': 'LAL', 'season': 2003, 'assistPercent': '27.200', 'blockPercent': '1.400', 'stealPercent': '2.800', 'tsPercent': '0.550', 'totalRbPercent': '9.300', 'defensiveRbPercent': '15.300', 'offensiveRbPercent': '3.500', 'threePAr': '0.168', 'usagePercent': '32.900', 'box': '7.1', 'defensiveBox': '0.7', 'offensiveBox': '6.3', 'winShares': '14.9', 'defensiveWs': '4.0', 'offensiveWs': '11.0', 'per': '26.2', 'winSharesPer': '0.210', 'vorp': '7.7'}, {'playerName': 'Kobe Bryant*', 'position': 'SG', 'team': 'LAL', 'season': 2002, 'assistPercent': '25.900', 'blockPercent': '0.800', 'stealPercent': '2.000', 'tsPercent': '0.544', 'totalRbPercent': '7.900', 'defensiveRbPercent': '11.700', 'offensiveRbPercent': '4.100', 'threePAr': '0.083', 'usagePercent': '30.400', 'box': '4.6', 'defensiveBox': '0.3', 'offensiveBox': '4.3', 'winShares': '12.7', 'defensiveWs': '3.8', 'offensiveWs': '8.9', 'per': '23.2', 'winSharesPer': '0.199', 'vorp': '5.2'}, {'playerName': 'Kobe Bryant*', 'position': 'SG', 'team': 'LAL', 'season': 2001, 'assistPercent': '23.000', 'blockPercent': '1.100', 'stealPercent': '2.100', 'tsPercent': '0.552', 'totalRbPercent': '8.100', 'defensiveRbPercent': '11.800', 'offensiveRbPercent': '4.300', 'threePAr': '0.132', 'usagePercent': '31.800', 'box': '4.8', 'defensiveBox': '-0.3', 'offensiveBox': '5.1', 'winShares': '11.3', 'defensiveWs': '2.2', 'offensiveWs': '9.2', 'per': '24.5', 'winSharesPer': '0.196', 'vorp': '4.7'}, {'playerName': 'Kobe Bryant*', 'position': 'SG', 'team': 'LAL', 'season': 2000, 'assistPercent': '22.400', 'blockPercent': '1.700', 'stealPercent': '2.200', 'tsPercent': '0.546', 'totalRbPercent': '8.800', 'defensiveRbPercent': '12.900', 'offensiveRbPercent': '4.600', 'threePAr': '0.122', 'usagePercent': '26.800', 'box': '5.1', 'defensiveBox': '1.6', 'offensiveBox': '3.5', 'winShares': '10.6', 'defensiveWs': '4.5', 'offensiveWs': '6.1', 'per': '21.7', 'winSharesPer': '0.202', 'vorp': '4.5'}, {'playerName': 'Kobe Bryant*', 'position': 'SG', 'team': 'LAL', 'season': 1999, 'assistPercent': '17.500', 'blockPercent': '1.900', 'stealPercent': '2.000', 'tsPercent': '0.549', 'totalRbPercent': '8.100', 'defensiveRbPercent': '12.700', 'offensiveRbPercent': '3.300', 'threePAr': '0.130', 'usagePercent': '25.300', 'box': '2.1', 'defensiveBox': '-0.1', 'offensiveBox': '2.1', 'winShares': '5.2', 'defensiveWs': '1.5', 'offensiveWs': '3.7', 'per': '18.9', 'winSharesPer': '0.130', 'vorp': '1.9'}, {'playerName': 'Kobe Bryant*', 'position': 'SF', 'team': 'LAL', 'season': 1998, 'assistPercent': '16.000', 'blockPercent': '1.300', 'stealPercent': '1.800', 'tsPercent': '0.548', 'totalRbPercent': '6.700', 'defensiveRbPercent': '8.700', 'offensiveRbPercent': '4.500', 'threePAr': '0.241', 'usagePercent': '27.200', 'box': '1.4', 'defensiveBox': '-0.8', 'offensiveBox': '2.2', 'winShares': '6.3', 'defensiveWs': '1.8', 'offensiveWs': '4.5', 'per': '18.5', 'winSharesPer': '0.147', 'vorp': '1.8'}, {'playerName': 'Kobe Bryant*', 'position': 'SF', 'team': 'LAL', 'season': 1997, 'assistPercent': '13.800', 'blockPercent': '1.600', 'stealPercent': '2.300', 'tsPercent': '0.544', 'totalRbPercent': '6.800', 'defensiveRbPercent': '8.700', 'offensiveRbPercent': '4.900', 'threePAr': '0.322', 'usagePercent': '24.700', 'box': '-0.1', 'defensiveBox': '0.1', 'offensiveBox': '-0.2', 'winShares': '1.8', 'defensiveWs': '1.3', 'offensiveWs': '0.5', 'per': '14.4', 'winSharesPer': '0.079', 'vorp': '0.5'}]}\n"
     ]
    }
   ],
   "source": [
    "# Setup the transport and client\n",
    "_transport = RequestsHTTPTransport(\n",
    "    url='http://209.38.172.107/graphql/',\n",
    "    use_json=True,\n",
    ")\n",
    "\n",
    "client = Client(\n",
    "    transport = _transport,\n",
    "    fetch_schema_from_transport=True,\n",
    ")\n",
    "\n",
    "# Define Query\n",
    "query = gql('''\n",
    "query MyQueryCopy {\n",
    "  playerTotalsAll(name: \"Kobe Bryant\") {\n",
    "    playerName\n",
    "    position\n",
    "    team\n",
    "    season\n",
    "    assists\n",
    "    blocks\n",
    "    steals\n",
    "    defensiveRb\n",
    "    offensiveRb\n",
    "    totalRb\n",
    "    effectFgPercent\n",
    "    fieldAttempts\n",
    "    fieldGoals\n",
    "    fieldPercent\n",
    "    ft\n",
    "    ftAttempts\n",
    "    ftPercent\n",
    "    games\n",
    "    gamesStarted\n",
    "    minutesPg\n",
    "    threeAttempts\n",
    "    threeFg\n",
    "    threePercent\n",
    "    twoAttempts\n",
    "    twoFg\n",
    "    twoPercent\n",
    "    points\n",
    "  }\n",
    "  playerAdvancedAll(name: \"Kobe Bryant\") {\n",
    "    playerName\n",
    "    position\n",
    "    team\n",
    "    season\n",
    "    assistPercent\n",
    "    blockPercent\n",
    "    stealPercent\n",
    "    tsPercent\n",
    "    totalRbPercent\n",
    "    defensiveRbPercent\n",
    "    offensiveRbPercent\n",
    "    threePAr\n",
    "    usagePercent\n",
    "    box\n",
    "    defensiveBox\n",
    "    offensiveBox\n",
    "    winShares\n",
    "    defensiveWs\n",
    "    offensiveWs\n",
    "    per\n",
    "    winSharesPer\n",
    "    vorp\n",
    "  }\n",
    "}\n",
    "''')\n",
    "\n",
    "# Execute and store response\n",
    "\n",
    "response = client.execute(query)\n",
    "\n",
    "print(response)"
   ]
  }
 ],
 "metadata": {
  "kernelspec": {
   "display_name": "venv",
   "language": "python",
   "name": "python3"
  },
  "language_info": {
   "codemirror_mode": {
    "name": "ipython",
    "version": 3
   },
   "file_extension": ".py",
   "mimetype": "text/x-python",
   "name": "python",
   "nbconvert_exporter": "python",
   "pygments_lexer": "ipython3",
   "version": "3.10.4"
  }
 },
 "nbformat": 4,
 "nbformat_minor": 2
}
