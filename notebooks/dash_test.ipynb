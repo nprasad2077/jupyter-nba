{
 "cells": [
  {
   "cell_type": "markdown",
   "id": "bb2494e2",
   "metadata": {},
   "source": [
    "# Dash Testing"
   ]
  },
  {
   "cell_type": "code",
   "execution_count": 4,
   "id": "72c913e0",
   "metadata": {},
   "outputs": [],
   "source": [
    "import warnings\n",
    "warnings.filterwarnings(\"ignore\", category=DeprecationWarning)\n",
    "import plotly.graph_objs as go\n",
    "import matplotlib.pyplot as plt\n",
    "import numpy as np\n",
    "from gql import gql, Client\n",
    "from gql.transport.requests import RequestsHTTPTransport\n",
    "import pandas as pd\n",
    "import plotly.express as px\n",
    "\n",
    "from dash import Dash, dcc, html, Input, Output, callback"
   ]
  },
  {
   "cell_type": "code",
   "execution_count": 5,
   "id": "e26acf93",
   "metadata": {},
   "outputs": [
    {
     "name": "stdout",
     "output_type": "stream",
     "text": [
      "{'playerTotalsAll': [{'playerName': 'Kobe Bryant*', 'position': 'SG', 'team': 'LAL', 'season': 2006, 'minutesPg': '3277.0', 'points': 2832, 'id': '10755'}, {'playerName': 'James Harden', 'position': 'PG', 'team': 'HOU', 'season': 2019, 'minutesPg': '2867.0', 'points': 2818, 'id': '3118'}, {'playerName': 'Kevin Durant', 'position': 'SF', 'team': 'OKC', 'season': 2014, 'minutesPg': '3122.0', 'points': 2593, 'id': '6229'}, {'playerName': 'Russell Westbrook', 'position': 'PG', 'team': 'OKC', 'season': 2017, 'minutesPg': '2802.0', 'points': 2558, 'id': '4778'}, {'playerName': 'Michael Jordan*', 'position': 'SG', 'team': 'CHI', 'season': 1993, 'minutesPg': '3067.0', 'points': 2541, 'id': '17728'}, {'playerName': 'Michael Jordan*', 'position': 'SG', 'team': 'CHI', 'season': 1996, 'minutesPg': '3090.0', 'points': 2491, 'id': '16287'}, {'playerName': 'LeBron James', 'position': 'SF', 'team': 'CLE', 'season': 2006, 'minutesPg': '3361.0', 'points': 2478, 'id': '10931'}, {'playerName': 'Kevin Durant', 'position': 'SF', 'team': 'OKC', 'season': 2010, 'minutesPg': '3239.0', 'points': 2472, 'id': '8553'}, {'playerName': 'Kobe Bryant*', 'position': 'SG', 'team': 'LAL', 'season': 2003, 'minutesPg': '3401.0', 'points': 2461, 'id': '12472'}, {'playerName': 'Michael Jordan*', 'position': 'SG', 'team': 'CHI', 'season': 1997, 'minutesPg': '3106.0', 'points': 2431, 'id': '15734'}, {'playerName': 'Kobe Bryant*', 'position': 'SG', 'team': 'LAL', 'season': 2007, 'minutesPg': '3140.0', 'points': 2430, 'id': '10228'}, {'playerName': 'Tracy McGrady*', 'position': 'SG', 'team': 'ORL', 'season': 2003, 'minutesPg': '2954.0', 'points': 2407, 'id': '12688'}, {'playerName': 'Dwyane Wade*', 'position': 'SG', 'team': 'MIA', 'season': 2009, 'minutesPg': '3048.0', 'points': 2386, 'id': '9520'}, {'playerName': 'David Robinson*', 'position': 'C', 'team': 'SAS', 'season': 1994, 'minutesPg': '3241.0', 'points': 2383, 'id': '17422'}, {'playerName': 'Jerry Stackhouse', 'position': 'SG', 'team': 'DET', 'season': 2001, 'minutesPg': '3215.0', 'points': 2380, 'id': '13849'}, {'playerName': 'Allen Iverson*', 'position': 'PG', 'team': 'PHI', 'season': 2006, 'minutesPg': '3103.0', 'points': 2377, 'id': '10917'}, {'playerName': \"Shaquille O'Neal*\", 'position': 'C', 'team': 'ORL', 'season': 1994, 'minutesPg': '3224.0', 'points': 2377, 'id': '17376'}, {'playerName': 'James Harden', 'position': 'SG', 'team': 'HOU', 'season': 2016, 'minutesPg': '3125.0', 'points': 2376, 'id': '5021'}, {'playerName': 'Stephen Curry', 'position': 'PG', 'team': 'GSW', 'season': 2016, 'minutesPg': '2700.0', 'points': 2375, 'id': '4931'}, {'playerName': 'Michael Jordan*', 'position': 'SG', 'team': 'CHI', 'season': 1998, 'minutesPg': '3181.0', 'points': 2357, 'id': '15171'}, {'playerName': 'James Harden', 'position': 'PG', 'team': 'HOU', 'season': 2017, 'minutesPg': '2947.0', 'points': 2356, 'id': '4431'}, {'playerName': 'Gilbert Arenas', 'position': 'PG', 'team': 'WAS', 'season': 2006, 'minutesPg': '3384.0', 'points': 2346, 'id': '10690'}, {'playerName': \"Shaquille O'Neal*\", 'position': 'C', 'team': 'LAL', 'season': 2000, 'minutesPg': '3163.0', 'points': 2344, 'id': '14264'}, {'playerName': 'James Harden', 'position': 'SG', 'team': 'HOU', 'season': 2020, 'minutesPg': '2483.0', 'points': 2335, 'id': '2455'}, {'playerName': 'Kobe Bryant*', 'position': 'SG', 'team': 'LAL', 'season': 2008, 'minutesPg': '3192.0', 'points': 2323, 'id': '9646'}, {'playerName': \"Shaquille O'Neal*\", 'position': 'C', 'team': 'ORL', 'season': 1995, 'minutesPg': '2923.0', 'points': 2315, 'id': '16893'}, {'playerName': 'LeBron James', 'position': 'SF', 'team': 'CLE', 'season': 2009, 'minutesPg': '3054.0', 'points': 2304, 'id': '9254'}, {'playerName': 'Allen Iverson*', 'position': 'PG', 'team': 'PHI', 'season': 2005, 'minutesPg': '3174.0', 'points': 2302, 'id': '11492'}, {'playerName': 'Kevin Durant', 'position': 'SF', 'team': 'OKC', 'season': 2013, 'minutesPg': '3119.0', 'points': 2280, 'id': '6803'}, {'playerName': 'Allen Iverson*', 'position': 'SG', 'team': 'PHI', 'season': 2003, 'minutesPg': '3485.0', 'points': 2262, 'id': '12615'}, {'playerName': 'LeBron James', 'position': 'SF', 'team': 'CLE', 'season': 2010, 'minutesPg': '2966.0', 'points': 2258, 'id': '8689'}, {'playerName': 'LeBron James', 'position': 'PF', 'team': 'CLE', 'season': 2018, 'minutesPg': '3026.0', 'points': 2251, 'id': '3860'}, {'playerName': 'LeBron James', 'position': 'SF', 'team': 'CLE', 'season': 2008, 'minutesPg': '3027.0', 'points': 2250, 'id': '9838'}, {'playerName': 'Karl Malone*', 'position': 'PF', 'team': 'UTA', 'season': 1997, 'minutesPg': '2998.0', 'points': 2249, 'id': '15781'}, {'playerName': 'David Robinson*', 'position': 'C', 'team': 'SAS', 'season': 1995, 'minutesPg': '3074.0', 'points': 2238, 'id': '16939'}]}\n"
     ]
    }
   ],
   "source": [
    "# Setup the transport and client\n",
    "_transport = RequestsHTTPTransport(\n",
    "    url='http://127.0.0.1:8000/graphql/',\n",
    "    use_json=True,\n",
    ")\n",
    "\n",
    "client = Client(\n",
    "    transport = _transport,\n",
    "    fetch_schema_from_transport=True,\n",
    ")\n",
    "\n",
    "# Define Query\n",
    "query = gql('''\n",
    "query playerPointTotals {\n",
    "  playerTotalsAll(limit: 35, ordering: \"-points\") {\n",
    "    playerName\n",
    "    position\n",
    "    team\n",
    "    season\n",
    "    minutesPg\n",
    "    points\n",
    "    id\n",
    "  }\n",
    "}\n",
    "''')\n",
    "\n",
    "# Execute and store response\n",
    "\n",
    "response = client.execute(query)\n",
    "\n",
    "print(response)"
   ]
  },
  {
   "cell_type": "code",
   "execution_count": 9,
   "id": "2fcfa4ee",
   "metadata": {},
   "outputs": [
    {
     "data": {
      "text/html": [
       "\n",
       "        <iframe\n",
       "            width=\"100%\"\n",
       "            height=\"650\"\n",
       "            src=\"http://127.0.0.1:8050/\"\n",
       "            frameborder=\"0\"\n",
       "            allowfullscreen\n",
       "            \n",
       "        ></iframe>\n",
       "        "
      ],
      "text/plain": [
       "<IPython.lib.display.IFrame at 0x7f6a4ca2fd50>"
      ]
     },
     "metadata": {},
     "output_type": "display_data"
    }
   ],
   "source": [
    "app = Dash(__name__)\n",
    "\n",
    "df= pd.DataFrame(response['playerTotalsAll'])\n",
    "df['minutesPg'] = df['minutesPg'].astype(float)\n",
    "\n",
    "app.layout = html.Div([\n",
    "    html.Div([\n",
    "\n",
    "        html.Div([\n",
    "            dcc.Dropdown(\n",
    "                id='xaxis-column',\n",
    "                options=[{'label': i, 'value': i} for i in df.columns],\n",
    "                value='minutesPg'\n",
    "            ),\n",
    "            dcc.RadioItems(\n",
    "                id='xaxis-type',\n",
    "                options=[{'label': i, 'value': i} for i in ['Linear', 'Log']],\n",
    "                value='Linear',\n",
    "                inline=True\n",
    "            )\n",
    "        ], style={'width': '48%', 'display': 'inline-block'}),\n",
    "        \n",
    "        html.Div([\n",
    "            dcc.Dropdown(\n",
    "                id='yaxis-column',\n",
    "                options=[{'label': i, 'value': i} for i in df.columns],\n",
    "                value='points'\n",
    "            ),\n",
    "            dcc.RadioItems(\n",
    "                id='yaxis-type',\n",
    "                inline=True,\n",
    "                options=[{'label': i, 'value': i} for i in ['Linear', 'Log']],\n",
    "                value='Linear'\n",
    "            )\n",
    "        ], style={'width': '48%', 'float': 'right', 'display': 'inline-block'}),\n",
    "        \n",
    "    ]),\n",
    "\n",
    "    dcc.Graph(id='indicator-graphic'),\n",
    "\n",
    "    dcc.Slider(\n",
    "        min=df['season'].min(),\n",
    "        max=df['season'].max(),\n",
    "        step=None,\n",
    "        id='season-slider',\n",
    "        value=df['season'].max(),\n",
    "        marks={str(season): str(season) for season in df['season'].unique()},\n",
    "    )\n",
    "])\n",
    "\n",
    "\n",
    "@callback(\n",
    "    Output('indicator-graphic', 'figure'),\n",
    "    Input('xaxis-column', 'value'),\n",
    "    Input('yaxis-column', 'value'),\n",
    "    Input('xaxis-type', 'value'),\n",
    "    Input('yaxis-type', 'value'),\n",
    "    Input('season-slider', 'value'))\n",
    "def update_graph(xaxis_column_name, yaxis_column_name,\n",
    "                 xaxis_type, yaxis_type,\n",
    "                 season_value):\n",
    "    dff = df[df['season'] == season_value]\n",
    "\n",
    "    fig = px.scatter(dff, x=xaxis_column_name, y=yaxis_column_name, hover_name='playerName')\n",
    "\n",
    "    fig.update_layout(margin={'l': 40, 'b': 40, 't': 10, 'r': 0}, hovermode='closest')\n",
    "\n",
    "    fig.update_xaxes(title=xaxis_column_name,\n",
    "                     type='linear' if xaxis_type == 'Linear' else 'log')\n",
    "\n",
    "    fig.update_yaxes(title=yaxis_column_name,\n",
    "                     type='linear' if yaxis_type == 'Linear' else 'log')\n",
    "\n",
    "    return fig\n",
    "\n",
    "\n",
    "if __name__ == '__main__':\n",
    "    app.run(debug=True)\n",
    "\n"
   ]
  }
 ],
 "metadata": {
  "kernelspec": {
   "display_name": "venv",
   "language": "python",
   "name": "python3"
  },
  "language_info": {
   "codemirror_mode": {
    "name": "ipython",
    "version": 3
   },
   "file_extension": ".py",
   "mimetype": "text/x-python",
   "name": "python",
   "nbconvert_exporter": "python",
   "pygments_lexer": "ipython3",
   "version": "3.11.2"
  }
 },
 "nbformat": 4,
 "nbformat_minor": 5
}
